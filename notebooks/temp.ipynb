{
 "cells": [
  {
   "cell_type": "code",
   "source": [
    "from analysis.nlp_transformations import lemmatize_text\n",
    "from models.email import EmailGeneratedInDB\n",
    "from dao.email import DAOEmailGenerated\n",
    "from typing import List\n",
    "from tqdm import tqdm"
   ],
   "metadata": {
    "collapsed": false,
    "ExecuteTime": {
     "end_time": "2024-03-30T23:53:00.557942Z",
     "start_time": "2024-03-30T23:52:56.193637Z"
    }
   },
   "execution_count": 1,
   "outputs": []
  },
  {
   "cell_type": "code",
   "execution_count": 2,
   "source": [
    "dao = DAOEmailGenerated()\n",
    "emails: List[EmailGeneratedInDB] = dao.find_all()"
   ],
   "metadata": {
    "collapsed": false,
    "ExecuteTime": {
     "end_time": "2024-03-30T23:53:42.895494Z",
     "start_time": "2024-03-30T23:53:12.547897Z"
    }
   },
   "outputs": []
  },
  {
   "cell_type": "code",
   "source": [],
   "metadata": {
    "collapsed": false
   },
   "execution_count": null,
   "outputs": []
  }
 ],
 "metadata": {
  "kernelspec": {
   "display_name": "Python 3",
   "language": "python",
   "name": "python3"
  },
  "language_info": {
   "codemirror_mode": {
    "name": "ipython",
    "version": 2
   },
   "file_extension": ".py",
   "mimetype": "text/x-python",
   "name": "python",
   "nbconvert_exporter": "python",
   "pygments_lexer": "ipython2",
   "version": "2.7.6"
  }
 },
 "nbformat": 4,
 "nbformat_minor": 0
}
