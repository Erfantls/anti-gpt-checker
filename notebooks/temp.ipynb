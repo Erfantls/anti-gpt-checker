{
 "cells": [
  {
   "metadata": {
    "ExecuteTime": {
     "end_time": "2024-12-19T22:59:38.101346Z",
     "start_time": "2024-12-19T22:59:34.561552Z"
    }
   },
   "cell_type": "code",
   "source": "from analysis.nlp_transformations import split_text_on_regex_match",
   "outputs": [],
   "execution_count": 1
  },
  {
   "metadata": {
    "ExecuteTime": {
     "end_time": "2024-12-19T22:59:38.714095Z",
     "start_time": "2024-12-19T22:59:38.710306Z"
    }
   },
   "cell_type": "code",
   "source": "really_long_text = \"\"\"W pewne pochmurne popołudnie, gdy deszczowe krople miarowo spływały po omszałych dachówkach starych kamienic i leniwie zbierały się w niewielkie strumyczki toczące się wzdłuż krzywych rynien, a ludzie, skryci pod wielobarwnymi parasolami, przyspieszali kroku, próbując dotrzeć do ciepła swoich mieszkań, kawiarni i sklepów, w których czekały na nich aromaty świeżo zmielonej kawy oraz kusząco pachnące ciastka, chodniki były wilgotne i śliskie niczym błyszczące tafle szkła, po których niosły zastanowienia nad tym, jak bardzo nieuchwytne i ulotne potrafią być najzwyklejsze chwile dnia codziennego, w którym każdy człowiek, niezależnie od celu swojej wędrówki, pragnie znaleźć odrobinę spokoju, ciepła i nadziei, zanim nocne cienie ponownie przykryją ulice grubą kołdrą ciemności.Rysunek 9: Przepustowości dla trzech sieci NAZWISKO dla delay 10ms Rysunek 10: Przepustowości dla trzech sieci NAZWISKO dla delay 30ms Rysunek 11: Przepustowości dla trzech sieci NAZWISKO dla delay 50ms Rysunek 12: Przepustowości dla trzech sieci NAZWISKO dla delay 70ms Rysunek 13: Przepustowości dla trzech sieci NAZWISKO dla delay 90ms Rysunek 14: Przepustowości dla trzech sieci NAZWISKO dla delay 10ms, 50ms, 100ms Rysunek 15: Przepustowości dla trzech sieci NAZWISKO dla delay 15ms, 75ms, 150ms Rysunek 16: Przepustowości dla trzech sieci NAZWISKO dla delay 20ms, 100ms, 200ms Rysunek 17: Przepustowości dla trzech sieci NAZWISKO dla delay 25ms, 125ms, 250ms Rysunek 18: Przepustowości dla trzech sieci NAZWISKO dla delay 30ms, 150ms, 300ms 4.2 Wnioski Obserwując wykresy, stwierdzamy, że w przypadku równego rozdzielenia delay’u (1:1:1) przepustowość wynosi mniej więcej tyle samo dla każdej sieci NAZWISKO.\"\"\"",
   "outputs": [],
   "execution_count": 2
  },
  {
   "metadata": {
    "ExecuteTime": {
     "end_time": "2024-12-19T22:59:39.457083Z",
     "start_time": "2024-12-19T22:59:39.453460Z"
    }
   },
   "cell_type": "code",
   "source": "sentences = split_text_on_regex_match(really_long_text)",
   "outputs": [],
   "execution_count": 3
  },
  {
   "metadata": {
    "ExecuteTime": {
     "end_time": "2024-12-19T22:59:40.491297Z",
     "start_time": "2024-12-19T22:59:40.485635Z"
    }
   },
   "cell_type": "code",
   "source": "sentences",
   "outputs": [
    {
     "data": {
      "text/plain": [
       "['W pewne pochmurne popołudnie, gdy deszczowe krople miarowo spływały po omszałych dachówkach starych kamienic i leniwie zbierały się w niewielkie strumyczki toczące się wzdłuż krzywych rynien, a ludzie, skryci pod wielobarwnymi parasolami, przyspieszali kroku, próbując dotrzeć do ciepła swoich mieszkań, kawiarni i sklepów, w których czekały na nich aromaty świeżo zmielonej kawy oraz kusząco pachnące ciastka, chodniki były wilgotne i śliskie niczym błyszczące tafle szkła, po których niosły zastanowienia nad tym, jak bardzo nieuchwytne i ulotne potrafią być najzwyklejsze chwile dnia codziennego, w którym każdy człowiek, niezależnie od celu swojej wędrówki, pragnie znaleźć odrobinę spokoju, ciepła i nadziei, zanim nocne cienie ponownie przykryją ulice grubą kołdrą ciemności.',\n",
       " 'Rysunek 9: Przepustowości dla trzech sieci NAZWISKO dla delay 10ms',\n",
       " 'Rysunek 10: Przepustowości dla trzech sieci NAZWISKO dla delay 30ms',\n",
       " 'Rysunek 11: Przepustowości dla trzech sieci NAZWISKO dla delay 50ms',\n",
       " 'Rysunek 12: Przepustowości dla trzech sieci NAZWISKO dla delay 70ms',\n",
       " 'Rysunek 13: Przepustowości dla trzech sieci NAZWISKO dla delay 90ms',\n",
       " 'Rysunek 14: Przepustowości dla trzech sieci NAZWISKO dla delay 10ms, 50ms, 100ms',\n",
       " 'Rysunek 15: Przepustowości dla trzech sieci NAZWISKO dla delay 15ms, 75ms, 150ms',\n",
       " 'Rysunek 16: Przepustowości dla trzech sieci NAZWISKO dla delay 20ms, 100ms, 200ms',\n",
       " 'Rysunek 17: Przepustowości dla trzech sieci NAZWISKO dla delay 25ms, 125ms, 250ms',\n",
       " 'Rysunek 18: Przepustowości dla trzech sieci NAZWISKO dla delay 30ms, 150ms, 300ms 4.2 Wnioski Obserwując wykresy, stwierdzamy, że w przypadku równego rozdzielenia delay’u (1:1:1) przepustowość wynosi mniej więcej tyle samo dla każdej sieci NAZWISKO.']"
      ]
     },
     "execution_count": 4,
     "metadata": {},
     "output_type": "execute_result"
    }
   ],
   "execution_count": 4
  },
  {
   "metadata": {},
   "cell_type": "code",
   "outputs": [],
   "execution_count": null,
   "source": ""
  }
 ],
 "metadata": {
  "kernelspec": {
   "display_name": "Python 3",
   "language": "python",
   "name": "python3"
  },
  "language_info": {
   "codemirror_mode": {
    "name": "ipython",
    "version": 2
   },
   "file_extension": ".py",
   "mimetype": "text/x-python",
   "name": "python",
   "nbconvert_exporter": "python",
   "pygments_lexer": "ipython2",
   "version": "2.7.6"
  }
 },
 "nbformat": 4,
 "nbformat_minor": 0
}
