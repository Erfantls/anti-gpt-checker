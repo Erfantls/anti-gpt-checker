{
 "cells": [
  {
   "cell_type": "code",
   "id": "initial_id",
   "metadata": {
    "collapsed": true,
    "ExecuteTime": {
     "end_time": "2024-04-22T20:15:49.313770Z",
     "start_time": "2024-04-22T20:15:24.282503Z"
    }
   },
   "source": [
    "from analysis.attribute_retriving import spelling_and_grammar_check\n",
    "from tqdm import tqdm\n",
    "from analysis.nlp_transformations import separate_previous_conversation, remove_footers\n",
    "from typing import List\n",
    "from dao.email import DAOEmailGenerated, DAORealEmail\n",
    "\n",
    "from dao.attribute import DAOAttribute\n",
    "from analysis.nlp_transformations import replace_links_with_text"
   ],
   "outputs": [
    {
     "name": "stderr",
     "output_type": "stream",
     "text": [
      "[nltk_data] Downloading package stopwords to /home/pawel/nltk_data...\n",
      "[nltk_data]   Package stopwords is already up-to-date!\n",
      "[nltk_data] Downloading package punkt to /home/pawel/nltk_data...\n",
      "[nltk_data]   Package punkt is already up-to-date!\n",
      "[nltk_data] Downloading package pl196x to /home/pawel/nltk_data...\n",
      "[nltk_data]   Package pl196x is already up-to-date!\n",
      "[nltk_data] Downloading package wordnet to /home/pawel/nltk_data...\n",
      "[nltk_data]   Package wordnet is already up-to-date!\n"
     ]
    }
   ],
   "execution_count": 1
  },
  {
   "metadata": {
    "ExecuteTime": {
     "end_time": "2024-04-22T20:15:58.315593Z",
     "start_time": "2024-04-22T20:15:49.315424Z"
    }
   },
   "cell_type": "code",
   "source": [
    "from config import init_language_tool_pl, init_language_tool_en\n",
    "init_language_tool_pl()\n",
    "init_language_tool_en()"
   ],
   "id": "d423734a17eea462",
   "outputs": [],
   "execution_count": 2
  },
  {
   "metadata": {
    "ExecuteTime": {
     "end_time": "2024-04-22T20:16:05.685741Z",
     "start_time": "2024-04-22T20:16:03.113557Z"
    }
   },
   "cell_type": "code",
   "source": [
    "text_pl = \"Oto kilkanaście zdań w języku polskim które zawierają różnorodne formy interpunkcyjne i struktury zdaniowe. Jak się dzisiaj czujesz? Dlaczego niebo jest niebieskie? Czy wiesz, że Ks. Jan Twardowski był znanym polskim poetą? Uwaga! Proszę nie biec po korytarzu. Gdzie jest najbliższa apteka? Ile to kosztuje? To niesamowite, że możemy rozmawiać online! Co sądzisz o najnowszych odkryciach w kosmosie? Pamiętaj, że drzwi otwierają się o godz. 8:00 rano! Czy możesz mi podać sól? Kto zostanie nowym prezydentem Stanów Zjednoczonych? Wow! To było naprawdę ekscytujące. Jak możemy efektywniej oszczędzać energię? Czy znasz jakieś dobre przepisy na ciasto? Dr M. Nowak będzie dziś wygłaszać wykład na uniwersytecie. Czy myślisz, że sztuczna inteligencja może przewyższyć ludzką kreatywność?\"\n",
    "spelling_and_grammar_check(text_pl, \"pl\")"
   ],
   "id": "dfc96aedd288f597",
   "outputs": [
    {
     "data": {
      "text/plain": [
       "({'PUNCTUATION': 1}, 1)"
      ]
     },
     "execution_count": 3,
     "metadata": {},
     "output_type": "execute_result"
    }
   ],
   "execution_count": 3
  },
  {
   "metadata": {
    "ExecuteTime": {
     "end_time": "2024-04-22T20:16:09.144663Z",
     "start_time": "2024-04-22T20:16:06.388164Z"
    }
   },
   "cell_type": "code",
   "source": [
    "text = \"This is an text that contain several errors. Firstly, the use of incorrect articles and verb forms is common. There also mistakes in tense consistency and punctuation! Secondly, their could be better word choices. Furthermore, few sentences starts with conjunctions, which isn't always suitable. Lastly, is the use of 'an'  before words starting with consonant sounds.\"\n",
    "spelling_and_grammar_check(text, \"en\")"
   ],
   "id": "3a3e23ae7927e1eb",
   "outputs": [
    {
     "data": {
      "text/plain": [
       "({'MISC': 1,\n",
       "  'CONFUSED_WORDS': 1,\n",
       "  'GRAMMAR': 1,\n",
       "  'PUNCTUATION': 1,\n",
       "  'TYPOGRAPHY': 1},\n",
       " 5)"
      ]
     },
     "execution_count": 4,
     "metadata": {},
     "output_type": "execute_result"
    }
   ],
   "execution_count": 4
  },
  {
   "metadata": {
    "ExecuteTime": {
     "end_time": "2024-04-22T21:59:46.898766Z",
     "start_time": "2024-04-22T20:16:10.222182Z"
    }
   },
   "cell_type": "code",
   "source": [
    "from analysis.attribute_retriving import measure_text_features\n",
    "from models.attribute import AttributeInDB\n",
    "\n",
    "dao_generated_emails: DAOEmailGenerated = DAOEmailGenerated()\n",
    "dao_real_emails: DAORealEmail = DAORealEmail()\n",
    "dao_attribute: DAOAttribute = DAOAttribute()\n",
    "english_batch = []\n",
    "polish_batch = []\n",
    "\n",
    "all_attributes: List[AttributeInDB] = dao_attribute.find_many_by_query({})\n",
    "\n",
    "for attribute in tqdm(all_attributes, total=len(all_attributes), desc=f'Calculating spelling and grammar attributes', unit='emails', miniters=1):\n",
    "    if attribute.referenced_db_name == 'email_generated_dataset':\n",
    "        og_email = dao_generated_emails.find_one_by_query({'_id': attribute.referenced_doc_id})\n",
    "        language = og_email.language\n",
    "    else:\n",
    "        og_email = dao_real_emails.find_one(attribute.referenced_db_name, {'_id': attribute.referenced_doc_id})\n",
    "        language = og_email.detected_language\n",
    "    \n",
    "    _, og_text = separate_previous_conversation(og_email.text_plain)\n",
    "    og_text = remove_footers(og_text)\n",
    "    og_text = replace_links_with_text(og_text, \"[link]\")\n",
    "    \n",
    "    text_errors_by_category, number_of_errors = spelling_and_grammar_check(og_text, language)\n",
    "    simple_text_features = measure_text_features(og_text)\n",
    "    dao_attribute.update_one({'_id': attribute.id}, {'$set':{\n",
    "        'text_errors_by_category': text_errors_by_category,\n",
    "        'number_of_errors': number_of_errors,\n",
    "        'double_spaces': simple_text_features['double_spaces'],\n",
    "        'no_space_after_punctuation': simple_text_features['no_space_after_punctuation'],\n",
    "        'emojis': simple_text_features['emojis'],\n",
    "        'question_marks': simple_text_features['question_marks'],\n",
    "        'exclamation_marks': simple_text_features['exclamation_marks'],\n",
    "        'double_question_marks': simple_text_features['double_question_marks'],\n",
    "        'double_exclamation_marks': simple_text_features['double_exclamation_marks'],\n",
    "    }})\n"
   ],
   "id": "f89de71ad88aff5e",
   "outputs": [
    {
     "name": "stderr",
     "output_type": "stream",
     "text": [
      "Calculating spelling and grammar attributes: 100%|██████████| 32724/32724 [1:43:27<00:00,  5.27emails/s]  \n"
     ]
    }
   ],
   "execution_count": 5
  },
  {
   "metadata": {},
   "cell_type": "code",
   "outputs": [],
   "execution_count": null,
   "source": "",
   "id": "605c6a75f205ca50"
  }
 ],
 "metadata": {
  "kernelspec": {
   "display_name": "Python 3",
   "language": "python",
   "name": "python3"
  },
  "language_info": {
   "codemirror_mode": {
    "name": "ipython",
    "version": 2
   },
   "file_extension": ".py",
   "mimetype": "text/x-python",
   "name": "python",
   "nbconvert_exporter": "python",
   "pygments_lexer": "ipython2",
   "version": "2.7.6"
  }
 },
 "nbformat": 4,
 "nbformat_minor": 5
}
