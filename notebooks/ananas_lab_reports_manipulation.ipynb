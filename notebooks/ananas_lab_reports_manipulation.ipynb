{
 "cells": [
  {
   "cell_type": "code",
   "id": "initial_id",
   "metadata": {
    "collapsed": true,
    "ExecuteTime": {
     "end_time": "2024-10-29T19:55:36.119072Z",
     "start_time": "2024-10-29T19:55:31.978747Z"
    }
   },
   "source": [
    "import os\n",
    "from dao.lab_report import DAOLabReport\n",
    "from models.lab_report import LabReport\n",
    "\n",
    "dao = DAOLabReport()"
   ],
   "outputs": [
    {
     "name": "stderr",
     "output_type": "stream",
     "text": [
      "[nltk_data] Downloading package stopwords to /home/pawel/nltk_data...\n",
      "[nltk_data]   Package stopwords is already up-to-date!\n",
      "[nltk_data] Downloading package punkt to /home/pawel/nltk_data...\n",
      "[nltk_data]   Package punkt is already up-to-date!\n",
      "[nltk_data] Downloading package pl196x to /home/pawel/nltk_data...\n",
      "[nltk_data]   Package pl196x is already up-to-date!\n",
      "[nltk_data] Downloading package wordnet to /home/pawel/nltk_data...\n",
      "[nltk_data]   Package wordnet is already up-to-date!\n"
     ]
    }
   ],
   "execution_count": 1
  },
  {
   "metadata": {
    "ExecuteTime": {
     "end_time": "2024-10-29T19:55:36.127418Z",
     "start_time": "2024-10-29T19:55:36.120981Z"
    }
   },
   "cell_type": "code",
   "source": [
    "def save_text_files_to_mongo(directory_path: str, is_generated: bool):\n",
    "    # Check if the directory exists\n",
    "    if not os.path.isdir(directory_path):\n",
    "        print(f\"The directory {directory_path} does not exist.\")\n",
    "        return\n",
    "    \n",
    "    # Loop through each file in the directory\n",
    "    for filename in os.listdir(directory_path):\n",
    "        # Check if the file has a .txt extension\n",
    "        if filename.endswith(\".txt\"):\n",
    "            file_path = os.path.join(directory_path, filename)\n",
    "            # Open and read the file\n",
    "            with open(file_path, 'r', encoding='utf-8') as file:\n",
    "                content = file.readlines()\n",
    "                non_blank_lines = [line.strip() for line in content if line.strip()]\n",
    "                content = '\\n'.join(non_blank_lines)\n",
    "                # Save the content to MongoDB\n",
    "                lab_report = LabReport(\n",
    "                    plaintext_content=content,\n",
    "                    tag=filename,\n",
    "                    is_generated=is_generated\n",
    "                )\n",
    "                dao.insert_one(lab_report)"
   ],
   "id": "ea88fdb33f45a3",
   "outputs": [],
   "execution_count": 2
  },
  {
   "metadata": {
    "ExecuteTime": {
     "end_time": "2024-10-29T19:57:14.842900Z",
     "start_time": "2024-10-29T19:57:10.319634Z"
    }
   },
   "cell_type": "code",
   "source": "save_text_files_to_mongo(\"/mnt/d/OneDrive/Politechnika/ANANAS/Data/Sprawozdania/results/expansions/gpt-4o-mini/20241024_001310\", is_generated=True)",
   "id": "88fd6c238bb3f7dd",
   "outputs": [],
   "execution_count": 5
  },
  {
   "metadata": {},
   "cell_type": "code",
   "outputs": [],
   "execution_count": null,
   "source": "",
   "id": "d300b023b4abb25"
  }
 ],
 "metadata": {
  "kernelspec": {
   "display_name": "Python 3",
   "language": "python",
   "name": "python3"
  },
  "language_info": {
   "codemirror_mode": {
    "name": "ipython",
    "version": 2
   },
   "file_extension": ".py",
   "mimetype": "text/x-python",
   "name": "python",
   "nbconvert_exporter": "python",
   "pygments_lexer": "ipython2",
   "version": "2.7.6"
  }
 },
 "nbformat": 4,
 "nbformat_minor": 5
}
