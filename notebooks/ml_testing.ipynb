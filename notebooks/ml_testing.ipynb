{
 "cells": [
  {
   "cell_type": "code",
   "id": "initial_id",
   "metadata": {
    "collapsed": true,
    "ExecuteTime": {
     "end_time": "2024-05-21T15:59:55.850903Z",
     "start_time": "2024-05-21T15:59:50.285144Z"
    }
   },
   "source": [
    "from typing import List\n",
    "from dao.email import DAOEmailGenerated, DAORealEmail\n",
    "\n",
    "from dao.attribute import DAOAttribute\n",
    "\n",
    "from ml.model_training import evaluate_models, k_fold_cross_validation\n",
    "from ml.data_preparation import convert_db_attributes_to_input_data"
   ],
   "outputs": [
    {
     "name": "stderr",
     "output_type": "stream",
     "text": [
      "[nltk_data] Downloading package stopwords to /home/pawel/nltk_data...\n",
      "[nltk_data]   Package stopwords is already up-to-date!\n",
      "[nltk_data] Downloading package punkt to /home/pawel/nltk_data...\n",
      "[nltk_data]   Package punkt is already up-to-date!\n",
      "[nltk_data] Downloading package pl196x to /home/pawel/nltk_data...\n",
      "[nltk_data]   Package pl196x is already up-to-date!\n",
      "[nltk_data] Downloading package wordnet to /home/pawel/nltk_data...\n",
      "[nltk_data]   Package wordnet is already up-to-date!\n"
     ]
    }
   ],
   "execution_count": 1
  },
  {
   "metadata": {
    "ExecuteTime": {
     "end_time": "2024-05-21T16:00:54.334516Z",
     "start_time": "2024-05-21T15:59:55.855107Z"
    }
   },
   "cell_type": "code",
   "source": [
    "from models.attribute import AttributeInDB\n",
    "\n",
    "dao_generated_emails: DAOEmailGenerated = DAOEmailGenerated()\n",
    "dao_real_emails: DAORealEmail = DAORealEmail()\n",
    "dao_attribute: DAOAttribute = DAOAttribute()\n",
    "\n",
    "\n",
    "all_attributes: List[AttributeInDB] = dao_attribute.find_many_by_query({})\n",
    "all_generated: List[AttributeInDB] = dao_attribute.find_many_by_query({'is_generated': True})\n",
    "all_real: List[AttributeInDB] = dao_attribute.find_many_by_query({'is_generated': False})\n",
    "\n",
    "generated_personal: List[AttributeInDB] = dao_attribute.find_many_by_query({\"is_generated\": True, 'is_personal': True})\n",
    "real_personal: List[AttributeInDB] = dao_attribute.find_many_by_query({\"is_generated\": False, 'is_personal': True})\n",
    "\n",
    "generated_personal = [attribute for attribute in generated_personal if attribute is not None]\n",
    "real_personal = [attribute for attribute in real_personal if attribute is not None]\n",
    "\n",
    "pl_generated: List[AttributeInDB] = dao_attribute.find_many_by_query({\"is_generated\": True, 'language': 'pl'})\n",
    "pl_real: List[AttributeInDB] = dao_attribute.find_many_by_query({\"is_generated\": False, 'language': 'pl'})\n",
    "\n",
    "en_generated: List[AttributeInDB] = dao_attribute.find_many_by_query({\"is_generated\": True, 'language': 'en'})\n",
    "en_real: List[AttributeInDB] = dao_attribute.find_many_by_query({\"is_generated\": False, 'language': 'en'})\n",
    "\n",
    "pl_generated_personal: List[AttributeInDB] = dao_attribute.find_many_by_query({\"is_generated\": True, 'language': 'pl', 'is_personal': True})\n",
    "pl_real_personal: List[AttributeInDB] = dao_attribute.find_many_by_query({\"is_generated\": False, 'language': 'pl', 'is_personal': True})\n",
    "\n",
    "en_generated_personal: List[AttributeInDB] = dao_attribute.find_many_by_query({\"is_generated\": True, 'language': 'en', 'is_personal': True})\n",
    "en_real_personal: List[AttributeInDB] = dao_attribute.find_many_by_query({\"is_generated\": False, 'language': 'en', 'is_personal': True})"
   ],
   "id": "149455ad8d659a2c",
   "outputs": [],
   "execution_count": 2
  },
  {
   "metadata": {
    "ExecuteTime": {
     "end_time": "2024-05-21T20:51:12.219048Z",
     "start_time": "2024-05-21T20:50:35.268670Z"
    }
   },
   "cell_type": "code",
   "source": [
    "generated = en_generated_personal\n",
    "real = en_real_personal\n",
    "num_of_features = 245\n",
    "\n",
    "data = convert_db_attributes_to_input_data(generated, real, num_of_features)"
   ],
   "id": "10edb111f023f9b7",
   "outputs": [],
   "execution_count": 19
  },
  {
   "metadata": {
    "ExecuteTime": {
     "end_time": "2024-05-19T16:01:16.596411Z",
     "start_time": "2024-05-19T16:00:50.569259Z"
    }
   },
   "cell_type": "code",
   "source": [
    "from ml.data_preparation import find_significant_features\n",
    "\n",
    "data_temp = [(x.to_flat_dict_normalized(), 1) for x in generated]\n",
    "data_temp += [(x.to_flat_dict_normalized(), 0) for x in real]\n",
    "# replace None with 0\n",
    "for i in range(len(data_temp)):\n",
    "    for key in data_temp[i][0].keys():\n",
    "        if data_temp[i][0][key] is None:\n",
    "            data_temp[i][0][key] = 0\n",
    "\n",
    "significant_features = find_significant_features(data_temp)\n",
    "print(significant_features)"
   ],
   "id": "4a3405a84c6371dc",
   "outputs": [
    {
     "name": "stdout",
     "output_type": "stream",
     "text": [
      "['number_of_errors', 'no_space_after_punctuation', 'variance_word_char_length', 'standard_deviation_word_char_length', 'variance_sentence_char_length', 'standard_deviation_sentence_char_length', 'standard_deviation_sentence_word_length', 'variance_sentence_word_length', 'double_spaces', 'text_errors_by_category.TYPOS', 'punctuation_per_sentence', 'average_word_char_length', 'punctuation_density', 'perplexity', 'average_sentence_char_length', 'burstiness2', 'average_sentence_word_length', 'text_errors_by_category.TYPOGRAPHY', 'burstiness', 'number_of_characters', 'number_of_sentences', 'text_errors_by_category.PUNCTUATION', 'text_errors_by_category.CASING', 'number_of_words', 'question_marks', 'exclamation_marks', 'text_errors_by_category.GRAMMAR', 'text_errors_by_category.MISC', 'text_errors_by_category.REPETITIONS_STYLE', 'text_errors_by_category.REDUNDANCY', 'stylometrix_metrics.syntactic.SY_SUBORD_SENT', 'text_errors_by_category.CONFUSED_WORDS', 'text_errors_by_category.AMERICAN_ENGLISH_STYLE', 'stylometrix_metrics.syntactic.SY_SPECIAL_QUESTIONS', 'emojis', 'stylometrix_metrics.pronouns.L_MYSELF_PRON', 'stylometrix_metrics.lexical.L_NOUN_PHRASES', 'stylometrix_metrics.hurtlex.ASM', 'stylometrix_metrics.verb_tenses.VT_PRESENT_PERFECT_PROGR', 'double_question_marks', 'stylometrix_metrics.lexical.L_ADV_POSITIVE', 'stylometrix_metrics.verb_tenses.VT_COULD_PASSIVE', 'stylometrix_metrics.lexical.L_FUNC_A', 'stylometrix_metrics.syntactic.SY_SIMILE', 'stylometrix_metrics.verb_tenses.VT_FUTURE_PERFECT_PASSIVE', 'stylometrix_metrics.verb_tenses.VT_WOULD_PROGRESSIVE', 'stylometrix_metrics.statistics.ST_MASS_TTR', 'stylometrix_metrics.hurtlex.DMC', 'stylometrix_metrics.verb_tenses.VT_PAST_PERFECT', 'stylometrix_metrics.verb_tenses.VT_PRESENT_PROGR_PASSIVE', 'text_errors_by_category.STYLE', 'stylometrix_metrics.verb_tenses.VT_MUST_PERFECT', 'stylometrix_metrics.statistics.ST_SENT_D_VP', 'stylometrix_metrics.hurtlex.DDF', 'stylometrix_metrics.verb_tenses.VT_MST_PERFECT_PASSIVE', 'stylometrix_metrics.part_of_speech.POS_CONJ', 'stylometrix_metrics.verb_tenses.VT_WOULD_PASSIVE', 'stylometrix_metrics.verb_tenses.VT_FUTURE_SIMPLE', 'stylometrix_metrics.syntactic.SY_EXCLAMATION', 'stylometrix_metrics.hurtlex.RCI', 'stylometrix_metrics.hurtlex.PA', 'stylometrix_metrics.verb_tenses.VT_PRESENT_PROGRESSIVE', 'stylometrix_metrics.verb_tenses.VT_MIGHT_PERFECT_PASSIVE', 'stylometrix_metrics.lexical.L_CONT_A', 'stylometrix_metrics.statistics.ST_SENT_DIFFERENCE', 'stylometrix_metrics.syntactic.SY_TAG_QUESTIONS', 'stylometrix_metrics.pronouns.L_HERS_PRON', 'stylometrix_metrics.verb_tenses.VT_SHALL', 'stylometrix_metrics.verb_tenses.VT_SHALL_PASSIVE', 'stylometrix_metrics.pronouns.L_THEIR_PRON', 'stylometrix_metrics.verb_tenses.VT_MUST_PASSIVE', 'stylometrix_metrics.pronouns.L_MY_PRON', 'stylometrix_metrics.pronouns.L_HIM_PRON', 'stylometrix_metrics.statistics.ST_SENT_D_ADVP', 'stylometrix_metrics.syntactic.SY_INTENSIFIER', 'text_errors_by_category.MULTITOKEN_SPELLING', 'stylometrix_metrics.hurtlex.PR', 'stylometrix_metrics.pronouns.L_HIS_PRON', 'stylometrix_metrics.lexical.PS_AGREEMENT', 'stylometrix_metrics.pronouns.L_ITS_PRON', 'stylometrix_metrics.pronouns.L_OURS_PRON', 'stylometrix_metrics.syntactic.SY_NEGATIVE_QUESTIONS', 'stylometrix_metrics.statistics.ST_TYPE_TOKEN_RATIO_LEMMAS', 'stylometrix_metrics.part_of_speech.POS_PREP', 'stylometrix_metrics.lexical.PS_TIME', 'stylometrix_metrics.syntactic.SY_IMPERATIVE', 'text_errors_by_category.COMPOUNDING', 'stylometrix_metrics.verb_tenses.VT_PRESENT_SIMPLE', 'stylometrix_metrics.part_of_speech.POS_VERB', 'stylometrix_metrics.lexical.L_RT', 'stylometrix_metrics.verb_tenses.VT_MAY', 'stylometrix_metrics.pronouns.L_FIRST_PERSON_SING_PRON', 'stylometrix_metrics.verb_tenses.VT_PRESENT_PERFECT', 'stylometrix_metrics.pronouns.L_IT_OBJECT_PRON', 'stylometrix_metrics.pronouns.L_HIMSELF_PRON', 'stylometrix_metrics.verb_tenses.VT_COULD_PROGRESSIVE', 'stylometrix_metrics.pronouns.L_YOURSELF_PRON', 'text_errors_by_category.SEMANTICS', 'text_errors_by_category.BRITISH_ENGLISH', 'stylometrix_metrics.verb_tenses.VT_MAY_PERFECT_PASSIVE', 'stylometrix_metrics.verb_tenses.VT_WOULD_PERFECT_PASSIVE', 'stylometrix_metrics.hurtlex.OM', 'stylometrix_metrics.syntactic.SY_FRONTING', 'stylometrix_metrics.lexical.L_PROPER_NAME', 'stylometrix_metrics.statistics.ST_SENT_D_NP', 'stylometrix_metrics.hurtlex.CDS', 'stylometrix_metrics.verb_tenses.VT_SHOULD_PERFECT', 'stylometrix_metrics.verb_tenses.VT_PAST_SIMPLE_PASSIVE', 'stylometrix_metrics.pronouns.L_YOU_PRON', 'stylometrix_metrics.general.G_FUTURE', 'stylometrix_metrics.pronouns.L_YOURS_PRON', 'stylometrix_metrics.verb_tenses.VT_PAST_PERFECT_PROGR', 'stylometrix_metrics.lexical.L_SINGULAR_NOUNS', 'stylometrix_metrics.pronouns.L_THIRD_PERSON_PLURAL_PRON', 'stylometrix_metrics.verb_tenses.VT_PAST_SIMPLE_BE', 'stylometrix_metrics.general.G_ACTIVE', 'stylometrix_metrics.lexical.L_POSSESSIVES', 'stylometrix_metrics.verb_tenses.VT_MAY_PROGRESSIVE', 'stylometrix_metrics.syntactic.SY_QUOT', 'stylometrix_metrics.pronouns.L_YOURSELVES_PRON', 'stylometrix_metrics.part_of_speech.POS_NUM', 'stylometrix_metrics.lexical.L_ADV_SUPERLATIVE', 'stylometrix_metrics.hurtlex.SVP', 'stylometrix_metrics.verb_tenses.VT_MUST_PROGRESSIVE', 'stylometrix_metrics.hurtlex.IS', 'stylometrix_metrics.verb_tenses.VT_WOULD_PERFECT', 'text_errors_by_category.NONSTANDARD_PHRASES', 'stylometrix_metrics.verb_tenses.VT_PAST_POGR_PASSIVE', 'stylometrix_metrics.general.G_PRESENT', 'stylometrix_metrics.lexical.L_LINKS', 'stylometrix_metrics.verb_tenses.VT_PRESENT_SIMPLE_PASSIVE', 'stylometrix_metrics.lexical.L_PUNCT_DASH', 'stylometrix_metrics.pronouns.L_YOU_OBJ_PRON', 'stylometrix_metrics.lexical.L_PUNCT_COM', 'double_exclamation_marks', 'stylometrix_metrics.hurtlex.RE', 'stylometrix_metrics.hurtlex.PS', 'text_errors_by_category.SYNTAX', 'text_errors_by_category.WORD_ORDER', 'stylometrix_metrics.pronouns.L_THEIRS_PRON', 'stylometrix_metrics.general.VF_INFINITIVE', 'stylometrix_metrics.pronouns.L_YOUR_PRON', 'text_errors_by_category.COLLOCATIONS', 'stylometrix_metrics.general.G_PAST', 'stylometrix_metrics.general.G_MODALS_CONT', 'stylometrix_metrics.pronouns.L_HER_PRON', 'stylometrix_metrics.hurtlex.OR', 'stylometrix_metrics.pronouns.L_OUR_PRON', 'stylometrix_metrics.hurtlex.QAS', 'text_errors_by_category.SPELLING', 'stylometrix_metrics.pronouns.L_HERSELF_PRON', 'stylometrix_metrics.pronouns.L_ITSELF_PRON', 'text_errors_by_category.NUMBERS', 'stylometrix_metrics.pronouns.L_OURSELVES_PRON', 'text_errors_by_category.PHONETICS', 'stylometrix_metrics.general.G_MODALS_SIMPLE', 'text_errors_by_category.PRAWDOPODOBNE_LITEROWKI', 'stylometrix_metrics.hurtlex.DDP', 'stylometrix_metrics.hurtlex.AN', 'stylometrix_metrics.pronouns.L_THEMSELVES_PRON', 'stylometrix_metrics.general.G_PASSIVE', 'stylometrix_metrics.pronouns.L_SECOND_PERSON_PRON', 'stylometrix_metrics.pronouns.L_THIRD_PERSON_SING_PRON', 'stylometrix_metrics.general.G_MODALS_PERFECT', 'stylometrix_metrics.hurtlex.ASF', 'stylometrix_metrics.verb_tenses.VT_COULD_PERFECT_PASSIVE', 'stylometrix_metrics.pronouns.L_THEM_PRON', 'stylometrix_metrics.lexical.PS_CONDITION', 'stylometrix_metrics.lexical.L_ADJ_SUPERLATIVE', 'stylometrix_metrics.lexical.L_ADV_COMPARATIVE', 'stylometrix_metrics.lexical.PS_CONTRADICTION', 'stylometrix_metrics.lexical.PS_EXAMPLES', 'stylometrix_metrics.lexical.PS_CONSEQUENCE', 'stylometrix_metrics.lexical.PS_CAUSE', 'stylometrix_metrics.lexical.PS_LOCATION', 'stylometrix_metrics.lexical.PS_MANNER', 'stylometrix_metrics.lexical.L_ADJ_POSITIVE', 'stylometrix_metrics.syntactic.SY_QUESTION', 'stylometrix_metrics.syntactic.SY_NARRATIVE', 'stylometrix_metrics.syntactic.SY_GENERAL_QUESTIONS', 'stylometrix_metrics.syntactic.SY_SUBORD_SENT_PUNCT', 'stylometrix_metrics.syntactic.SY_COORD_SENT', 'stylometrix_metrics.syntactic.SY_COORD_SENT_PUNCT', 'stylometrix_metrics.syntactic.SY_SIMPLE_SENT', 'stylometrix_metrics.lexical.L_ADJ_COMPARATIVE', 'stylometrix_metrics.lexical.L_PUNCT_COL', 'stylometrix_metrics.pronouns.L_US_PRON', 'stylometrix_metrics.lexical.L_REF', 'stylometrix_metrics.part_of_speech.POS_NOUN', 'stylometrix_metrics.part_of_speech.POS_ADJ', 'stylometrix_metrics.part_of_speech.POS_ADV', 'stylometrix_metrics.part_of_speech.POS_DET', 'stylometrix_metrics.part_of_speech.POS_INTJ', 'stylometrix_metrics.part_of_speech.POS_PART', 'stylometrix_metrics.part_of_speech.POS_PRO', 'stylometrix_metrics.lexical.L_HASHTAG', 'stylometrix_metrics.lexical.L_PUNCT_SEMC', 'stylometrix_metrics.lexical.L_MENTION', 'stylometrix_metrics.lexical.L_CONT_T', 'stylometrix_metrics.lexical.L_FUNC_T', 'stylometrix_metrics.lexical.L_PLURAL_NOUNS', 'stylometrix_metrics.lexical.L_PERSONAL_NAME', 'stylometrix_metrics.lexical.L_PUNCT', 'stylometrix_metrics.lexical.L_PUNCT_DOT', 'stylometrix_metrics.syntactic.SY_INVERSE_PATTERNS', 'stylometrix_metrics.syntactic.SY_IRRITATION', 'stylometrix_metrics.verb_tenses.VT_PRESENT_PERFECT_PASSIVE', 'stylometrix_metrics.statistics.ST_SENT_D_ADJP', 'stylometrix_metrics.verb_tenses.VT_MIGHT_PASSIVE', 'stylometrix_metrics.verb_tenses.VT_MIGTH_PERFECT', 'stylometrix_metrics.statistics.ST_HERDAN_TTR', 'stylometrix_metrics.statistics.ST_SENT_WRDSPERSENT', 'stylometrix_metrics.statistics.ST_REPETITIONS_WORDS', 'stylometrix_metrics.statistics.ST_REPETITIONS_SENT', 'stylometrix_metrics.statistics.ST_SENT_D_PP', 'stylometrix_metrics.pronouns.L_I_PRON', 'stylometrix_metrics.verb_tenses.VT_PAST_SIMPLE', 'stylometrix_metrics.pronouns.L_HE_PRON', 'stylometrix_metrics.pronouns.L_SHE_PRON', 'stylometrix_metrics.pronouns.L_IT_PRON', 'stylometrix_metrics.pronouns.L_WE_PRON', 'stylometrix_metrics.pronouns.L_THEY_PRON', 'stylometrix_metrics.pronouns.L_ME_PRON', 'stylometrix_metrics.pronouns.L_HER_OBJECT_PRON', 'stylometrix_metrics.verb_tenses.VT_MIGHT', 'stylometrix_metrics.verb_tenses.VT_MAY_PASSIVE', 'stylometrix_metrics.verb_tenses.VT_COULD_PERFECT', 'stylometrix_metrics.verb_tenses.VT_CAN_PROGRESSIVE', 'stylometrix_metrics.verb_tenses.VT_PAST_PROGR', 'stylometrix_metrics.verb_tenses.VT_PAST_PERFECT_PASSIVE', 'stylometrix_metrics.verb_tenses.VT_FUTURE_PROGRESSIVE', 'stylometrix_metrics.verb_tenses.VT_FUTURE_PERFECT', 'stylometrix_metrics.verb_tenses.VT_FUTURE_PERFECT_PROGR', 'stylometrix_metrics.verb_tenses.VT_FUTURE_SIMPLE_PASSIVE', 'stylometrix_metrics.verb_tenses.VT_FUTURE_PROGR_PASSIVE', 'stylometrix_metrics.verb_tenses.VT_WOULD', 'stylometrix_metrics.verb_tenses.VT_SHOULD', 'stylometrix_metrics.verb_tenses.VT_SHOULD_PASSIVE', 'stylometrix_metrics.verb_tenses.VT_SHOULD_PROGRESSIVE', 'stylometrix_metrics.verb_tenses.VT_SHOULD_PERFECT_PASSIVE', 'stylometrix_metrics.verb_tenses.VT_MUST', 'stylometrix_metrics.verb_tenses.VT_CAN_PASSIVE', 'stylometrix_metrics.verb_tenses.VT_COULD', 'stylometrix_metrics.verb_tenses.VT_CAN']\n"
     ]
    }
   ],
   "execution_count": 14
  },
  {
   "metadata": {
    "ExecuteTime": {
     "end_time": "2024-05-06T22:56:30.932062Z",
     "start_time": "2024-05-06T22:56:30.927473Z"
    }
   },
   "cell_type": "code",
   "source": [
    "print(len(generated))\n",
    "print(len(real))\n",
    "print(len(generated) + len(real))\n",
    "data[0][0]"
   ],
   "id": "d5b29465c5f7be54",
   "outputs": [
    {
     "name": "stdout",
     "output_type": "stream",
     "text": [
      "10618\n",
      "9885\n",
      "20503\n"
     ]
    },
    {
     "data": {
      "text/plain": [
       "{'standard_deviation_sentence_char_length': 53.85783756025363,\n",
       " 'variance_sentence_char_length': 2900.6666666666665}"
      ]
     },
     "execution_count": 9,
     "metadata": {},
     "output_type": "execute_result"
    }
   ],
   "execution_count": 9
  },
  {
   "metadata": {
    "ExecuteTime": {
     "end_time": "2024-05-06T16:39:56.882692Z",
     "start_time": "2024-05-06T16:39:11.655905Z"
    }
   },
   "cell_type": "code",
   "source": [
    "model_valuation = evaluate_models(data)\n",
    "print(model_valuation)"
   ],
   "id": "493916337656a572",
   "outputs": [
    {
     "name": "stderr",
     "output_type": "stream",
     "text": [
      "/home/pawel/.virtualenvs/anti-gpt-checker/lib/python3.10/site-packages/sklearn/ensemble/_weight_boosting.py:519: FutureWarning: The SAMME.R algorithm (the default) is deprecated and will be removed in 1.6. Use the SAMME algorithm to circumvent this warning.\n",
      "  warnings.warn(\n"
     ]
    },
    {
     "name": "stdout",
     "output_type": "stream",
     "text": [
      "{'Decision Tree': {'accuracy': 0.9735002438627866, 'precision': 0.9825918762088974, 'recall': 0.9654735508394044, 'f1_score': 0.9739575011982745, 'roc_auc': 0.9737187393475579, 'TP': 3048, 'TN': 2940, 'FP': 54, 'FN': 109}, 'Random Forest': {'accuracy': 0.9826044545602342, 'precision': 0.9894094993581515, 'recall': 0.9765600253405131, 'f1_score': 0.9829427706041767, 'roc_auc': 0.9974628805705594, 'TP': 3083, 'TN': 2961, 'FP': 33, 'FN': 74}, 'MLP Classifier': {'accuracy': 0.9442367094781337, 'precision': 0.9461001902346227, 'recall': 0.9452011403230915, 'f1_score': 0.9456504515924576, 'roc_auc': 0.9843129401025681, 'TP': 2984, 'TN': 2824, 'FP': 170, 'FN': 173}, 'K-Nearest Neighbors': {'accuracy': 0.8253942448382376, 'precision': 0.8119197364480384, 'recall': 0.8587266392144441, 'f1_score': 0.8346674876847291, 'roc_auc': 0.9099068160605871, 'TP': 2711, 'TN': 2366, 'FP': 628, 'FN': 446}, 'Support Vector Classifier': {'accuracy': 0.666233132823931, 'precision': 0.6069767441860465, 'recall': 0.9920810896420652, 'f1_score': 0.7531561861248046, 'roc_auc': 0.7201978130053793, 'TP': 3132, 'TN': 966, 'FP': 2028, 'FN': 25}, 'AdaBoost': {'accuracy': 0.9617948301089254, 'precision': 0.9600125944584383, 'recall': 0.9657903072537218, 'f1_score': 0.962892783830728, 'roc_auc': 0.9939109027896359, 'TP': 3049, 'TN': 2867, 'FP': 127, 'FN': 108}, 'Gaussian Naive Bayes': {'accuracy': 0.6758250690944562, 'precision': 0.6140867176770649, 'recall': 0.9914475768134304, 'f1_score': 0.7584201599224618, 'roc_auc': 0.8656223861512486, 'TP': 3130, 'TN': 1027, 'FP': 1967, 'FN': 27}, 'Quadratic Discriminant Analysis': {'accuracy': 0.8458787189074947, 'precision': 0.7781415260639637, 'recall': 0.9787773202407348, 'f1_score': 0.867003367003367, 'roc_auc': 0.9778542408436344, 'TP': 3090, 'TN': 2113, 'FP': 881, 'FN': 67}}\n"
     ]
    }
   ],
   "execution_count": 5
  },
  {
   "metadata": {
    "ExecuteTime": {
     "end_time": "2024-05-21T20:51:14.017345Z",
     "start_time": "2024-05-21T20:51:14.014259Z"
    }
   },
   "cell_type": "code",
   "source": [
    "from sklearn.tree import DecisionTreeClassifier\n",
    "from sklearn.ensemble import RandomForestClassifier, AdaBoostClassifier\n",
    "from sklearn.neural_network import MLPClassifier\n",
    "from sklearn.neighbors import KNeighborsClassifier\n",
    "from sklearn.svm import SVC\n",
    "from sklearn.naive_bayes import GaussianNB\n",
    "from sklearn.discriminant_analysis import QuadraticDiscriminantAnalysis"
   ],
   "id": "ecf93854d75b9f8c",
   "outputs": [],
   "execution_count": 20
  },
  {
   "metadata": {
    "ExecuteTime": {
     "end_time": "2024-05-21T20:51:50.713334Z",
     "start_time": "2024-05-21T20:51:14.569334Z"
    }
   },
   "cell_type": "code",
   "source": [
    "\n",
    "\n",
    "models = {\n",
    "    # 'Decision Tree': DecisionTreeClassifier(),\n",
    "    'Random Forest': RandomForestClassifier(),\n",
    "    # 'MLP Classifier': MLPClassifier(),\n",
    "    # 'K-Nearest Neighbors': KNeighborsClassifier(),\n",
    "    # 'Support Vector Classifier': SVC(probability=True),\n",
    "    # 'AdaBoost': AdaBoostClassifier(),\n",
    "    # 'Gaussian Naive Bayes': GaussianNB(),\n",
    "    # 'Quadratic Discriminant Analysis': QuadraticDiscriminantAnalysis()\n",
    "}\n",
    "\n",
    "for model_name, model in models.items():\n",
    "    #print(f\"Model: {model_name}\")\n",
    "    results = k_fold_cross_validation(model, data, 10)\n",
    "    print(f\"{model_name} & {round(results['accuracy'], 4)} & {round(results['precision'], 4)} & {round(results['recall'], 4)} & {round(results['f1_score'], 4)} & {round(results['roc_auc'], 4)}\")\n",
    "    #print(results)\n",
    "    #print(\"\\n\")\n"
   ],
   "id": "fefc9d7208616ed0",
   "outputs": [
    {
     "name": "stdout",
     "output_type": "stream",
     "text": [
      "Random Forest & 0.9848 & 0.9914 & 0.9792 & 0.9852 & 0.999\n"
     ]
    }
   ],
   "execution_count": 21
  },
  {
   "metadata": {
    "ExecuteTime": {
     "end_time": "2024-05-21T23:12:12.107252Z",
     "start_time": "2024-05-21T23:12:12.103508Z"
    }
   },
   "cell_type": "code",
   "source": "from sklearn.ensemble import RandomForestClassifier",
   "id": "7b85858c1858023a",
   "outputs": [],
   "execution_count": 22
  },
  {
   "metadata": {
    "ExecuteTime": {
     "end_time": "2024-05-21T23:12:38.807997Z",
     "start_time": "2024-05-21T23:12:38.804924Z"
    }
   },
   "cell_type": "code",
   "source": [
    "generated = en_generated_personal\n",
    "real = en_real_personal"
   ],
   "id": "82542f1a2ace043b",
   "outputs": [],
   "execution_count": 24
  },
  {
   "metadata": {
    "ExecuteTime": {
     "end_time": "2024-05-21T23:13:48.368766Z",
     "start_time": "2024-05-21T23:12:39.333828Z"
    }
   },
   "cell_type": "code",
   "source": [
    "for n in [245]:\n",
    "    data = convert_db_attributes_to_input_data(generated, real, n, exclude_additionally=['number_of_errors', 'no_space_after_punctuation', 'double_spaces', 'text_errors_by_category.AMERICAN_ENGLISH_STYLE',\n",
    "    'text_errors_by_category.BRITISH_ENGLISH',\n",
    "    'text_errors_by_category.CASING',\n",
    "    'text_errors_by_category.COLLOCATIONS',\n",
    "    'text_errors_by_category.COMPOUNDING',\n",
    "    'text_errors_by_category.CONFUSED_WORDS',\n",
    "    'text_errors_by_category.GRAMMAR',\n",
    "    'text_errors_by_category.MISC',\n",
    "    'text_errors_by_category.MULTITOKEN_SPELLING',\n",
    "    'text_errors_by_category.NONSTANDARD_PHRASES',\n",
    "    'text_errors_by_category.NUMBERS',\n",
    "    'text_errors_by_category.PHONETICS',\n",
    "    'text_errors_by_category.PRAWDOPODOBNE_LITEROWKI',\n",
    "    'text_errors_by_category.PUNCTUATION',\n",
    "    'text_errors_by_category.REDUNDANCY',\n",
    "    'text_errors_by_category.REPETITIONS_STYLE',\n",
    "    'text_errors_by_category.SEMANTICS',\n",
    "    'text_errors_by_category.SPELLING',\n",
    "    'text_errors_by_category.STYLE',\n",
    "    'text_errors_by_category.SYNTAX',\n",
    "    'text_errors_by_category.TYPOGRAPHY',\n",
    "    'text_errors_by_category.TYPOS',\n",
    "    'text_errors_by_category.WORD_ORDER'])\n",
    "    results = k_fold_cross_validation(RandomForestClassifier(), data, 10)\n",
    "    #print(f\"{n} {round(results['accuracy'], 4)} {round(results['roc_auc'], 4)}\")\n",
    "    print(f\"{n} & {round(results['accuracy'], 4)} & {round(results['precision'], 4)} & {round(results['recall'], 4)} & {round(results['f1_score'], 4)} & {round(results['roc_auc'], 4)}\")\n",
    "\n"
   ],
   "id": "ec8e5cadb23be3ea",
   "outputs": [
    {
     "name": "stdout",
     "output_type": "stream",
     "text": [
      "245 & 0.9759 & 0.9825 & 0.9706 & 0.9765 & 0.9977\n"
     ]
    }
   ],
   "execution_count": 25
  },
  {
   "metadata": {
    "ExecuteTime": {
     "end_time": "2024-05-21T23:19:21.788038Z",
     "start_time": "2024-05-21T23:19:21.784946Z"
    }
   },
   "cell_type": "code",
   "source": [
    "generated = pl_generated_personal\n",
    "real = pl_real_personal"
   ],
   "id": "6766a0e830859687",
   "outputs": [],
   "execution_count": 26
  },
  {
   "metadata": {
    "ExecuteTime": {
     "end_time": "2024-05-21T23:19:42.859732Z",
     "start_time": "2024-05-21T23:19:38.829319Z"
    }
   },
   "cell_type": "code",
   "source": [
    "for n in [241]:\n",
    "    data = convert_db_attributes_to_input_data(generated, real, n, exclude_additionally=['number_of_errors', 'no_space_after_punctuation', 'double_spaces', 'text_errors_by_category.AMERICAN_ENGLISH_STYLE',\n",
    "    'text_errors_by_category.BRITISH_ENGLISH',\n",
    "    'text_errors_by_category.CASING',\n",
    "    'text_errors_by_category.COLLOCATIONS',\n",
    "    'text_errors_by_category.COMPOUNDING',\n",
    "    'text_errors_by_category.CONFUSED_WORDS',\n",
    "    'text_errors_by_category.GRAMMAR',\n",
    "    'text_errors_by_category.MISC',\n",
    "    'text_errors_by_category.MULTITOKEN_SPELLING',\n",
    "    'text_errors_by_category.NONSTANDARD_PHRASES',\n",
    "    'text_errors_by_category.NUMBERS',\n",
    "    'text_errors_by_category.PHONETICS',\n",
    "    'text_errors_by_category.PRAWDOPODOBNE_LITEROWKI',\n",
    "    'text_errors_by_category.PUNCTUATION',\n",
    "    'text_errors_by_category.REDUNDANCY',\n",
    "    'text_errors_by_category.REPETITIONS_STYLE',\n",
    "    'text_errors_by_category.SEMANTICS',\n",
    "    'text_errors_by_category.SPELLING',\n",
    "    'text_errors_by_category.STYLE',\n",
    "    'text_errors_by_category.SYNTAX',\n",
    "    'text_errors_by_category.TYPOGRAPHY',\n",
    "    'text_errors_by_category.TYPOS',\n",
    "    'text_errors_by_category.WORD_ORDER'])\n",
    "    results = k_fold_cross_validation(RandomForestClassifier(), data, 10)\n",
    "    print(f\"{n} & {round(results['accuracy'], 4)} & {round(results['precision'], 4)} & {round(results['recall'], 4)} & {round(results['f1_score'], 4)} & {round(results['roc_auc'], 4)}\")"
   ],
   "id": "b877650a12b9603e",
   "outputs": [
    {
     "name": "stdout",
     "output_type": "stream",
     "text": [
      "241 & 0.914 & 0.8937 & 0.9432 & 0.9168 & 0.9761\n"
     ]
    }
   ],
   "execution_count": 28
  },
  {
   "metadata": {},
   "cell_type": "code",
   "outputs": [],
   "execution_count": null,
   "source": "",
   "id": "4e82841c1c5fa83b"
  }
 ],
 "metadata": {
  "kernelspec": {
   "display_name": "Python 3",
   "language": "python",
   "name": "python3"
  },
  "language_info": {
   "codemirror_mode": {
    "name": "ipython",
    "version": 2
   },
   "file_extension": ".py",
   "mimetype": "text/x-python",
   "name": "python",
   "nbconvert_exporter": "python",
   "pygments_lexer": "ipython2",
   "version": "2.7.6"
  }
 },
 "nbformat": 4,
 "nbformat_minor": 5
}
