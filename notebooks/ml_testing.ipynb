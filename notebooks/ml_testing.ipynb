{
 "cells": [
  {
   "cell_type": "code",
   "id": "initial_id",
   "metadata": {
    "collapsed": true,
    "ExecuteTime": {
     "end_time": "2024-06-04T16:40:13.070227Z",
     "start_time": "2024-06-04T16:39:54.218239Z"
    }
   },
   "source": [
    "from typing import List\n",
    "from dao.email import DAOEmailGenerated, DAORealEmail\n",
    "\n",
    "from dao.attribute import DAOAttributePL, DAOAttributeEN\n",
    "\n",
    "from ml.model_training import evaluate_models, k_fold_cross_validation\n",
    "from ml.data_preparation import convert_db_attributes_to_input_data"
   ],
   "outputs": [
    {
     "name": "stderr",
     "output_type": "stream",
     "text": [
      "[nltk_data] Downloading package stopwords to /home/pawel/nltk_data...\n",
      "[nltk_data]   Package stopwords is already up-to-date!\n",
      "[nltk_data] Downloading package punkt to /home/pawel/nltk_data...\n",
      "[nltk_data]   Package punkt is already up-to-date!\n",
      "[nltk_data] Downloading package pl196x to /home/pawel/nltk_data...\n",
      "[nltk_data]   Package pl196x is already up-to-date!\n",
      "[nltk_data] Downloading package wordnet to /home/pawel/nltk_data...\n",
      "[nltk_data]   Package wordnet is already up-to-date!\n"
     ]
    }
   ],
   "execution_count": 8
  },
  {
   "metadata": {
    "ExecuteTime": {
     "end_time": "2024-06-04T16:40:38.775629Z",
     "start_time": "2024-06-04T16:40:13.777082Z"
    }
   },
   "cell_type": "code",
   "source": [
    "from models.attribute import AttributeENInDB, AttributePLInDB\n",
    "\n",
    "dao_generated_emails: DAOEmailGenerated = DAOEmailGenerated()\n",
    "dao_real_emails: DAORealEmail = DAORealEmail()\n",
    "\n",
    "dao_attribute_pl: DAOAttributePL = DAOAttributePL()\n",
    "dao_attribute_en: DAOAttributeEN = DAOAttributeEN()\n",
    "\n",
    "pl_generated: List[AttributePLInDB] = dao_attribute_pl.find_many_by_query({\"is_generated\": True, 'language': 'pl'})\n",
    "pl_real: List[AttributePLInDB] = dao_attribute_pl.find_many_by_query({\"is_generated\": False, 'language': 'pl'})\n",
    "\n",
    "en_generated: List[AttributeENInDB] = dao_attribute_en.find_many_by_query({\"is_generated\": True, 'language': 'en'})\n",
    "en_real: List[AttributeENInDB] = dao_attribute_en.find_many_by_query({\"is_generated\": False, 'language': 'en'})\n",
    "\n",
    "pl_generated_personal: List[AttributePLInDB] = dao_attribute_pl.find_many_by_query({\"is_generated\": True, 'language': 'pl', 'is_personal': True})\n",
    "pl_real_personal: List[AttributePLInDB] = dao_attribute_pl.find_many_by_query({\"is_generated\": False, 'language': 'pl', 'is_personal': True})\n",
    "\n",
    "en_generated_personal: List[AttributeENInDB] = dao_attribute_en.find_many_by_query({\"is_generated\": True, 'language': 'en', 'is_personal': True})\n",
    "en_real_personal: List[AttributeENInDB] = dao_attribute_en.find_many_by_query({\"is_generated\": False, 'language': 'en', 'is_personal': True})"
   ],
   "id": "149455ad8d659a2c",
   "outputs": [],
   "execution_count": 9
  },
  {
   "metadata": {
    "ExecuteTime": {
     "end_time": "2024-06-03T01:52:40.532536Z",
     "start_time": "2024-06-03T01:51:58.369914Z"
    }
   },
   "cell_type": "code",
   "source": [
    "generated = en_generated_personal\n",
    "real = en_real_personal\n",
    "num_of_features = 245\n",
    "\n",
    "data = convert_db_attributes_to_input_data(generated, real, num_of_features)"
   ],
   "id": "10edb111f023f9b7",
   "outputs": [],
   "execution_count": 3
  },
  {
   "metadata": {
    "ExecuteTime": {
     "end_time": "2024-06-03T01:19:18.380253Z",
     "start_time": "2024-06-03T01:18:49.306297Z"
    }
   },
   "cell_type": "code",
   "source": [
    "from ml.data_preparation import find_significant_features\n",
    "\n",
    "data_temp = [(x.to_flat_dict_normalized(), 1) for x in generated]\n",
    "data_temp += [(x.to_flat_dict_normalized(), 0) for x in real]\n",
    "# replace None with 0\n",
    "for i in range(len(data_temp)):\n",
    "    for key in data_temp[i][0].keys():\n",
    "        if data_temp[i][0][key] is None:\n",
    "            data_temp[i][0][key] = 0\n",
    "\n",
    "significant_features = find_significant_features(data_temp)\n",
    "significant_features"
   ],
   "id": "4a3405a84c6371dc",
   "outputs": [
    {
     "data": {
      "text/plain": [
       "['number_of_errors',\n",
       " 'standard_deviation_word_char_length',\n",
       " 'variance_word_char_length',\n",
       " 'no_space_after_punctuation',\n",
       " 'standard_deviation_sentence_char_length',\n",
       " 'variance_sentence_char_length',\n",
       " 'variance_sentence_word_length',\n",
       " 'standard_deviation_sentence_word_length',\n",
       " 'stylometrix_metrics.statistics.ST_SENT_D_NP',\n",
       " 'double_spaces',\n",
       " 'punctuation_per_sentence',\n",
       " 'stylometrix_metrics.statistics.ST_SENT_D_PP',\n",
       " 'text_errors_by_category.TYPOS',\n",
       " 'average_word_char_length',\n",
       " 'stylometrix_metrics.statistics.ST_SENT_WRDSPERSENT',\n",
       " 'punctuation_density',\n",
       " 'stylometrix_metrics.syntactic.SY_INVERSE_PATTERNS',\n",
       " 'perplexity',\n",
       " 'stylometrix_metrics.statistics.ST_SENT_D_VP',\n",
       " 'average_sentence_char_length',\n",
       " 'burstiness2',\n",
       " 'stylometrix_metrics.statistics.ST_SENT_D_ADVP',\n",
       " 'stylometrix_metrics.statistics.ST_SENT_DIFFERENCE',\n",
       " 'stylometrix_metrics.statistics.ST_TYPE_TOKEN_RATIO_LEMMAS',\n",
       " 'average_sentence_word_length',\n",
       " 'text_errors_by_category.TYPOGRAPHY',\n",
       " 'stylometrix_metrics.statistics.ST_REPETITIONS_WORDS',\n",
       " 'burstiness',\n",
       " 'number_of_characters',\n",
       " 'number_of_sentences',\n",
       " 'text_errors_by_category.PUNCTUATION',\n",
       " 'text_errors_by_category.CASING',\n",
       " 'number_of_words',\n",
       " 'question_marks',\n",
       " 'stylometrix_metrics.statistics.ST_SENT_D_ADJP',\n",
       " 'exclamation_marks',\n",
       " 'stylometrix_metrics.lexical.L_PUNCT',\n",
       " 'text_errors_by_category.MISC',\n",
       " 'text_errors_by_category.GRAMMAR',\n",
       " 'stylometrix_metrics.syntactic.SY_SIMPLE_SENT',\n",
       " 'text_errors_by_category.REPETITIONS_STYLE',\n",
       " 'stylometrix_metrics.syntactic.SY_SUBORD_SENT',\n",
       " 'stylometrix_metrics.general.G_PRESENT',\n",
       " 'stylometrix_metrics.syntactic.SY_COORD_SENT',\n",
       " 'text_errors_by_category.REDUNDANCY',\n",
       " 'stylometrix_metrics.verb_tenses.VT_FUTURE_PROGRESSIVE',\n",
       " 'text_errors_by_category.STYLE',\n",
       " 'stylometrix_metrics.lexical.L_PLURAL_NOUNS',\n",
       " 'stylometrix_metrics.hurtlex.PR',\n",
       " 'stylometrix_metrics.pronouns.L_IT_PRON',\n",
       " 'text_errors_by_category.COMPOUNDING',\n",
       " 'text_errors_by_category.WORD_ORDER',\n",
       " 'stylometrix_metrics.pronouns.L_OUR_PRON',\n",
       " 'stylometrix_metrics.syntactic.SY_INTENSIFIER',\n",
       " 'stylometrix_metrics.lexical.L_CONT_A',\n",
       " 'stylometrix_metrics.hurtlex.ASF',\n",
       " 'stylometrix_metrics.hurtlex.PA',\n",
       " 'stylometrix_metrics.general.G_ACTIVE',\n",
       " 'stylometrix_metrics.hurtlex.RCI',\n",
       " 'stylometrix_metrics.verb_tenses.VT_PRESENT_PERFECT_PROGR',\n",
       " 'stylometrix_metrics.lexical.L_FUNC_T',\n",
       " 'stylometrix_metrics.pronouns.L_ITSELF_PRON',\n",
       " 'stylometrix_metrics.syntactic.SY_GENERAL_QUESTIONS',\n",
       " 'text_errors_by_category.AMERICAN_ENGLISH_STYLE',\n",
       " 'text_errors_by_category.PRAWDOPODOBNE_LITEROWKI',\n",
       " 'stylometrix_metrics.verb_tenses.VT_SHOULD_PROGRESSIVE',\n",
       " 'stylometrix_metrics.pronouns.L_HIS_PRON',\n",
       " 'stylometrix_metrics.general.G_FUTURE',\n",
       " 'stylometrix_metrics.verb_tenses.VT_WOULD_PERFECT_PASSIVE',\n",
       " 'stylometrix_metrics.lexical.L_POSSESSIVES',\n",
       " 'stylometrix_metrics.statistics.ST_HERDAN_TTR',\n",
       " 'stylometrix_metrics.verb_tenses.VT_FUTURE_PERFECT',\n",
       " 'stylometrix_metrics.lexical.L_RT',\n",
       " 'stylometrix_metrics.pronouns.L_YOUR_PRON',\n",
       " 'stylometrix_metrics.verb_tenses.VT_MIGHT_PASSIVE',\n",
       " 'stylometrix_metrics.hurtlex.RE',\n",
       " 'stylometrix_metrics.verb_tenses.VT_FUTURE_PERFECT_PROGR',\n",
       " 'text_errors_by_category.BRITISH_ENGLISH',\n",
       " 'stylometrix_metrics.verb_tenses.VT_MIGHT_PERFECT_PASSIVE',\n",
       " 'stylometrix_metrics.lexical.L_REF',\n",
       " 'stylometrix_metrics.lexical.L_ADJ_SUPERLATIVE',\n",
       " 'stylometrix_metrics.lexical.L_SINGULAR_NOUNS',\n",
       " 'stylometrix_metrics.syntactic.SY_SIMILE',\n",
       " 'stylometrix_metrics.hurtlex.DDF',\n",
       " 'stylometrix_metrics.verb_tenses.VT_FUTURE_PERFECT_PASSIVE',\n",
       " 'stylometrix_metrics.lexical.PS_CONSEQUENCE',\n",
       " 'stylometrix_metrics.syntactic.SY_FRONTING',\n",
       " 'stylometrix_metrics.part_of_speech.POS_NUM',\n",
       " 'stylometrix_metrics.part_of_speech.POS_INTJ',\n",
       " 'stylometrix_metrics.syntactic.SY_NEGATIVE_QUESTIONS',\n",
       " 'stylometrix_metrics.part_of_speech.POS_CONJ',\n",
       " 'stylometrix_metrics.pronouns.L_YOURSELVES_PRON',\n",
       " 'text_errors_by_category.CONFUSED_WORDS',\n",
       " 'stylometrix_metrics.lexical.L_ADJ_POSITIVE',\n",
       " 'stylometrix_metrics.verb_tenses.VT_MUST',\n",
       " 'stylometrix_metrics.part_of_speech.POS_ADJ',\n",
       " 'text_errors_by_category.SPELLING',\n",
       " 'stylometrix_metrics.verb_tenses.VT_PAST_SIMPLE',\n",
       " 'stylometrix_metrics.general.G_MODALS_SIMPLE',\n",
       " 'stylometrix_metrics.part_of_speech.POS_PREP',\n",
       " 'stylometrix_metrics.syntactic.SY_NARRATIVE',\n",
       " 'stylometrix_metrics.verb_tenses.VT_PRESENT_PROGR_PASSIVE',\n",
       " 'stylometrix_metrics.pronouns.L_I_PRON',\n",
       " 'stylometrix_metrics.syntactic.SY_SUBORD_SENT_PUNCT',\n",
       " 'stylometrix_metrics.pronouns.L_THIRD_PERSON_PLURAL_PRON',\n",
       " 'stylometrix_metrics.hurtlex.AN',\n",
       " 'stylometrix_metrics.pronouns.L_MYSELF_PRON',\n",
       " 'stylometrix_metrics.part_of_speech.POS_ADV',\n",
       " 'stylometrix_metrics.syntactic.SY_COORD_SENT_PUNCT',\n",
       " 'stylometrix_metrics.lexical.PS_CONTRADICTION',\n",
       " 'stylometrix_metrics.verb_tenses.VT_PAST_SIMPLE_PASSIVE',\n",
       " 'stylometrix_metrics.verb_tenses.VT_SHOULD',\n",
       " 'stylometrix_metrics.lexical.L_FUNC_A',\n",
       " 'stylometrix_metrics.verb_tenses.VT_WOULD',\n",
       " 'stylometrix_metrics.verb_tenses.VT_WOULD_PASSIVE',\n",
       " 'stylometrix_metrics.pronouns.L_FIRST_PERSON_SING_PRON',\n",
       " 'stylometrix_metrics.verb_tenses.VT_COULD_PERFECT',\n",
       " 'stylometrix_metrics.lexical.L_PROPER_NAME',\n",
       " 'stylometrix_metrics.part_of_speech.POS_PRO',\n",
       " 'stylometrix_metrics.verb_tenses.VT_MAY_PERFECT_PASSIVE',\n",
       " 'stylometrix_metrics.pronouns.L_IT_OBJECT_PRON',\n",
       " 'stylometrix_metrics.verb_tenses.VT_SHALL',\n",
       " 'stylometrix_metrics.verb_tenses.VT_PAST_PERFECT',\n",
       " 'stylometrix_metrics.hurtlex.CDS',\n",
       " 'stylometrix_metrics.syntactic.SY_IMPERATIVE',\n",
       " 'stylometrix_metrics.lexical.L_PUNCT_COL',\n",
       " 'stylometrix_metrics.syntactic.SY_QUOT',\n",
       " 'stylometrix_metrics.verb_tenses.VT_PAST_SIMPLE_BE',\n",
       " 'text_errors_by_category.NONSTANDARD_PHRASES',\n",
       " 'stylometrix_metrics.verb_tenses.VT_SHOULD_PERFECT_PASSIVE',\n",
       " 'stylometrix_metrics.pronouns.L_YOU_PRON',\n",
       " 'double_exclamation_marks',\n",
       " 'stylometrix_metrics.pronouns.L_HER_OBJECT_PRON',\n",
       " 'stylometrix_metrics.verb_tenses.VT_CAN_PROGRESSIVE',\n",
       " 'stylometrix_metrics.lexical.L_HASHTAG',\n",
       " 'stylometrix_metrics.verb_tenses.VT_COULD_PERFECT_PASSIVE',\n",
       " 'stylometrix_metrics.hurtlex.QAS',\n",
       " 'stylometrix_metrics.verb_tenses.VT_MUST_PROGRESSIVE',\n",
       " 'stylometrix_metrics.verb_tenses.VT_PRESENT_PERFECT_PASSIVE',\n",
       " 'stylometrix_metrics.pronouns.L_THEIRS_PRON',\n",
       " 'double_question_marks',\n",
       " 'stylometrix_metrics.statistics.ST_REPETITIONS_SENT',\n",
       " 'stylometrix_metrics.verb_tenses.VT_PAST_PERFECT_PASSIVE',\n",
       " 'text_errors_by_category.PHONETICS',\n",
       " 'text_errors_by_category.SYNTAX',\n",
       " 'stylometrix_metrics.pronouns.L_HER_PRON',\n",
       " 'stylometrix_metrics.lexical.PS_LOCATION',\n",
       " 'stylometrix_metrics.pronouns.L_HIMSELF_PRON',\n",
       " 'stylometrix_metrics.syntactic.SY_SPECIAL_QUESTIONS',\n",
       " 'stylometrix_metrics.pronouns.L_HIM_PRON',\n",
       " 'stylometrix_metrics.hurtlex.SVP',\n",
       " 'stylometrix_metrics.pronouns.L_YOU_OBJ_PRON',\n",
       " 'stylometrix_metrics.pronouns.L_ME_PRON',\n",
       " 'stylometrix_metrics.pronouns.L_WE_PRON',\n",
       " 'stylometrix_metrics.hurtlex.OM',\n",
       " 'stylometrix_metrics.hurtlex.IS',\n",
       " 'stylometrix_metrics.hurtlex.OR',\n",
       " 'stylometrix_metrics.hurtlex.PS',\n",
       " 'stylometrix_metrics.hurtlex.DMC',\n",
       " 'stylometrix_metrics.hurtlex.ASM',\n",
       " 'stylometrix_metrics.pronouns.L_THEY_PRON',\n",
       " 'stylometrix_metrics.pronouns.L_MY_PRON',\n",
       " 'stylometrix_metrics.hurtlex.DDP',\n",
       " 'stylometrix_metrics.pronouns.L_YOURS_PRON',\n",
       " 'stylometrix_metrics.pronouns.L_YOURSELF_PRON',\n",
       " 'stylometrix_metrics.pronouns.L_HERSELF_PRON',\n",
       " 'stylometrix_metrics.pronouns.L_OURSELVES_PRON',\n",
       " 'stylometrix_metrics.pronouns.L_OURS_PRON',\n",
       " 'stylometrix_metrics.pronouns.L_SHE_PRON',\n",
       " 'stylometrix_metrics.pronouns.L_SECOND_PERSON_PRON',\n",
       " 'stylometrix_metrics.pronouns.L_HERS_PRON',\n",
       " 'stylometrix_metrics.pronouns.L_THIRD_PERSON_SING_PRON',\n",
       " 'stylometrix_metrics.general.VF_INFINITIVE',\n",
       " 'stylometrix_metrics.general.G_MODALS_PERFECT',\n",
       " 'stylometrix_metrics.pronouns.L_THEIR_PRON',\n",
       " 'stylometrix_metrics.general.G_PASSIVE',\n",
       " 'emojis',\n",
       " 'stylometrix_metrics.general.G_PAST',\n",
       " 'stylometrix_metrics.pronouns.L_ITS_PRON',\n",
       " 'stylometrix_metrics.general.G_MODALS_CONT',\n",
       " 'stylometrix_metrics.pronouns.L_THEM_PRON',\n",
       " 'stylometrix_metrics.pronouns.L_US_PRON',\n",
       " 'stylometrix_metrics.pronouns.L_THEMSELVES_PRON',\n",
       " 'stylometrix_metrics.part_of_speech.POS_NOUN',\n",
       " 'stylometrix_metrics.pronouns.L_HE_PRON',\n",
       " 'text_errors_by_category.COLLOCATIONS',\n",
       " 'stylometrix_metrics.syntactic.SY_IRRITATION',\n",
       " 'text_errors_by_category.SEMANTICS',\n",
       " 'stylometrix_metrics.syntactic.SY_EXCLAMATION',\n",
       " 'stylometrix_metrics.syntactic.SY_TAG_QUESTIONS',\n",
       " 'stylometrix_metrics.syntactic.SY_QUESTION',\n",
       " 'stylometrix_metrics.lexical.PS_MANNER',\n",
       " 'stylometrix_metrics.lexical.PS_CONDITION',\n",
       " 'stylometrix_metrics.lexical.PS_TIME',\n",
       " 'stylometrix_metrics.lexical.PS_CAUSE',\n",
       " 'stylometrix_metrics.lexical.PS_EXAMPLES',\n",
       " 'stylometrix_metrics.lexical.PS_AGREEMENT',\n",
       " 'stylometrix_metrics.lexical.L_ADV_SUPERLATIVE',\n",
       " 'stylometrix_metrics.lexical.L_ADV_COMPARATIVE',\n",
       " 'stylometrix_metrics.lexical.L_ADV_POSITIVE',\n",
       " 'stylometrix_metrics.lexical.L_ADJ_COMPARATIVE',\n",
       " 'stylometrix_metrics.lexical.L_PUNCT_DASH',\n",
       " 'stylometrix_metrics.lexical.L_PUNCT_SEMC',\n",
       " 'stylometrix_metrics.lexical.L_PUNCT_COM',\n",
       " 'stylometrix_metrics.lexical.L_PUNCT_DOT',\n",
       " 'stylometrix_metrics.lexical.L_NOUN_PHRASES',\n",
       " 'stylometrix_metrics.lexical.L_PERSONAL_NAME',\n",
       " 'stylometrix_metrics.part_of_speech.POS_VERB',\n",
       " 'stylometrix_metrics.lexical.L_CONT_T',\n",
       " 'stylometrix_metrics.lexical.L_LINKS',\n",
       " 'stylometrix_metrics.lexical.L_MENTION',\n",
       " 'stylometrix_metrics.part_of_speech.POS_PART',\n",
       " 'stylometrix_metrics.part_of_speech.POS_DET',\n",
       " 'stylometrix_metrics.verb_tenses.VT_PRESENT_SIMPLE',\n",
       " 'stylometrix_metrics.verb_tenses.VT_PRESENT_PROGRESSIVE',\n",
       " 'stylometrix_metrics.verb_tenses.VT_PRESENT_PERFECT',\n",
       " 'stylometrix_metrics.verb_tenses.VT_MST_PERFECT_PASSIVE',\n",
       " 'text_errors_by_category.MULTITOKEN_SPELLING',\n",
       " 'stylometrix_metrics.statistics.ST_MASS_TTR',\n",
       " 'stylometrix_metrics.verb_tenses.VT_MIGTH_PERFECT',\n",
       " 'stylometrix_metrics.verb_tenses.VT_MAY_PROGRESSIVE',\n",
       " 'stylometrix_metrics.verb_tenses.VT_MIGHT',\n",
       " 'stylometrix_metrics.verb_tenses.VT_MAY_PASSIVE',\n",
       " 'stylometrix_metrics.verb_tenses.VT_MAY',\n",
       " 'stylometrix_metrics.verb_tenses.VT_COULD_PROGRESSIVE',\n",
       " 'stylometrix_metrics.verb_tenses.VT_COULD_PASSIVE',\n",
       " 'stylometrix_metrics.verb_tenses.VT_COULD',\n",
       " 'stylometrix_metrics.verb_tenses.VT_CAN_PASSIVE',\n",
       " 'stylometrix_metrics.verb_tenses.VT_CAN',\n",
       " 'stylometrix_metrics.verb_tenses.VT_MUST_PERFECT',\n",
       " 'stylometrix_metrics.verb_tenses.VT_PRESENT_SIMPLE_PASSIVE',\n",
       " 'stylometrix_metrics.verb_tenses.VT_MUST_PASSIVE',\n",
       " 'stylometrix_metrics.verb_tenses.VT_SHALL_PASSIVE',\n",
       " 'stylometrix_metrics.verb_tenses.VT_SHOULD_PASSIVE',\n",
       " 'stylometrix_metrics.verb_tenses.VT_WOULD_PERFECT',\n",
       " 'stylometrix_metrics.verb_tenses.VT_WOULD_PROGRESSIVE',\n",
       " 'stylometrix_metrics.verb_tenses.VT_FUTURE_PROGR_PASSIVE',\n",
       " 'stylometrix_metrics.verb_tenses.VT_FUTURE_SIMPLE_PASSIVE',\n",
       " 'text_errors_by_category.NUMBERS',\n",
       " 'stylometrix_metrics.verb_tenses.VT_FUTURE_SIMPLE',\n",
       " 'stylometrix_metrics.verb_tenses.VT_PAST_POGR_PASSIVE',\n",
       " 'stylometrix_metrics.verb_tenses.VT_PAST_PERFECT_PROGR',\n",
       " 'stylometrix_metrics.verb_tenses.VT_PAST_PROGR',\n",
       " 'stylometrix_metrics.verb_tenses.VT_SHOULD_PERFECT']"
      ]
     },
     "execution_count": 6,
     "metadata": {},
     "output_type": "execute_result"
    }
   ],
   "execution_count": 6
  },
  {
   "metadata": {},
   "cell_type": "markdown",
   "source": "",
   "id": "4b9fc5545884a04b"
  },
  {
   "metadata": {
    "ExecuteTime": {
     "end_time": "2024-05-06T22:56:30.932062Z",
     "start_time": "2024-05-06T22:56:30.927473Z"
    }
   },
   "cell_type": "code",
   "source": [
    "print(len(generated))\n",
    "print(len(real))\n",
    "print(len(generated) + len(real))\n",
    "data[0][0]"
   ],
   "id": "d5b29465c5f7be54",
   "outputs": [
    {
     "name": "stdout",
     "output_type": "stream",
     "text": [
      "10618\n",
      "9885\n",
      "20503\n"
     ]
    },
    {
     "data": {
      "text/plain": [
       "{'standard_deviation_sentence_char_length': 53.85783756025363,\n",
       " 'variance_sentence_char_length': 2900.6666666666665}"
      ]
     },
     "execution_count": 9,
     "metadata": {},
     "output_type": "execute_result"
    }
   ],
   "execution_count": 9
  },
  {
   "metadata": {
    "ExecuteTime": {
     "end_time": "2024-05-06T16:39:56.882692Z",
     "start_time": "2024-05-06T16:39:11.655905Z"
    }
   },
   "cell_type": "code",
   "source": [
    "model_valuation = evaluate_models(data)\n",
    "print(model_valuation)"
   ],
   "id": "493916337656a572",
   "outputs": [
    {
     "name": "stderr",
     "output_type": "stream",
     "text": [
      "/home/pawel/.virtualenvs/anti-gpt-checker/lib/python3.10/site-packages/sklearn/ensemble/_weight_boosting.py:519: FutureWarning: The SAMME.R algorithm (the default) is deprecated and will be removed in 1.6. Use the SAMME algorithm to circumvent this warning.\n",
      "  warnings.warn(\n"
     ]
    },
    {
     "name": "stdout",
     "output_type": "stream",
     "text": [
      "{'Decision Tree': {'accuracy': 0.9735002438627866, 'precision': 0.9825918762088974, 'recall': 0.9654735508394044, 'f1_score': 0.9739575011982745, 'roc_auc': 0.9737187393475579, 'TP': 3048, 'TN': 2940, 'FP': 54, 'FN': 109}, 'Random Forest': {'accuracy': 0.9826044545602342, 'precision': 0.9894094993581515, 'recall': 0.9765600253405131, 'f1_score': 0.9829427706041767, 'roc_auc': 0.9974628805705594, 'TP': 3083, 'TN': 2961, 'FP': 33, 'FN': 74}, 'MLP Classifier': {'accuracy': 0.9442367094781337, 'precision': 0.9461001902346227, 'recall': 0.9452011403230915, 'f1_score': 0.9456504515924576, 'roc_auc': 0.9843129401025681, 'TP': 2984, 'TN': 2824, 'FP': 170, 'FN': 173}, 'K-Nearest Neighbors': {'accuracy': 0.8253942448382376, 'precision': 0.8119197364480384, 'recall': 0.8587266392144441, 'f1_score': 0.8346674876847291, 'roc_auc': 0.9099068160605871, 'TP': 2711, 'TN': 2366, 'FP': 628, 'FN': 446}, 'Support Vector Classifier': {'accuracy': 0.666233132823931, 'precision': 0.6069767441860465, 'recall': 0.9920810896420652, 'f1_score': 0.7531561861248046, 'roc_auc': 0.7201978130053793, 'TP': 3132, 'TN': 966, 'FP': 2028, 'FN': 25}, 'AdaBoost': {'accuracy': 0.9617948301089254, 'precision': 0.9600125944584383, 'recall': 0.9657903072537218, 'f1_score': 0.962892783830728, 'roc_auc': 0.9939109027896359, 'TP': 3049, 'TN': 2867, 'FP': 127, 'FN': 108}, 'Gaussian Naive Bayes': {'accuracy': 0.6758250690944562, 'precision': 0.6140867176770649, 'recall': 0.9914475768134304, 'f1_score': 0.7584201599224618, 'roc_auc': 0.8656223861512486, 'TP': 3130, 'TN': 1027, 'FP': 1967, 'FN': 27}, 'Quadratic Discriminant Analysis': {'accuracy': 0.8458787189074947, 'precision': 0.7781415260639637, 'recall': 0.9787773202407348, 'f1_score': 0.867003367003367, 'roc_auc': 0.9778542408436344, 'TP': 3090, 'TN': 2113, 'FP': 881, 'FN': 67}}\n"
     ]
    }
   ],
   "execution_count": 5
  },
  {
   "metadata": {
    "ExecuteTime": {
     "end_time": "2024-06-03T01:52:40.537885Z",
     "start_time": "2024-06-03T01:52:40.534380Z"
    }
   },
   "cell_type": "code",
   "source": [
    "from sklearn.tree import DecisionTreeClassifier\n",
    "from sklearn.ensemble import RandomForestClassifier, AdaBoostClassifier\n",
    "from sklearn.neural_network import MLPClassifier\n",
    "from sklearn.neighbors import KNeighborsClassifier\n",
    "from sklearn.svm import SVC\n",
    "from sklearn.naive_bayes import GaussianNB\n",
    "from sklearn.discriminant_analysis import QuadraticDiscriminantAnalysis"
   ],
   "id": "ecf93854d75b9f8c",
   "outputs": [],
   "execution_count": 4
  },
  {
   "metadata": {
    "ExecuteTime": {
     "end_time": "2024-06-03T01:55:40.008418Z",
     "start_time": "2024-06-03T01:52:40.539966Z"
    }
   },
   "cell_type": "code",
   "source": [
    "\n",
    "\n",
    "models = {\n",
    "    'Decision Tree': DecisionTreeClassifier(),\n",
    "    'Random Forest': RandomForestClassifier(),\n",
    "    'MLP Classifier': MLPClassifier(),\n",
    "    'K-Nearest Neighbors': KNeighborsClassifier(),\n",
    "    #'Support Vector Classifier': SVC(probability=True),\n",
    "    'AdaBoost': AdaBoostClassifier(),\n",
    "    'Gaussian Naive Bayes': GaussianNB(),\n",
    "    'Quadratic Discriminant Analysis': QuadraticDiscriminantAnalysis()\n",
    "}\n",
    "\n",
    "for model_name, model in models.items():\n",
    "    #print(f\"Model: {model_name}\")\n",
    "    results = k_fold_cross_validation(model, data, 10)\n",
    "    print(f\"{model_name} & {round(results['accuracy'], 4)} & {round(results['precision'], 4)} & {round(results['recall'], 4)} & {round(results['f1_score'], 4)} & {round(results['roc_auc'], 4)}\")\n",
    "    #print(results)\n",
    "    #print(\"\\n\")\n"
   ],
   "id": "fefc9d7208616ed0",
   "outputs": [
    {
     "name": "stdout",
     "output_type": "stream",
     "text": [
      "Decision Tree & 0.9757 & 0.9843 & 0.9685 & 0.9763 & 0.976\n",
      "Random Forest & 0.9884 & 0.9931 & 0.9845 & 0.9888 & 0.9995\n",
      "MLP Classifier & 0.8516 & 0.8617 & 0.8684 & 0.8577 & 0.9336\n",
      "K-Nearest Neighbors & 0.841 & 0.8319 & 0.8685 & 0.8497 & 0.9311\n"
     ]
    },
    {
     "name": "stderr",
     "output_type": "stream",
     "text": [
      "/home/pawel/.virtualenvs/anti-gpt-checker/lib/python3.10/site-packages/sklearn/ensemble/_weight_boosting.py:519: FutureWarning: The SAMME.R algorithm (the default) is deprecated and will be removed in 1.6. Use the SAMME algorithm to circumvent this warning.\n",
      "  warnings.warn(\n",
      "/home/pawel/.virtualenvs/anti-gpt-checker/lib/python3.10/site-packages/sklearn/ensemble/_weight_boosting.py:519: FutureWarning: The SAMME.R algorithm (the default) is deprecated and will be removed in 1.6. Use the SAMME algorithm to circumvent this warning.\n",
      "  warnings.warn(\n",
      "/home/pawel/.virtualenvs/anti-gpt-checker/lib/python3.10/site-packages/sklearn/ensemble/_weight_boosting.py:519: FutureWarning: The SAMME.R algorithm (the default) is deprecated and will be removed in 1.6. Use the SAMME algorithm to circumvent this warning.\n",
      "  warnings.warn(\n",
      "/home/pawel/.virtualenvs/anti-gpt-checker/lib/python3.10/site-packages/sklearn/ensemble/_weight_boosting.py:519: FutureWarning: The SAMME.R algorithm (the default) is deprecated and will be removed in 1.6. Use the SAMME algorithm to circumvent this warning.\n",
      "  warnings.warn(\n",
      "/home/pawel/.virtualenvs/anti-gpt-checker/lib/python3.10/site-packages/sklearn/ensemble/_weight_boosting.py:519: FutureWarning: The SAMME.R algorithm (the default) is deprecated and will be removed in 1.6. Use the SAMME algorithm to circumvent this warning.\n",
      "  warnings.warn(\n",
      "/home/pawel/.virtualenvs/anti-gpt-checker/lib/python3.10/site-packages/sklearn/ensemble/_weight_boosting.py:519: FutureWarning: The SAMME.R algorithm (the default) is deprecated and will be removed in 1.6. Use the SAMME algorithm to circumvent this warning.\n",
      "  warnings.warn(\n",
      "/home/pawel/.virtualenvs/anti-gpt-checker/lib/python3.10/site-packages/sklearn/ensemble/_weight_boosting.py:519: FutureWarning: The SAMME.R algorithm (the default) is deprecated and will be removed in 1.6. Use the SAMME algorithm to circumvent this warning.\n",
      "  warnings.warn(\n",
      "/home/pawel/.virtualenvs/anti-gpt-checker/lib/python3.10/site-packages/sklearn/ensemble/_weight_boosting.py:519: FutureWarning: The SAMME.R algorithm (the default) is deprecated and will be removed in 1.6. Use the SAMME algorithm to circumvent this warning.\n",
      "  warnings.warn(\n",
      "/home/pawel/.virtualenvs/anti-gpt-checker/lib/python3.10/site-packages/sklearn/ensemble/_weight_boosting.py:519: FutureWarning: The SAMME.R algorithm (the default) is deprecated and will be removed in 1.6. Use the SAMME algorithm to circumvent this warning.\n",
      "  warnings.warn(\n",
      "/home/pawel/.virtualenvs/anti-gpt-checker/lib/python3.10/site-packages/sklearn/ensemble/_weight_boosting.py:519: FutureWarning: The SAMME.R algorithm (the default) is deprecated and will be removed in 1.6. Use the SAMME algorithm to circumvent this warning.\n",
      "  warnings.warn(\n"
     ]
    },
    {
     "name": "stdout",
     "output_type": "stream",
     "text": [
      "AdaBoost & 0.9746 & 0.9728 & 0.9784 & 0.9756 & 0.9972\n",
      "Gaussian Naive Bayes & 0.7199 & 0.6503 & 0.9934 & 0.7859 & 0.8845\n"
     ]
    },
    {
     "name": "stderr",
     "output_type": "stream",
     "text": [
      "/home/pawel/.virtualenvs/anti-gpt-checker/lib/python3.10/site-packages/sklearn/discriminant_analysis.py:935: UserWarning: Variables are collinear\n",
      "  warnings.warn(\"Variables are collinear\")\n",
      "/home/pawel/.virtualenvs/anti-gpt-checker/lib/python3.10/site-packages/sklearn/discriminant_analysis.py:935: UserWarning: Variables are collinear\n",
      "  warnings.warn(\"Variables are collinear\")\n",
      "/home/pawel/.virtualenvs/anti-gpt-checker/lib/python3.10/site-packages/sklearn/discriminant_analysis.py:935: UserWarning: Variables are collinear\n",
      "  warnings.warn(\"Variables are collinear\")\n",
      "/home/pawel/.virtualenvs/anti-gpt-checker/lib/python3.10/site-packages/sklearn/discriminant_analysis.py:935: UserWarning: Variables are collinear\n",
      "  warnings.warn(\"Variables are collinear\")\n",
      "/home/pawel/.virtualenvs/anti-gpt-checker/lib/python3.10/site-packages/sklearn/discriminant_analysis.py:935: UserWarning: Variables are collinear\n",
      "  warnings.warn(\"Variables are collinear\")\n",
      "/home/pawel/.virtualenvs/anti-gpt-checker/lib/python3.10/site-packages/sklearn/discriminant_analysis.py:935: UserWarning: Variables are collinear\n",
      "  warnings.warn(\"Variables are collinear\")\n",
      "/home/pawel/.virtualenvs/anti-gpt-checker/lib/python3.10/site-packages/sklearn/discriminant_analysis.py:935: UserWarning: Variables are collinear\n",
      "  warnings.warn(\"Variables are collinear\")\n",
      "/home/pawel/.virtualenvs/anti-gpt-checker/lib/python3.10/site-packages/sklearn/discriminant_analysis.py:935: UserWarning: Variables are collinear\n",
      "  warnings.warn(\"Variables are collinear\")\n",
      "/home/pawel/.virtualenvs/anti-gpt-checker/lib/python3.10/site-packages/sklearn/discriminant_analysis.py:935: UserWarning: Variables are collinear\n",
      "  warnings.warn(\"Variables are collinear\")\n"
     ]
    },
    {
     "name": "stdout",
     "output_type": "stream",
     "text": [
      "Quadratic Discriminant Analysis & 0.6867 & 0.6233 & 0.9984 & 0.7674 & 0.6768\n"
     ]
    },
    {
     "name": "stderr",
     "output_type": "stream",
     "text": [
      "/home/pawel/.virtualenvs/anti-gpt-checker/lib/python3.10/site-packages/sklearn/discriminant_analysis.py:935: UserWarning: Variables are collinear\n",
      "  warnings.warn(\"Variables are collinear\")\n"
     ]
    }
   ],
   "execution_count": 5
  },
  {
   "metadata": {
    "ExecuteTime": {
     "end_time": "2024-06-04T16:45:49.146158Z",
     "start_time": "2024-06-04T16:45:49.143035Z"
    }
   },
   "cell_type": "code",
   "source": "from sklearn.ensemble import RandomForestClassifier",
   "id": "7b85858c1858023a",
   "outputs": [],
   "execution_count": 16
  },
  {
   "metadata": {
    "ExecuteTime": {
     "end_time": "2024-06-03T03:30:20.161052Z",
     "start_time": "2024-06-03T03:30:20.157622Z"
    }
   },
   "cell_type": "code",
   "source": [
    "generated = pl_generated_personal\n",
    "real = pl_real_personal"
   ],
   "id": "82542f1a2ace043b",
   "outputs": [],
   "execution_count": 43
  },
  {
   "metadata": {},
   "cell_type": "code",
   "outputs": [],
   "execution_count": null,
   "source": "",
   "id": "2e6644611228503f"
  },
  {
   "metadata": {
    "ExecuteTime": {
     "end_time": "2024-06-04T16:41:45.682956Z",
     "start_time": "2024-06-04T16:41:45.679170Z"
    }
   },
   "cell_type": "code",
   "source": [
    "all_error_features=['number_of_errors', 'no_space_after_punctuation', 'double_spaces', 'text_errors_by_category.AMERICAN_ENGLISH_STYLE',\n",
    "    'text_errors_by_category.BRITISH_ENGLISH',\n",
    "    'text_errors_by_category.CASING',\n",
    "    'text_errors_by_category.COLLOCATIONS',\n",
    "    'text_errors_by_category.COMPOUNDING',\n",
    "    'text_errors_by_category.CONFUSED_WORDS',\n",
    "    'text_errors_by_category.GRAMMAR',\n",
    "    'text_errors_by_category.MISC',\n",
    "    'text_errors_by_category.MULTITOKEN_SPELLING',\n",
    "    'text_errors_by_category.NONSTANDARD_PHRASES',\n",
    "    'text_errors_by_category.NUMBERS',\n",
    "    'text_errors_by_category.PHONETICS',\n",
    "    'text_errors_by_category.PRAWDOPODOBNE_LITEROWKI',\n",
    "    'text_errors_by_category.PUNCTUATION',\n",
    "    'text_errors_by_category.REDUNDANCY',\n",
    "    'text_errors_by_category.REPETITIONS_STYLE',\n",
    "    'text_errors_by_category.SEMANTICS',\n",
    "    'text_errors_by_category.SPELLING',\n",
    "    'text_errors_by_category.STYLE',\n",
    "    'text_errors_by_category.SYNTAX',\n",
    "    'text_errors_by_category.TYPOGRAPHY',\n",
    "    'text_errors_by_category.TYPOS',\n",
    "    'text_errors_by_category.WORD_ORDER']"
   ],
   "id": "e79629bfeac99195",
   "outputs": [],
   "execution_count": 10
  },
  {
   "metadata": {
    "ExecuteTime": {
     "end_time": "2024-06-04T16:41:47.805365Z",
     "start_time": "2024-06-04T16:41:47.801573Z"
    }
   },
   "cell_type": "code",
   "source": "len(all_error_features)",
   "id": "c97a130bd30e498a",
   "outputs": [
    {
     "data": {
      "text/plain": [
       "26"
      ]
     },
     "execution_count": 11,
     "metadata": {},
     "output_type": "execute_result"
    }
   ],
   "execution_count": 11
  },
  {
   "metadata": {
    "ExecuteTime": {
     "end_time": "2024-06-03T03:38:35.552890Z",
     "start_time": "2024-06-03T03:38:31.664398Z"
    }
   },
   "cell_type": "code",
   "source": [
    "for n in [30]:\n",
    "    data = convert_db_attributes_to_input_data(generated, real, n, exclude_additionally=all_error_features)\n",
    "    results = k_fold_cross_validation(RandomForestClassifier(), data, 10)\n",
    "    #print(f\"{n} {round(results['accuracy'], 4)} {round(results['roc_auc'], 4)}\")\n",
    "    n = len(data[0][0])\n",
    "    print(f\"{n} & {round(results['accuracy'], 4)} & {round(results['precision'], 4)} & {round(results['recall'], 4)} & {round(results['f1_score'], 4)} & {round(results['roc_auc'], 4)}\")\n",
    "    #print(f\"[{n} , {round(results['accuracy'], 4)}  , {round(results['roc_auc'], 4)}],\")\n",
    "\n"
   ],
   "id": "ec8e5cadb23be3ea",
   "outputs": [
    {
     "name": "stdout",
     "output_type": "stream",
     "text": [
      "30 & 0.9223 & 0.9057 & 0.9449 & 0.9242 & 0.9755\n"
     ]
    }
   ],
   "execution_count": 69
  },
  {
   "metadata": {},
   "cell_type": "markdown",
   "source": "",
   "id": "94022314b37051aa"
  },
  {
   "metadata": {
    "ExecuteTime": {
     "end_time": "2024-06-02T20:05:45.580938Z",
     "start_time": "2024-06-02T20:05:45.577636Z"
    }
   },
   "cell_type": "code",
   "source": [
    "generated = pl_generated_personal\n",
    "real = pl_real_personal"
   ],
   "id": "6766a0e830859687",
   "outputs": [],
   "execution_count": 12
  },
  {
   "metadata": {
    "ExecuteTime": {
     "end_time": "2024-06-02T20:05:53.459280Z",
     "start_time": "2024-06-02T20:05:45.825212Z"
    }
   },
   "cell_type": "code",
   "source": [
    "for n in [1,2,4,6,8,10,14,20,30,100,244]:\n",
    "    data = convert_db_attributes_to_input_data(generated, real, n, exclude_additionally=[])\n",
    "    results = k_fold_cross_validation(RandomForestClassifier(), data, 10)\n",
    "    n = len(data[0][0])\n",
    "    print(f\"{n} & {round(results['accuracy'], 4)} & {round(results['precision'], 4)} & {round(results['recall'], 4)} & {round(results['f1_score'], 4)} & {round(results['roc_auc'], 4)}\")"
   ],
   "id": "b877650a12b9603e",
   "outputs": [
    {
     "name": "stdout",
     "output_type": "stream",
     "text": [
      "10 & 0.9243 & 0.9245 & 0.9268 & 0.925 & 0.9769\n",
      "244 & 0.944 & 0.9391 & 0.9543 & 0.9459 & 0.9865\n"
     ]
    }
   ],
   "execution_count": 13
  },
  {
   "metadata": {
    "ExecuteTime": {
     "end_time": "2024-06-04T16:41:52.631262Z",
     "start_time": "2024-06-04T16:41:52.626388Z"
    }
   },
   "cell_type": "code",
   "source": [
    "spelling_related_mistakes = [\n",
    "    'text_errors_by_category.MULTITOKEN_SPELLING',  # Mistakes involving the incorrect spelling of multi-word phrases.\n",
    "    'text_errors_by_category.PRAWDOPODOBNE_LITEROWKI',  # Probable typos or misspellings (term in Polish).\n",
    "    'text_errors_by_category.SPELLING',  # General spelling mistakes.\n",
    "    'text_errors_by_category.TYPOS'  # Typographical errors, often simple and easy to spot.\n",
    "]\n",
    "\n",
    "editing_related_mistakes = [\n",
    "    'no_space_after_punctuation',  # Missing spaces after punctuation marks like periods, commas, or colons.\n",
    "    'double_spaces',  # Unintended multiple spaces between words or sentences.\n",
    "    'text_errors_by_category.AMERICAN_ENGLISH_STYLE',  # Inconsistencies or errors related to American English conventions (e.g., spelling, punctuation, and usage).\n",
    "    'text_errors_by_category.BRITISH_ENGLISH',  # Inconsistencies or errors related to British English conventions.\n",
    "    'text_errors_by_category.CASING',  # Incorrect use of uppercase and lowercase letters.\n",
    "    'text_errors_by_category.COLLOCATIONS',  # Incorrect or awkward combinations of words that are typically used together.\n",
    "    'text_errors_by_category.COMPOUNDING',  # Errors in forming compound words (e.g., \"ice cream\" vs. \"ice-cream\").\n",
    "    'text_errors_by_category.CONFUSED_WORDS',  # Misuse of words that sound similar or have similar spellings but different meanings (e.g., \"affect\" vs. \"effect\").\n",
    "    'text_errors_by_category.NONSTANDARD_PHRASES',  # Use of phrases that are not standard or widely accepted.\n",
    "    'text_errors_by_category.PUNCTUATION',  # Incorrect or missing punctuation marks.\n",
    "    'text_errors_by_category.REDUNDANCY',  # Unnecessary repetition of words or information.\n",
    "    'text_errors_by_category.REPETITIONS_STYLE',  # Unintentional repetition of words or phrases that affect the style and flow of the text.\n",
    "    'text_errors_by_category.STYLE',  # Issues related to the overall writing style, including tone, clarity, and consistency.\n",
    "    'text_errors_by_category.TYPOGRAPHY',  # Errors related to the visual appearance of text, including font, size, spacing, and alignment.\n",
    "    'text_errors_by_category.WORD_ORDER',  # Incorrect or awkward arrangement of words in a sentence.\n",
    "    'text_errors_by_category.NUMBERS',  # Errors related to the use of numbers, such as formatting or incorrect numerical expressions.\n",
    "    'text_errors_by_category.PHONETICS'  # Errors related to the phonetic aspects of words, such as incorrect pronunciation guides.\n",
    "]\n",
    "\n",
    "grammar_mistakes = [\n",
    "    'text_errors_by_category.GRAMMAR',  # Mistakes related to the rules of grammar, such as subject-verb agreement, tense usage, and sentence structure.\n",
    "    'text_errors_by_category.SYNTAX'  # Errors in the arrangement of words and phrases to create well-formed sentences.\n",
    "]\n",
    "\n",
    "other_mistakes = [\n",
    "    'number_of_errors',  # A general count of errors, not specifying the type.\n",
    "    'text_errors_by_category.MISC',  # Miscellaneous errors that don't fit into other categories.\n",
    "    'text_errors_by_category.SEMANTICS'\n",
    "]\n",
    "\n"
   ],
   "id": "4e82841c1c5fa83b",
   "outputs": [],
   "execution_count": 12
  },
  {
   "metadata": {
    "ExecuteTime": {
     "end_time": "2024-06-04T19:22:26.456980Z",
     "start_time": "2024-06-04T19:22:26.452880Z"
    }
   },
   "cell_type": "code",
   "source": [
    "print(f\"Spelling related mistakes: {len(spelling_related_mistakes)}\")\n",
    "print(f\"Editing related mistakes: {len(editing_related_mistakes)}\")\n",
    "print(f\"Grammar mistakes: {len(grammar_mistakes)}\")\n",
    "print(f\"Other mistakes: {len(other_mistakes)}\")\n"
   ],
   "id": "afefdd692ba667fc",
   "outputs": [
    {
     "name": "stdout",
     "output_type": "stream",
     "text": [
      "Spelling related mistakes: 4\n",
      "Editing related mistakes: 17\n",
      "Grammar mistakes: 2\n",
      "Other mistakes: 3\n"
     ]
    }
   ],
   "execution_count": 21
  },
  {
   "metadata": {
    "ExecuteTime": {
     "end_time": "2024-06-04T16:42:48.906932Z",
     "start_time": "2024-06-04T16:42:48.904032Z"
    }
   },
   "cell_type": "code",
   "source": [
    "generated = en_generated_personal\n",
    "real = en_real_personal"
   ],
   "id": "8b1d5d3cc3aa1b0",
   "outputs": [],
   "execution_count": 14
  },
  {
   "metadata": {
    "ExecuteTime": {
     "end_time": "2024-06-04T16:51:00.202758Z",
     "start_time": "2024-06-04T16:45:52.772599Z"
    }
   },
   "cell_type": "code",
   "source": [
    "to_exclude = spelling_related_mistakes + other_mistakes\n",
    "for n in [245]:\n",
    "    data = convert_db_attributes_to_input_data(generated, real, n, exclude_additionally=all_error_features)\n",
    "    n = len(data[0][0])\n",
    "    results = k_fold_cross_validation(RandomForestClassifier(), data, 10)\n",
    "    #print(f\"{n} {round(results['accuracy'], 4)} {round(results['roc_auc'], 4)}\")\n",
    "    print(\"No mistakes\")\n",
    "    print(\n",
    "        f\"{n} & {round(results['accuracy'], 4)} & {round(results['precision'], 4)} & {round(results['recall'], 4)} & {round(results['f1_score'], 4)} & {round(results['roc_auc'], 4)}\")\n",
    "for n in [245]:\n",
    "    data = convert_db_attributes_to_input_data(generated, real, n, exclude_additionally=to_exclude)\n",
    "    n = len(data[0][0])\n",
    "    results = k_fold_cross_validation(RandomForestClassifier(), data, 10)\n",
    "    #print(f\"{n} {round(results['accuracy'], 4)} {round(results['roc_auc'], 4)}\")\n",
    "    print(\"No spelling mistakes\")\n",
    "    print(\n",
    "        f\"{n} & {round(results['accuracy'], 4)} & {round(results['precision'], 4)} & {round(results['recall'], 4)} & {round(results['f1_score'], 4)} & {round(results['roc_auc'], 4)}\")\n",
    "to_exclude = editing_related_mistakes + other_mistakes\n",
    "for n in [245]:\n",
    "    data = convert_db_attributes_to_input_data(generated, real, n, exclude_additionally=to_exclude)\n",
    "    n = len(data[0][0])\n",
    "    results = k_fold_cross_validation(RandomForestClassifier(), data, 10)\n",
    "    #print(f\"{n} {round(results['accuracy'], 4)} {round(results['roc_auc'], 4)}\")\n",
    "    print(\"No editing mistakes\")\n",
    "    print(\n",
    "        f\"{n} & {round(results['accuracy'], 4)} & {round(results['precision'], 4)} & {round(results['recall'], 4)} & {round(results['f1_score'], 4)} & {round(results['roc_auc'], 4)}\")\n",
    "to_exclude = grammar_mistakes + other_mistakes\n",
    "for n in [245]:\n",
    "    data = convert_db_attributes_to_input_data(generated, real, n, exclude_additionally=to_exclude)\n",
    "    n = len(data[0][0])\n",
    "    results = k_fold_cross_validation(RandomForestClassifier(), data, 10)\n",
    "    #print(f\"{n} {round(results['accuracy'], 4)} {round(results['roc_auc'], 4)}\")\n",
    "    print(\"No grammar mistakes\")\n",
    "    print(\n",
    "        f\"{n} & {round(results['accuracy'], 4)} & {round(results['precision'], 4)} & {round(results['recall'], 4)} & {round(results['f1_score'], 4)} & {round(results['roc_auc'], 4)}\")"
   ],
   "id": "10dd76d8e6964eb5",
   "outputs": [
    {
     "name": "stdout",
     "output_type": "stream",
     "text": [
      "No mistakes\n",
      "218 & 0.984 & 0.9881 & 0.981 & 0.9845 & 0.9987\n",
      "No spelling mistakes\n",
      "237 & 0.9861 & 0.9905 & 0.9827 & 0.9866 & 0.9992\n",
      "No editing mistakes\n",
      "224 & 0.9859 & 0.9901 & 0.9825 & 0.9863 & 0.9991\n",
      "No grammar mistakes\n",
      "239 & 0.9878 & 0.9916 & 0.9847 & 0.9881 & 0.9994\n"
     ]
    }
   ],
   "execution_count": 17
  },
  {
   "metadata": {
    "ExecuteTime": {
     "end_time": "2024-06-04T16:54:44.275765Z",
     "start_time": "2024-06-04T16:54:44.272586Z"
    }
   },
   "cell_type": "code",
   "source": [
    "generated = pl_generated_personal\n",
    "real = pl_real_personal"
   ],
   "id": "a06fb7daf0ac5540",
   "outputs": [],
   "execution_count": 19
  },
  {
   "metadata": {
    "ExecuteTime": {
     "end_time": "2024-06-04T16:55:03.093899Z",
     "start_time": "2024-06-04T16:54:49.451311Z"
    }
   },
   "cell_type": "code",
   "source": [
    "to_exclude = spelling_related_mistakes + other_mistakes\n",
    "for n in [245]:\n",
    "    data = convert_db_attributes_to_input_data(generated, real, n, exclude_additionally=all_error_features)\n",
    "    n = len(data[0][0])\n",
    "    results = k_fold_cross_validation(RandomForestClassifier(), data, 10)\n",
    "    #print(f\"{n} {round(results['accuracy'], 4)} {round(results['roc_auc'], 4)}\")\n",
    "    print(\"No mistakes\")\n",
    "    print(\n",
    "        f\"{n} & {round(results['accuracy'], 4)} & {round(results['precision'], 4)} & {round(results['recall'], 4)} & {round(results['f1_score'], 4)} & {round(results['roc_auc'], 4)}\")\n",
    "for n in [245]:\n",
    "    data = convert_db_attributes_to_input_data(generated, real, n, exclude_additionally=to_exclude)\n",
    "    n = len(data[0][0])\n",
    "    results = k_fold_cross_validation(RandomForestClassifier(), data, 10)\n",
    "    #print(f\"{n} {round(results['accuracy'], 4)} {round(results['roc_auc'], 4)}\")\n",
    "    print(\"No spelling mistakes\")\n",
    "    print(\n",
    "        f\"{n} & {round(results['accuracy'], 4)} & {round(results['precision'], 4)} & {round(results['recall'], 4)} & {round(results['f1_score'], 4)} & {round(results['roc_auc'], 4)}\")\n",
    "to_exclude = editing_related_mistakes + other_mistakes\n",
    "for n in [245]:\n",
    "    data = convert_db_attributes_to_input_data(generated, real, n, exclude_additionally=to_exclude)\n",
    "    n = len(data[0][0])\n",
    "    results = k_fold_cross_validation(RandomForestClassifier(), data, 10)\n",
    "    #print(f\"{n} {round(results['accuracy'], 4)} {round(results['roc_auc'], 4)}\")\n",
    "    print(\"No editing mistakes\")\n",
    "    print(\n",
    "        f\"{n} & {round(results['accuracy'], 4)} & {round(results['precision'], 4)} & {round(results['recall'], 4)} & {round(results['f1_score'], 4)} & {round(results['roc_auc'], 4)}\")\n",
    "to_exclude = grammar_mistakes + other_mistakes\n",
    "for n in [245]:\n",
    "    data = convert_db_attributes_to_input_data(generated, real, n, exclude_additionally=to_exclude)\n",
    "    n = len(data[0][0])\n",
    "    results = k_fold_cross_validation(RandomForestClassifier(), data, 10)\n",
    "    #print(f\"{n} {round(results['accuracy'], 4)} {round(results['roc_auc'], 4)}\")\n",
    "    print(\"No grammar mistakes\")\n",
    "    print(\n",
    "        f\"{n} & {round(results['accuracy'], 4)} & {round(results['precision'], 4)} & {round(results['recall'], 4)} & {round(results['f1_score'], 4)} & {round(results['roc_auc'], 4)}\")"
   ],
   "id": "562a0fb186511fe1",
   "outputs": [
    {
     "name": "stdout",
     "output_type": "stream",
     "text": [
      "No mistakes\n",
      "194 & 0.9202 & 0.8935 & 0.9575 & 0.9235 & 0.9747\n",
      "No spelling mistakes\n",
      "213 & 0.9389 & 0.9278 & 0.956 & 0.9413 & 0.9857\n",
      "No editing mistakes\n",
      "200 & 0.9192 & 0.8942 & 0.9549 & 0.9227 & 0.9773\n",
      "No grammar mistakes\n",
      "215 & 0.941 & 0.9355 & 0.9524 & 0.9432 & 0.9876\n"
     ]
    }
   ],
   "execution_count": 20
  },
  {
   "metadata": {},
   "cell_type": "code",
   "outputs": [],
   "execution_count": null,
   "source": "",
   "id": "9d347983a5ccb324"
  }
 ],
 "metadata": {
  "kernelspec": {
   "display_name": "Python 3",
   "language": "python",
   "name": "python3"
  },
  "language_info": {
   "codemirror_mode": {
    "name": "ipython",
    "version": 2
   },
   "file_extension": ".py",
   "mimetype": "text/x-python",
   "name": "python",
   "nbconvert_exporter": "python",
   "pygments_lexer": "ipython2",
   "version": "2.7.6"
  }
 },
 "nbformat": 4,
 "nbformat_minor": 5
}
