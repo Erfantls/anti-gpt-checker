{
 "cells": [
  {
   "cell_type": "code",
   "id": "initial_id",
   "metadata": {
    "collapsed": true,
    "ExecuteTime": {
     "end_time": "2024-04-27T06:03:36.171897Z",
     "start_time": "2024-04-27T06:03:31.913321Z"
    }
   },
   "source": [
    "from typing import List\n",
    "from dao.email import DAOEmailGenerated, DAORealEmail\n",
    "\n",
    "from dao.attribute import DAOAttribute\n",
    "\n",
    "from ml.model_training import evaluate_models\n",
    "from ml.data_preparation import find_significant_features"
   ],
   "outputs": [
    {
     "name": "stderr",
     "output_type": "stream",
     "text": [
      "[nltk_data] Downloading package stopwords to /home/pawel/nltk_data...\n",
      "[nltk_data]   Package stopwords is already up-to-date!\n",
      "[nltk_data] Downloading package punkt to /home/pawel/nltk_data...\n",
      "[nltk_data]   Package punkt is already up-to-date!\n",
      "[nltk_data] Downloading package pl196x to /home/pawel/nltk_data...\n",
      "[nltk_data]   Package pl196x is already up-to-date!\n",
      "[nltk_data] Downloading package wordnet to /home/pawel/nltk_data...\n",
      "[nltk_data]   Package wordnet is already up-to-date!\n"
     ]
    }
   ],
   "execution_count": 1
  },
  {
   "metadata": {
    "ExecuteTime": {
     "end_time": "2024-04-27T06:04:01.628995Z",
     "start_time": "2024-04-27T06:03:36.173621Z"
    }
   },
   "cell_type": "code",
   "source": [
    "from models.attribute import AttributeInDB\n",
    "\n",
    "dao_generated_emails: DAOEmailGenerated = DAOEmailGenerated()\n",
    "dao_real_emails: DAORealEmail = DAORealEmail()\n",
    "dao_attribute: DAOAttribute = DAOAttribute()\n",
    "\n",
    "\n",
    "all_attributes: List[AttributeInDB] = dao_attribute.find_many_by_query({})\n",
    "all_generated: List[AttributeInDB] = dao_attribute.find_many_by_query({'is_generated': True})\n",
    "all_real: List[AttributeInDB] = dao_attribute.find_many_by_query({'is_generated': False})\n",
    "\n",
    "generated_personal: List[AttributeInDB] = dao_attribute.find_many_by_query({\"is_generated\": True, 'is_personal': True})\n",
    "real_personal: List[AttributeInDB] = dao_attribute.find_many_by_query({\"is_generated\": False, 'is_personal': True})\n",
    "\n",
    "generated_personal = [attribute for attribute in generated_personal if attribute is not None]\n",
    "real_personal = [attribute for attribute in real_personal if attribute is not None]\n",
    "\n",
    "pl_generated = [attribute for attribute in all_generated if attribute.language == 'pl']\n",
    "pl_real = [attribute for attribute in all_real if attribute.language == 'pl']\n",
    "en_generated = [attribute for attribute in all_generated if attribute.language == 'en']\n",
    "en_real = [attribute for attribute in all_real if attribute.language == 'en']\n",
    "\n",
    "pl_generated_personal = [attribute for attribute in generated_personal if attribute.language == 'pl']\n",
    "pl_real_personal = [attribute for attribute in real_personal if attribute.language == 'pl']\n",
    "en_generated_personal = [attribute for attribute in generated_personal if attribute.language == 'en']\n",
    "en_real_personal = [attribute for attribute in real_personal if attribute.language == 'en']"
   ],
   "id": "149455ad8d659a2c",
   "outputs": [],
   "execution_count": 2
  },
  {
   "metadata": {
    "ExecuteTime": {
     "end_time": "2024-04-27T06:33:03.680475Z",
     "start_time": "2024-04-27T06:33:01.922687Z"
    }
   },
   "cell_type": "code",
   "source": [
    "generated = pl_generated_personal\n",
    "real = pl_real_personal\n",
    "num_of_features = 10\n",
    "\n",
    "data = [[x.to_flat_dict_normalized(), 1]for x in generated]\n",
    "data += [[x.to_flat_dict_normalized(), 0] for x in real]\n",
    "# replace None with 0\n",
    "for i in range(len(data)):\n",
    "    for key in data[i][0].keys():\n",
    "        if data[i][0][key] is None:\n",
    "            data[i][0][key] = 0\n",
    "            \n",
    "significant_features = find_significant_features(data)\n",
    "features_to_exclude = significant_features[num_of_features:]\n",
    "\n",
    "data = [[x.to_flat_dict_normalized(exclude=features_to_exclude), 1]for x in generated]\n",
    "data += [[x.to_flat_dict_normalized(exclude=features_to_exclude), 0] for x in real]\n",
    "# replace None with 0\n",
    "for i in range(len(data)):\n",
    "    for key in data[i][0].keys():\n",
    "        if data[i][0][key] is None:\n",
    "            data[i][0][key] = 0"
   ],
   "id": "10edb111f023f9b7",
   "outputs": [
    {
     "name": "stderr",
     "output_type": "stream",
     "text": [
      "/mnt/d/Dev/Github/anti-gpt-checker/ml/data_preparation.py:26: FutureWarning: DataFrame.fillna with 'method' is deprecated and will raise in a future version. Use obj.ffill() or obj.bfill() instead.\n",
      "  df.fillna(method='ffill', inplace=True)\n"
     ]
    }
   ],
   "execution_count": 43
  },
  {
   "metadata": {
    "ExecuteTime": {
     "end_time": "2024-04-27T06:32:34.781311Z",
     "start_time": "2024-04-27T06:32:34.777412Z"
    }
   },
   "cell_type": "code",
   "source": "data[0][0]",
   "id": "d5b29465c5f7be54",
   "outputs": [
    {
     "data": {
      "text/plain": [
       "{'punctuation_per_sentence': 1.6666666666666667}"
      ]
     },
     "execution_count": 40,
     "metadata": {},
     "output_type": "execute_result"
    }
   ],
   "execution_count": 40
  },
  {
   "metadata": {
    "ExecuteTime": {
     "end_time": "2024-04-27T06:32:37.195567Z",
     "start_time": "2024-04-27T06:32:36.216671Z"
    }
   },
   "cell_type": "code",
   "source": "model_valuation = evaluate_models(data)",
   "id": "493916337656a572",
   "outputs": [
    {
     "name": "stderr",
     "output_type": "stream",
     "text": [
      "/home/pawel/.virtualenvs/anti-gpt-checker/lib/python3.10/site-packages/sklearn/ensemble/_weight_boosting.py:519: FutureWarning: The SAMME.R algorithm (the default) is deprecated and will be removed in 1.6. Use the SAMME algorithm to circumvent this warning.\n",
      "  warnings.warn(\n"
     ]
    }
   ],
   "execution_count": 41
  },
  {
   "metadata": {
    "ExecuteTime": {
     "end_time": "2024-04-27T06:32:40.763705Z",
     "start_time": "2024-04-27T06:32:40.758860Z"
    }
   },
   "cell_type": "code",
   "source": "model_valuation",
   "id": "7104bc1f989260bf",
   "outputs": [
    {
     "data": {
      "text/plain": [
       "{'Decision Tree': {'accuracy': 0.8413793103448276,\n",
       "  'precision': 0.8121212121212121,\n",
       "  'recall': 0.8993288590604027,\n",
       "  'f1_score': 0.8535031847133758,\n",
       "  'roc_auc': 0.8750773478033224},\n",
       " 'Random Forest': {'accuracy': 0.8517241379310345,\n",
       "  'precision': 0.8154761904761905,\n",
       "  'recall': 0.9194630872483222,\n",
       "  'f1_score': 0.8643533123028391,\n",
       "  'roc_auc': 0.885739444999762},\n",
       " 'MLP Classifier': {'accuracy': 0.8413793103448276,\n",
       "  'precision': 0.7877094972067039,\n",
       "  'recall': 0.9463087248322147,\n",
       "  'f1_score': 0.8597560975609756,\n",
       "  'roc_auc': 0.8821695463848827},\n",
       " 'K-Nearest Neighbors': {'accuracy': 0.8137931034482758,\n",
       "  'precision': 0.8368794326241135,\n",
       "  'recall': 0.7919463087248322,\n",
       "  'f1_score': 0.8137931034482758,\n",
       "  'roc_auc': 0.885977438240754},\n",
       " 'Support Vector Classifier': {'accuracy': 0.7965517241379311,\n",
       "  'precision': 0.7227722772277227,\n",
       "  'recall': 0.9798657718120806,\n",
       "  'f1_score': 0.8319088319088319,\n",
       "  'roc_auc': 0.8639154648007996},\n",
       " 'AdaBoost': {'accuracy': 0.8482758620689655,\n",
       "  'precision': 0.8106508875739645,\n",
       "  'recall': 0.9194630872483222,\n",
       "  'f1_score': 0.8616352201257862,\n",
       "  'roc_auc': 0.8945689942405636},\n",
       " 'Gaussian Naive Bayes': {'accuracy': 0.7965517241379311,\n",
       "  'precision': 0.7227722772277227,\n",
       "  'recall': 0.9798657718120806,\n",
       "  'f1_score': 0.8319088319088319,\n",
       "  'roc_auc': 0.8687229282688372},\n",
       " 'Quadratic Discriminant Analysis': {'accuracy': 0.7965517241379311,\n",
       "  'precision': 0.7227722772277227,\n",
       "  'recall': 0.9798657718120806,\n",
       "  'f1_score': 0.8319088319088319,\n",
       "  'roc_auc': 0.8687229282688372}}"
      ]
     },
     "execution_count": 42,
     "metadata": {},
     "output_type": "execute_result"
    }
   ],
   "execution_count": 42
  },
  {
   "metadata": {
    "ExecuteTime": {
     "end_time": "2024-04-27T06:30:35.596084Z",
     "start_time": "2024-04-27T06:30:35.592066Z"
    }
   },
   "cell_type": "code",
   "source": "len(data)",
   "id": "fefc9d7208616ed0",
   "outputs": [
    {
     "data": {
      "text/plain": [
       "965"
      ]
     },
     "execution_count": 26,
     "metadata": {},
     "output_type": "execute_result"
    }
   ],
   "execution_count": 26
  },
  {
   "metadata": {},
   "cell_type": "code",
   "outputs": [],
   "execution_count": null,
   "source": "",
   "id": "ec8e5cadb23be3ea"
  }
 ],
 "metadata": {
  "kernelspec": {
   "display_name": "Python 3",
   "language": "python",
   "name": "python3"
  },
  "language_info": {
   "codemirror_mode": {
    "name": "ipython",
    "version": 2
   },
   "file_extension": ".py",
   "mimetype": "text/x-python",
   "name": "python",
   "nbconvert_exporter": "python",
   "pygments_lexer": "ipython2",
   "version": "2.7.6"
  }
 },
 "nbformat": 4,
 "nbformat_minor": 5
}
