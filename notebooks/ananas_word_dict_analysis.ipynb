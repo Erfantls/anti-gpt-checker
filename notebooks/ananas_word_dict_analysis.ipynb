{
 "cells": [
  {
   "cell_type": "code",
   "id": "initial_id",
   "metadata": {
    "collapsed": true,
    "ExecuteTime": {
     "end_time": "2025-03-03T16:29:14.269624Z",
     "start_time": "2025-03-03T16:29:14.265729Z"
    }
   },
   "source": [
    "from config import load_dictionaries, init_language_tool_pl, init_language_tool_en\n",
    "\n",
    "from typing import List\n",
    "from tqdm import tqdm\n",
    "\n",
    "from dao.attribute import DAOAttributePL\n",
    "\n",
    "from models.attribute import AttributePLInDB\n",
    "from analysis.attribute_retriving import spelling_and_grammar_check, dictionary_check"
   ],
   "outputs": [],
   "execution_count": 5
  },
  {
   "metadata": {
    "ExecuteTime": {
     "end_time": "2025-03-03T16:27:02.019984Z",
     "start_time": "2025-03-03T16:26:17.303713Z"
    }
   },
   "cell_type": "code",
   "source": [
    "load_dictionaries()\n",
    "init_language_tool_pl()\n",
    "init_language_tool_en()\n",
    "dao_attributes = DAOAttributePL(collection_name=\"attributes-24-12-16-recalc-24-12-22.1-pgryka\")\n",
    "not_processed_word_dict: List[AttributePLInDB] = dao_attributes.find_many_by_query({'number_of_unrecognized_words_lang_tool': None})"
   ],
   "id": "146fec82e51e8da7",
   "outputs": [],
   "execution_count": 2
  },
  {
   "metadata": {
    "ExecuteTime": {
     "end_time": "2025-03-03T16:29:30.935682Z",
     "start_time": "2025-03-03T16:29:28.469788Z"
    }
   },
   "cell_type": "code",
   "source": "init_language_tool_en()",
   "id": "65b14f67a7f8ac76",
   "outputs": [],
   "execution_count": 6
  },
  {
   "metadata": {
    "ExecuteTime": {
     "end_time": "2025-03-03T17:47:26.268399Z",
     "start_time": "2025-03-03T16:29:34.377824Z"
    }
   },
   "cell_type": "code",
   "source": [
    "for attribute_in_db in tqdm(not_processed_word_dict, total=len(not_processed_word_dict),\n",
    "                            desc=f'Calculating word dicts statistics of lab reports', unit='Lab reports', miniters=1):\n",
    "    text_to_analyse = attribute_in_db.stylometrix_metrics.text\n",
    "    text_errors_by_category, number_of_errors, number_of_abbreviations, number_of_unrecognized_words = spelling_and_grammar_check(text_to_analyse, 'pl')\n",
    "    number_of_unrecognized_words_dict_check = dictionary_check(text_to_analyse)\n",
    "\n",
    "    dao_attributes.update_one({'_id': attribute_in_db.id},\n",
    "                              {\"$set\": {'number_of_unrecognized_words_lang_tool': number_of_unrecognized_words,\n",
    "                                        'number_of_abbreviations_lang_tool': number_of_abbreviations,\n",
    "                                        'number_of_unrecognized_words_dict_check': number_of_unrecognized_words_dict_check}})"
   ],
   "id": "a95e0b250224cb4b",
   "outputs": [
    {
     "name": "stderr",
     "output_type": "stream",
     "text": [
      "Calculating word dicts statistics of lab reports: 100%|██████████| 4756/4756 [1:17:51<00:00,  1.02Lab reports/s]  \n"
     ]
    }
   ],
   "execution_count": 7
  },
  {
   "metadata": {},
   "cell_type": "code",
   "outputs": [],
   "execution_count": null,
   "source": "",
   "id": "317ba6c6fd7ba063"
  }
 ],
 "metadata": {
  "kernelspec": {
   "display_name": "Python 3",
   "language": "python",
   "name": "python3"
  },
  "language_info": {
   "codemirror_mode": {
    "name": "ipython",
    "version": 2
   },
   "file_extension": ".py",
   "mimetype": "text/x-python",
   "name": "python",
   "nbconvert_exporter": "python",
   "pygments_lexer": "ipython2",
   "version": "2.7.6"
  }
 },
 "nbformat": 4,
 "nbformat_minor": 5
}
