{
 "cells": [
  {
   "cell_type": "code",
   "execution_count": 1,
   "metadata": {
    "collapsed": true,
    "ExecuteTime": {
     "end_time": "2024-03-05T23:54:06.731573800Z",
     "start_time": "2024-03-05T23:54:04.291418800Z"
    }
   },
   "outputs": [],
   "source": [
    "from dao.email import AVAILABLE_EMAIL_DAOS\n",
    "from typing import List"
   ]
  },
  {
   "cell_type": "code",
   "execution_count": 2,
   "outputs": [],
   "source": [
    "from dao.email import DAOEmailGenerated\n",
    "from models.email import EmailGeneratedInDB\n",
    "\n",
    "dao_generated_emails = DAOEmailGenerated()\n",
    "all_generated: List[EmailGeneratedInDB]= dao_generated_emails.find_all()\n",
    "ids = [email.og_doc_id for email in all_generated]"
   ],
   "metadata": {
    "collapsed": false,
    "ExecuteTime": {
     "end_time": "2024-03-05T23:54:07.239664Z",
     "start_time": "2024-03-05T23:54:07.212780300Z"
    }
   }
  },
  {
   "cell_type": "code",
   "execution_count": null,
   "outputs": [
    {
     "name": "stdout",
     "output_type": "stream",
     "text": [
      "gmail1\n"
     ]
    },
    {
     "name": "stderr",
     "output_type": "stream",
     "text": [
      "Generating emails for gmail1:   3%|▎         | 13/461 [00:32<17:26,  2.34s/emails]"
     ]
    }
   ],
   "source": [
    "from tqdm import tqdm\n",
    "from models.email import EmailGenerated, EmailGmailInDB\n",
    "from services.email_generator import generate_email_based_on_og_email\n",
    "from analysis.nlp_transformations import clean_text, separate_previous_conversation, remove_footers\n",
    "\n",
    "gmail_daos_info = [('gmail1', AVAILABLE_EMAIL_DAOS['gmail1']), ('gmail2', AVAILABLE_EMAIL_DAOS['gmail2']), ('gmail3', AVAILABLE_EMAIL_DAOS['gmail3'])]\n",
    "\n",
    "\n",
    "\n",
    "for gmail_dao_name, gmail_dao in gmail_daos_info:\n",
    "    emails: List[EmailGmailInDB] = gmail_dao.find_many_by_query({\n",
    "        'email_labels': {'$not':{'$regex': \"Kategori\"}},\n",
    "        \"_id\": {\n",
    "            \"$nin\": ids\n",
    "        }\n",
    "    })\n",
    "    print(gmail_dao_name)\n",
    "    for email in tqdm(emails, total=len(emails), desc=f'Generating emails for {gmail_dao_name}', unit='emails', miniters=1):\n",
    "        subject = email.subject\n",
    "        if email.text_plain is None:\n",
    "            continue\n",
    "        email_text, _ = separate_previous_conversation(email.text_plain)\n",
    "        email_text = remove_footers(clean_text(email_text))\n",
    "        if len(email_text) < 10:\n",
    "            continue\n",
    "        try:\n",
    "            generated_text = generate_email_based_on_og_email(subject, email_text, email.detected_language)\n",
    "        except ValueError:\n",
    "            continue\n",
    "        except ConnectionError:\n",
    "            continue\n",
    "        email_generated = EmailGenerated(\n",
    "            og_db_name=gmail_dao_name,\n",
    "            og_doc_id=email.id,\n",
    "            subject=subject,\n",
    "            text_plain=generated_text,\n",
    "            language=email.detected_language,\n",
    "        )\n",
    "        dao_generated_emails.insert_one(email_generated)\n"
   ],
   "metadata": {
    "collapsed": false,
    "is_executing": true,
    "ExecuteTime": {
     "start_time": "2024-03-06T00:16:52.923738Z"
    }
   }
  },
  {
   "cell_type": "code",
   "execution_count": null,
   "outputs": [],
   "source": [],
   "metadata": {
    "collapsed": false
   }
  }
 ],
 "metadata": {
  "kernelspec": {
   "display_name": "Python 3",
   "language": "python",
   "name": "python3"
  },
  "language_info": {
   "codemirror_mode": {
    "name": "ipython",
    "version": 2
   },
   "file_extension": ".py",
   "mimetype": "text/x-python",
   "name": "python",
   "nbconvert_exporter": "python",
   "pygments_lexer": "ipython2",
   "version": "2.7.6"
  }
 },
 "nbformat": 4,
 "nbformat_minor": 0
}
