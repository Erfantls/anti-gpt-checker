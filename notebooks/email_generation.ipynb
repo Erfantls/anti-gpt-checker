{
 "cells": [
  {
   "cell_type": "code",
   "execution_count": 1,
   "metadata": {
    "collapsed": true,
    "ExecuteTime": {
     "end_time": "2024-03-17T22:39:45.449678300Z",
     "start_time": "2024-03-17T22:39:42.848863800Z"
    }
   },
   "outputs": [
    {
     "name": "stderr",
     "output_type": "stream",
     "text": [
      "/home/pawel/.virtualenvs/anti-gpt-checker/lib/python3.10/site-packages/transformers/utils/generic.py:441: UserWarning: torch.utils._pytree._register_pytree_node is deprecated. Please use torch.utils._pytree.register_pytree_node instead.\n",
      "  _torch_pytree._register_pytree_node(\n",
      "/home/pawel/.virtualenvs/anti-gpt-checker/lib/python3.10/site-packages/transformers/utils/generic.py:309: UserWarning: torch.utils._pytree._register_pytree_node is deprecated. Please use torch.utils._pytree.register_pytree_node instead.\n",
      "  _torch_pytree._register_pytree_node(\n"
     ]
    }
   ],
   "source": [
    "from dao.email import AVAILABLE_EMAIL_DAOS\n",
    "from typing import List"
   ]
  },
  {
   "cell_type": "code",
   "execution_count": 31,
   "outputs": [],
   "source": [
    "from dao.email import DAOEmailGenerated\n",
    "from models.email import EmailGeneratedInDB\n",
    "from tqdm import tqdm\n",
    "from models.email import EmailGenerated, EmailGmailInDB\n",
    "from services.email_generator import generate_email_based_on_og_email\n",
    "from analysis.nlp_transformations import clean_text, separate_previous_conversation, remove_footers\n",
    "from services.email_generator import _load_prompt_from_json, _request_to_openai_api, _ensure_no_placeholders\n",
    "from models.email import EmailSpamAssassinInDB\n",
    "dao_generated_emails = DAOEmailGenerated()\n",
    "all_generated: List[EmailGeneratedInDB]= dao_generated_emails.find_all()\n",
    "ids = [email.og_doc_id for email in all_generated]"
   ],
   "metadata": {
    "collapsed": false,
    "ExecuteTime": {
     "end_time": "2024-03-18T14:56:39.501738200Z",
     "start_time": "2024-03-18T14:56:39.037852100Z"
    }
   }
  },
  {
   "cell_type": "code",
   "execution_count": 32,
   "outputs": [
    {
     "name": "stdout",
     "output_type": "stream",
     "text": [
      "gmail1\n"
     ]
    },
    {
     "name": "stderr",
     "output_type": "stream",
     "text": [
      "Generating emails for gmail1:  31%|███       | 1287/4197 [1:04:20<2:25:28,  3.00s/emails]\n"
     ]
    },
    {
     "name": "stdout",
     "output_type": "stream",
     "text": [
      "gmail2\n"
     ]
    },
    {
     "name": "stderr",
     "output_type": "stream",
     "text": [
      "Generating emails for gmail2:   4%|▎         | 32/854 [01:36<1:29:56,  6.57s/emails]"
     ]
    },
    {
     "name": "stdout",
     "output_type": "stream",
     "text": [
      "RESPONSE NOT FINISHED\n",
      "Dear [Recipient's Name],\n",
      "\n",
      "I hope this message finds you well. I am writing to inform you that there has been an unauthorized signup attempt for Google Cloud using your account. Google's security systems detected this activity and, as a precaution, have denied the signup. Your account is currently under review to ensure additional protection measures are in place.\n",
      "\n",
      "To safeguard your account further, I recommend running a thorough check on your devices for any potential malware. Additionally, it is crucial to change your password immediately to prevent any further unauthorized access.\n",
      "\n",
      "I want to reassure you that no unauthorized charges were made to your account during this incident. Google's priority is to maintain the security and integrity of all user accounts.\n",
      "\n",
      "Thank you for your attention to this matter. If you have any concerns or require further assistance, please do not hesitate to reach out to our dedicated support team at support@googlecloud.com.\n",
      "\n",
      "Warm regards,\n",
      "\n",
      "[Your Name]\n",
      "Google Cloud Security Team\n",
      "==FINISHED==\n"
     ]
    },
    {
     "name": "stderr",
     "output_type": "stream",
     "text": [
      "Generating emails for gmail2:  64%|██████▎   | 544/854 [53:17<52:30, 10.16s/emails]  "
     ]
    },
    {
     "name": "stdout",
     "output_type": "stream",
     "text": [
      "RESPONSE NOT FINISHED\n",
      "Hey Team,\n",
      "\n",
      "I hope you're all doing well! I wanted to share an exciting opportunity with all of you that could help boost your earning potential right here at our current job. Codecademy is offering a Pro Intensive course on data analysis that is specifically curated to enhance your skills in this area.\n",
      "\n",
      "By enrolling in this course, you can learn advanced data analysis techniques that are highly sought after in today's job market. Whether you work in marketing, finance, or even operations, having a strong foundation in data analysis can significantly increase your value within the company. Plus, with these skills, you could potentially earn up to $8,736 more in your current role!\n",
      "\n",
      "I believe that investing in continuous learning and upskilling is crucial for personal and professional growth. This course could be a game-changer for your career trajectory right here at our organization.\n",
      "\n",
      "If you're interested in learning more about the course or have any questions, feel free to reach out to me directly. Let's take our skills to the next level together!\n",
      "\n",
      "Best regards,\n",
      "\n",
      "Sarah Smith===FINISHED===\n"
     ]
    },
    {
     "name": "stderr",
     "output_type": "stream",
     "text": [
      "Generating emails for gmail2:  92%|█████████▏| 783/854 [1:20:04<07:15,  6.14s/emails]  \n"
     ]
    },
    {
     "name": "stdout",
     "output_type": "stream",
     "text": [
      "gmail3\n"
     ]
    },
    {
     "name": "stderr",
     "output_type": "stream",
     "text": [
      "Generating emails for gmail3:  23%|██▎       | 323/1404 [00:53<18:57,  1.05s/emails]"
     ]
    },
    {
     "name": "stdout",
     "output_type": "stream",
     "text": [
      "RESPONSE NOT FINISHED\n",
      "Dear [Friend],\n",
      "\n",
      "Join SunGod's Strava challenge with only one week left! Visit our website and socials to stay connected.\n",
      "\n",
      "Best regards,\n",
      "\n",
      "Alice Smith\n",
      "\n",
      "Email: alice.smith@example.com\n",
      "Website: www.sungod.com\n",
      "Instagram: @sungodclub===FINISHED===\n"
     ]
    },
    {
     "name": "stderr",
     "output_type": "stream",
     "text": [
      "Generating emails for gmail3:  36%|███▋      | 512/1404 [18:53<35:39,  2.40s/emails]    "
     ]
    },
    {
     "name": "stdout",
     "output_type": "stream",
     "text": [
      "RESPONSE NOT FINISHED\n",
      "Dear valued participants, Join the SunGod Momentum Creates Change challenge on Strava. Enhance your experience by joining clubs today. Visit our social media links for more details. Thank you. Best regards. John Smith Marketing Manager marketing@company.com 123 Marketing Street, Cityville ===FINISHED===\n"
     ]
    },
    {
     "name": "stderr",
     "output_type": "stream",
     "text": [
      "Generating emails for gmail3:  82%|████████▏ | 1150/1404 [1:18:00<21:06,  4.99s/emails]  "
     ]
    },
    {
     "name": "stdout",
     "output_type": "stream",
     "text": [
      "RESPONSE NOT FINISHED\n",
      "Dear valued customers,\n",
      "\n",
      "Don't miss out on our exclusive offer! Customize your PS4 or XB1 controller today and enjoy a €60 discount on orders over €159. Use the code \"GAMER60\" at checkout. Give your gaming experience a personal touch now!\n",
      "\n",
      "Best regards,\n",
      "\n",
      "John Doe===FINISHED===\n"
     ]
    },
    {
     "name": "stderr",
     "output_type": "stream",
     "text": [
      "Generating emails for gmail3:  83%|████████▎ | 1169/1404 [1:19:22<15:57,  4.07s/emails]\n"
     ]
    }
   ],
   "source": [
    "from datetime import datetime\n",
    "\n",
    "gmail_daos_info = [('gmail1', AVAILABLE_EMAIL_DAOS['gmail1']), ('gmail2', AVAILABLE_EMAIL_DAOS['gmail2']), ('gmail3', AVAILABLE_EMAIL_DAOS['gmail3'])]\n",
    "\n",
    "max_per_dao = 500\n",
    "\n",
    "for gmail_dao_name, gmail_dao in gmail_daos_info:\n",
    "    emails: List[EmailGmailInDB] = gmail_dao.find_many_by_query({\n",
    "        'email_labels': {'$regex': \"Kategori\"},\n",
    "        \"_id\": {\n",
    "            \"$nin\": ids\n",
    "        },\n",
    "        'detected_language': 'en'\n",
    "    })\n",
    "    print(gmail_dao_name)\n",
    "    inserted_count = 0\n",
    "    for email in tqdm(emails, total=len(emails), desc=f'Generating emails for {gmail_dao_name}', unit='emails', miniters=1):\n",
    "        subject = email.subject\n",
    "        if email.text_plain is None:\n",
    "            continue\n",
    "\n",
    "        if email.date > datetime(2022, 11, 30):\n",
    "            continue\n",
    "\n",
    "        _, email_text = separate_previous_conversation(email.text_plain)\n",
    "        email_text = remove_footers(clean_text(email_text))\n",
    "        if len(email_text) < 10:\n",
    "            continue\n",
    "        try:\n",
    "            generated_text = generate_email_based_on_og_email(subject, email.text_plain, email.detected_language)\n",
    "        except ValueError as e:\n",
    "            continue\n",
    "        except ConnectionError:\n",
    "            continue\n",
    "        placeholders_present = False\n",
    "        if isinstance(generated_text, tuple):\n",
    "            generated_text = generated_text[1]\n",
    "            placeholders_present = True\n",
    "        email_generated = EmailGenerated(\n",
    "            og_db_name=gmail_dao_name,\n",
    "            og_doc_id=email.id,\n",
    "            subject=subject,\n",
    "            text_plain=generated_text,\n",
    "            language=email.detected_language,\n",
    "            placeholders_present=placeholders_present,\n",
    "            possible_advertisement=True\n",
    "        )\n",
    "        inserted_count += 1\n",
    "        if inserted_count > max_per_dao:\n",
    "            break\n",
    "        dao_generated_emails.insert_one(email_generated)\n"
   ],
   "metadata": {
    "collapsed": false,
    "ExecuteTime": {
     "end_time": "2024-03-18T18:40:38.970612100Z",
     "start_time": "2024-03-18T14:56:48.225698700Z"
    }
   }
  },
  {
   "cell_type": "code",
   "execution_count": 16,
   "outputs": [
    {
     "name": "stdout",
     "output_type": "stream",
     "text": [
      "class_git\n"
     ]
    },
    {
     "name": "stderr",
     "output_type": "stream",
     "text": [
      "Generating emails for class_git: 0emails [00:00, ?emails/s]\n"
     ]
    },
    {
     "name": "stdout",
     "output_type": "stream",
     "text": [
      "spam_assassin\n"
     ]
    },
    {
     "name": "stderr",
     "output_type": "stream",
     "text": [
      "Generating emails for spam_assassin:   0%|          | 0/29 [00:00<?, ?emails/s]"
     ]
    },
    {
     "name": "stdout",
     "output_type": "stream",
     "text": [
      "not skipping\n"
     ]
    },
    {
     "name": "stderr",
     "output_type": "stream",
     "text": [
      "Generating emails for spam_assassin:   3%|▎         | 1/29 [00:01<00:29,  1.06s/emails]"
     ]
    },
    {
     "name": "stdout",
     "output_type": "stream",
     "text": [
      "not skipping\n"
     ]
    },
    {
     "name": "stderr",
     "output_type": "stream",
     "text": [
      "Generating emails for spam_assassin:   3%|▎         | 1/29 [00:11<05:31, 11.82s/emails]\n",
      "\n",
      "KeyboardInterrupt\n",
      "\n"
     ]
    }
   ],
   "source": [
    " other_dao_names = ['class_git', 'spam_assassin']\n",
    "queries = [\n",
    "    {'inner_classification': \"personal\"},\n",
    "    {'is_spam': False}\n",
    "]\n",
    "for dao_name, query in zip(other_dao_names, queries):\n",
    "    dao = AVAILABLE_EMAIL_DAOS[dao_name]\n",
    "    query['_id'] = {\n",
    "        \"$nin\": ids\n",
    "    }\n",
    "    emails: List[EmailGmailInDB] = dao.find_many_by_query(query)\n",
    "    print(dao_name)\n",
    "    for email in tqdm(emails, total=len(emails), desc=f'Generating emails for {dao_name}', unit='emails', miniters=1):\n",
    "        subject = email.subject if len(email.subject) > 0 else \"No subject\"\n",
    "        if email.text_plain is None:\n",
    "            continue\n",
    "        if len(email.text_plain) < 10:\n",
    "            continue\n",
    "        try:\n",
    "            generated_text = generate_email_based_on_og_email(subject, email.text_plain, email.detected_language)\n",
    "        except ValueError:\n",
    "            continue\n",
    "        except ConnectionError:\n",
    "            continue\n",
    "        placeholders_present = False\n",
    "        if isinstance(generated_text, tuple):\n",
    "            generated_text = generated_text[1]\n",
    "            placeholders_present = True\n",
    "        email_generated = EmailGenerated(\n",
    "            og_db_name=dao_name,\n",
    "            og_doc_id=email.id,\n",
    "            subject=subject,\n",
    "            text_plain=generated_text,\n",
    "            language=email.detected_language,\n",
    "            placeholders_present=placeholders_present\n",
    "        )\n",
    "        dao_generated_emails.insert_one(email_generated)"
   ],
   "metadata": {
    "collapsed": false,
    "ExecuteTime": {
     "end_time": "2024-03-11T12:53:53.869352200Z",
     "start_time": "2024-03-11T12:53:41.855322300Z"
    }
   }
  },
  {
   "cell_type": "markdown",
   "source": [
    "## FIXING EMAILS"
   ],
   "metadata": {
    "collapsed": false
   }
  },
  {
   "cell_type": "code",
   "execution_count": 8,
   "outputs": [],
   "source": [
    "fixed_ids = []"
   ],
   "metadata": {
    "collapsed": false,
    "ExecuteTime": {
     "end_time": "2024-03-18T12:21:52.867595800Z",
     "start_time": "2024-03-18T12:21:52.852572900Z"
    }
   }
  },
  {
   "cell_type": "code",
   "execution_count": 9,
   "outputs": [],
   "source": [
    "risky_generation = []"
   ],
   "metadata": {
    "collapsed": false,
    "ExecuteTime": {
     "end_time": "2024-03-18T12:21:53.700107600Z",
     "start_time": "2024-03-18T12:21:53.675068400Z"
    }
   }
  },
  {
   "cell_type": "code",
   "execution_count": 11,
   "outputs": [
    {
     "name": "stderr",
     "output_type": "stream",
     "text": [
      "Fixing emails: 100%|██████████| 172/172 [23:51<00:00,  8.32s/email]\n"
     ]
    }
   ],
   "source": [
    "from services.email_generator import _load_prompt_from_json, _request_to_openai_api, _ensure_no_placeholders\n",
    "\n",
    "misgenerated_emails = dao_generated_emails.find_many_by_query({\n",
    "    'placeholders_present': True\n",
    "})\n",
    "\n",
    "for misgenerated_email in  tqdm(misgenerated_emails, total=len(misgenerated_emails), desc=f'Fixing emails', unit='email', miniters=1):\n",
    "    try:\n",
    "        messages = [\n",
    "        {\"role\": \"system\",\n",
    "         \"content\": _load_prompt_from_json(\"post_generation_fix\", misgenerated_email.language)},\n",
    "        {\"role\": \"user\",\n",
    "         \"content\": misgenerated_email.text_plain}\n",
    "        ]\n",
    "        response_txt = _request_to_openai_api(messages)\n",
    "    except ValueError:\n",
    "        continue\n",
    "    except ConnectionError:\n",
    "        continue\n",
    "\n",
    "    if _ensure_no_placeholders(response_txt):\n",
    "        dao_generated_emails.update_one({\"_id\": misgenerated_email.id},\n",
    "                                        {\"$set\": {\n",
    "                                            'text_plain': response_txt,\n",
    "                                            'placeholders_present': False\n",
    "                                            }\n",
    "                                        }\n",
    "        )\n",
    "        fixed_ids.append(misgenerated_email.id)\n",
    "        risky_generation.append(misgenerated_email.id)\n",
    "    else:\n",
    "        continue"
   ],
   "metadata": {
    "collapsed": false,
    "ExecuteTime": {
     "end_time": "2024-03-18T13:46:37.615495200Z",
     "start_time": "2024-03-18T13:22:46.064364400Z"
    }
   }
  },
  {
   "cell_type": "code",
   "execution_count": 23,
   "outputs": [],
   "source": [
    "misgenerated_emails = dao_generated_emails.find_many_by_query({\n",
    "    'placeholders_present': True\n",
    "})\n",
    "og_ids = [email.og_doc_id for email in misgenerated_emails]"
   ],
   "metadata": {
    "collapsed": false,
    "ExecuteTime": {
     "end_time": "2024-03-11T20:30:01.149223300Z",
     "start_time": "2024-03-11T20:30:01.130289500Z"
    }
   }
  },
  {
   "cell_type": "code",
   "execution_count": 24,
   "outputs": [
    {
     "data": {
      "text/plain": "3"
     },
     "execution_count": 24,
     "metadata": {},
     "output_type": "execute_result"
    }
   ],
   "source": [
    "dao_generated_emails.delete_many({\n",
    "    'placeholders_present': True\n",
    "})"
   ],
   "metadata": {
    "collapsed": false,
    "ExecuteTime": {
     "end_time": "2024-03-11T20:30:02.349191200Z",
     "start_time": "2024-03-11T20:30:02.328481600Z"
    }
   }
  },
  {
   "cell_type": "code",
   "execution_count": 25,
   "outputs": [
    {
     "data": {
      "text/plain": "3"
     },
     "execution_count": 25,
     "metadata": {},
     "output_type": "execute_result"
    }
   ],
   "source": [
    "len(og_ids)"
   ],
   "metadata": {
    "collapsed": false,
    "ExecuteTime": {
     "end_time": "2024-03-11T20:30:03.010553700Z",
     "start_time": "2024-03-11T20:30:02.977195Z"
    }
   }
  },
  {
   "cell_type": "code",
   "execution_count": 70,
   "outputs": [],
   "source": [
    "misgenerated_emails = dao_generated_emails.find_many_by_query({\n",
    "    'placeholders_present': True\n",
    "})\n",
    "og_ids2 = [email.og_doc_id for email in misgenerated_emails]\n",
    "gmail1 = []\n",
    "gmail2 = []\n",
    "gmail3 = []\n",
    "for email in misgenerated_emails:\n",
    "    if email.og_db_name == 'gmail1':\n",
    "        gmail1.append(email.og_doc_id)\n",
    "    elif email.og_db_name == 'gmail2':\n",
    "        gmail2.append(email.og_doc_id)\n",
    "    elif email.og_db_name == 'gmail3':\n",
    "        gmail3.append(email.og_doc_id)\n",
    "def find_duplicates(input_list):\n",
    "    counts = {}  # A dictionary to hold the count of each element\n",
    "    duplicates = []  # A list to hold the duplicate elements\n",
    "\n",
    "    # Count the occurrences of each element\n",
    "    for item in input_list:\n",
    "        counts[item] = counts.get(item, 0) + 1\n",
    "\n",
    "    # Find elements that occur more than once\n",
    "    for item, count in counts.items():\n",
    "        if count > 4:\n",
    "            duplicates.append(item)\n",
    "\n",
    "    return duplicates\n",
    "\n",
    "still_palceholders = find_duplicates(gmail3)"
   ],
   "metadata": {
    "collapsed": false,
    "ExecuteTime": {
     "end_time": "2024-03-18T20:06:39.710286900Z",
     "start_time": "2024-03-18T20:06:39.690801600Z"
    }
   }
  },
  {
   "cell_type": "code",
   "execution_count": 71,
   "outputs": [
    {
     "data": {
      "text/plain": "0"
     },
     "execution_count": 71,
     "metadata": {},
     "output_type": "execute_result"
    }
   ],
   "source": [
    "len(still_palceholders)"
   ],
   "metadata": {
    "collapsed": false,
    "ExecuteTime": {
     "end_time": "2024-03-18T20:06:39.945079Z",
     "start_time": "2024-03-18T20:06:39.938307100Z"
    }
   }
  },
  {
   "cell_type": "code",
   "execution_count": 69,
   "outputs": [
    {
     "name": "stderr",
     "output_type": "stream",
     "text": [
      "Generating emails: 100%|██████████| 1/1 [00:03<00:00,  3.02s/emails]\n"
     ]
    }
   ],
   "source": [
    "from models.email import EmailGmailInDB\n",
    "\n",
    "dao = AVAILABLE_EMAIL_DAOS['gmail3']\n",
    "query = {\"_id\":\n",
    "    {\n",
    "        \"$in\": still_palceholders\n",
    "    }\n",
    "}\n",
    "emails: List[EmailGmailInDB] = dao.find_many_by_query(query)\n",
    "for email in tqdm(emails, total=len(emails), desc=f'Generating emails', unit='emails', miniters=1):\n",
    "    subject = email.subject if len(email.subject) > 0 else \"No subject\"\n",
    "    if email.text_plain is None:\n",
    "        continue\n",
    "    if len(email.text_plain) < 10:\n",
    "        continue\n",
    "    try:\n",
    "        generated_text = generate_email_based_on_og_email(subject, email.text_plain, email.detected_language)\n",
    "    except ValueError:\n",
    "        continue\n",
    "    except ConnectionError:\n",
    "        continue\n",
    "    placeholders_present = False\n",
    "    if isinstance(generated_text, tuple):\n",
    "        generated_text = generated_text[1]\n",
    "        placeholders_present = True\n",
    "    email_generated = EmailGenerated(\n",
    "        og_db_name='gmail3',\n",
    "        og_doc_id=email.id,\n",
    "        subject=subject,\n",
    "        text_plain=generated_text,\n",
    "        language=email.detected_language,\n",
    "        placeholders_present=placeholders_present\n",
    "    )\n",
    "    dao_generated_emails.insert_one(email_generated)"
   ],
   "metadata": {
    "collapsed": false,
    "ExecuteTime": {
     "end_time": "2024-03-18T20:04:48.672647800Z",
     "start_time": "2024-03-18T20:04:45.639879800Z"
    }
   }
  },
  {
   "cell_type": "code",
   "execution_count": 72,
   "outputs": [
    {
     "data": {
      "text/plain": "132"
     },
     "execution_count": 72,
     "metadata": {},
     "output_type": "execute_result"
    }
   ],
   "source": [
    "dao_generated_emails.delete_many({\n",
    "    'placeholders_present': True\n",
    "})\n"
   ],
   "metadata": {
    "collapsed": false,
    "ExecuteTime": {
     "end_time": "2024-03-18T20:06:45.228920300Z",
     "start_time": "2024-03-18T20:06:45.205832500Z"
    }
   }
  },
  {
   "cell_type": "markdown",
   "source": [
    "## Detecting same content emails"
   ],
   "metadata": {
    "collapsed": false
   }
  },
  {
   "cell_type": "code",
   "execution_count": 26,
   "outputs": [
    {
     "name": "stdout",
     "output_type": "stream",
     "text": [
      "gmail1\n"
     ]
    },
    {
     "name": "stderr",
     "output_type": "stream",
     "text": [
      "Generating emails for gmail1: 100%|██████████| 3/3 [00:34<00:00, 11.40s/emails]\n"
     ]
    }
   ],
   "source": [
    "gmail_daos_info = [('gmail1', AVAILABLE_EMAIL_DAOS['gmail1'])]#, ('gmail2', AVAILABLE_EMAIL_DAOS['gmail2']), ('gmail3', AVAILABLE_EMAIL_DAOS['gmail3'])]\n",
    "added_number = 0\n",
    "\n",
    "for gmail_dao_name, gmail_dao in gmail_daos_info:\n",
    "    subject_list = []\n",
    "    emails: List[EmailGmailInDB] = gmail_dao.find_many_by_query({\n",
    "        \"_id\": {\n",
    "            \"$in\": og_ids\n",
    "        }\n",
    "    })\n",
    "    print(gmail_dao_name)\n",
    "    for email in tqdm(emails, total=len(emails), desc=f'Generating emails for {gmail_dao_name}', unit='emails', miniters=1):\n",
    "        subject = email.subject\n",
    "        if subject in subject_list:\n",
    "            continue\n",
    "        subject_list.append(subject)\n",
    "        if email.text_plain is None:\n",
    "            continue\n",
    "        _, email_text = separate_previous_conversation(email.text_plain)\n",
    "        email_text = remove_footers(clean_text(email_text))\n",
    "        if len(email_text) < 10:\n",
    "            continue\n",
    "        try:\n",
    "            generated_text = generate_email_based_on_og_email(subject, email.text_plain, email.detected_language)\n",
    "        except ValueError as e:\n",
    "            print(e)\n",
    "            continue\n",
    "        except ConnectionError as e:\n",
    "            print(e)\n",
    "            continue\n",
    "        placeholders_present = False\n",
    "        if isinstance(generated_text, tuple):\n",
    "            generated_text = generated_text[1]\n",
    "            placeholders_present = True\n",
    "\n",
    "        email_generated = EmailGenerated(\n",
    "            og_db_name=gmail_dao_name,\n",
    "            og_doc_id=email.id,\n",
    "            subject=subject,\n",
    "            text_plain=generated_text,\n",
    "            language=email.detected_language,\n",
    "            placeholders_present=placeholders_present,\n",
    "            possible_advertisement=True\n",
    "        )\n",
    "        dao_generated_emails.insert_one(email_generated)\n",
    "        added_number += 1\n",
    "        if added_number > 1000:\n",
    "            break\n"
   ],
   "metadata": {
    "collapsed": false,
    "ExecuteTime": {
     "end_time": "2024-03-11T20:30:41.323384400Z",
     "start_time": "2024-03-11T20:30:07.125858600Z"
    }
   }
  },
  {
   "cell_type": "code",
   "execution_count": null,
   "outputs": [],
   "source": [],
   "metadata": {
    "collapsed": false
   }
  }
 ],
 "metadata": {
  "kernelspec": {
   "display_name": "Python 3",
   "language": "python",
   "name": "python3"
  },
  "language_info": {
   "codemirror_mode": {
    "name": "ipython",
    "version": 2
   },
   "file_extension": ".py",
   "mimetype": "text/x-python",
   "name": "python",
   "nbconvert_exporter": "python",
   "pygments_lexer": "ipython2",
   "version": "2.7.6"
  }
 },
 "nbformat": 4,
 "nbformat_minor": 0
}
