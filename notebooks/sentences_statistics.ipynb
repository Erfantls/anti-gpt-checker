{
 "cells": [
  {
   "cell_type": "code",
   "execution_count": 6,
   "id": "initial_id",
   "metadata": {
    "collapsed": true,
    "ExecuteTime": {
     "end_time": "2024-03-30T23:04:49.961178Z",
     "start_time": "2024-03-30T23:04:46.158827Z"
    }
   },
   "outputs": [
    {
     "name": "stderr",
     "output_type": "stream",
     "text": [
      "/home/pawel/.virtualenvs/anti-gpt-checker/lib/python3.10/site-packages/transformers/utils/generic.py:441: UserWarning: torch.utils._pytree._register_pytree_node is deprecated. Please use torch.utils._pytree.register_pytree_node instead.\n",
      "  _torch_pytree._register_pytree_node(\n",
      "/home/pawel/.virtualenvs/anti-gpt-checker/lib/python3.10/site-packages/transformers/utils/generic.py:309: UserWarning: torch.utils._pytree._register_pytree_node is deprecated. Please use torch.utils._pytree.register_pytree_node instead.\n",
      "  _torch_pytree._register_pytree_node(\n",
      "[nltk_data] Downloading package stopwords to /home/pawel/nltk_data...\n",
      "[nltk_data]   Package stopwords is already up-to-date!\n",
      "[nltk_data] Downloading package punkt to /home/pawel/nltk_data...\n",
      "[nltk_data]   Package punkt is already up-to-date!\n",
      "[nltk_data] Downloading package pl196x to /home/pawel/nltk_data...\n",
      "[nltk_data]   Package pl196x is already up-to-date!\n",
      "[nltk_data] Downloading package wordnet to /home/pawel/nltk_data...\n",
      "[nltk_data]   Package wordnet is already up-to-date!\n"
     ]
    }
   ],
   "source": [
    "from tqdm import tqdm\n",
    "from analysis.nlp_transformations import separate_previous_conversation, remove_footers\n",
    "from typing import List\n",
    "\n",
    "from dao.email import DAOEmailGenerated, DAORealEmail\n",
    "from dao.attribute import DAOAttribute\n",
    "\n",
    "from analysis.nlp_transformations import split_into_sentences, replace_links_with_text"
   ]
  },
  {
   "cell_type": "code",
   "outputs": [
    {
     "data": {
      "text/plain": "['Oto kilkanaście zdań w języku polskim, które zawierają różnorodne formy interpunkcyjne i struktury zdaniowe.',\n 'Jak się dzisiaj czujesz?',\n 'Dlaczego niebo jest niebieskie?',\n 'Czy wiesz, że Ks. Jan Twardowski był znanym polskim poetą?',\n 'Uwaga!',\n 'Proszę nie biec po korytarzu.',\n 'Gdzie jest najbliższa apteka?',\n 'Ile to kosztuje?',\n 'To niesamowite, że możemy rozmawiać online!',\n 'Co sądzisz o najnowszych odkryciach w kosmosie?',\n 'Pamiętaj, że drzwi otwierają się o godz. 8:00 rano!',\n 'Czy możesz mi podać sól?',\n 'Kto zostanie nowym prezydentem Stanów Zjednoczonych?',\n 'Wow!',\n 'To było naprawdę ekscytujące.',\n 'Jak możemy efektywniej oszczędzać energię?',\n 'Czy znasz jakieś dobre przepisy na ciasto?',\n 'Dr M. Nowak będzie dziś wygłaszać wykład na uniwersytecie.',\n 'Czy myślisz, że sztuczna inteligencja może przewyższyć ludzką kreatywność?']"
     },
     "execution_count": 7,
     "metadata": {},
     "output_type": "execute_result"
    }
   ],
   "source": [
    "text = \"Oto kilkanaście zdań w języku polskim, które zawierają różnorodne formy interpunkcyjne i struktury zdaniowe. Jak się dzisiaj czujesz? Dlaczego niebo jest niebieskie? Czy wiesz, że Ks. Jan Twardowski był znanym polskim poetą? Uwaga! Proszę nie biec po korytarzu. Gdzie jest najbliższa apteka? Ile to kosztuje? To niesamowite, że możemy rozmawiać online! Co sądzisz o najnowszych odkryciach w kosmosie? Pamiętaj, że drzwi otwierają się o godz. 8:00 rano! Czy możesz mi podać sól? Kto zostanie nowym prezydentem Stanów Zjednoczonych? Wow! To było naprawdę ekscytujące. Jak możemy efektywniej oszczędzać energię? Czy znasz jakieś dobre przepisy na ciasto? Dr M. Nowak będzie dziś wygłaszać wykład na uniwersytecie. Czy myślisz, że sztuczna inteligencja może przewyższyć ludzką kreatywność?\"\n",
    "one_sentence = \"I eat breakfast at 8:00 a.m.\"\n",
    "split_into_sentences(text, 'pl')"
   ],
   "metadata": {
    "collapsed": false,
    "ExecuteTime": {
     "end_time": "2024-03-30T23:05:00.307968Z",
     "start_time": "2024-03-30T23:05:00.300878Z"
    }
   },
   "id": "f29a286becbed107",
   "execution_count": 7
  },
  {
   "cell_type": "code",
   "outputs": [
    {
     "ename": "ServerSelectionTimeoutError",
     "evalue": "localhost:27017: [Errno 111] Connection refused (configured timeouts: socketTimeoutMS: 20000.0ms, connectTimeoutMS: 20000.0ms), Timeout: 30s, Topology Description: <TopologyDescription id: 66089a91c7a3ff1b3a95b45b, topology_type: Unknown, servers: [<ServerDescription ('localhost', 27017) server_type: Unknown, rtt: None, error=AutoReconnect('localhost:27017: [Errno 111] Connection refused (configured timeouts: socketTimeoutMS: 20000.0ms, connectTimeoutMS: 20000.0ms)')>]>",
     "output_type": "error",
     "traceback": [
      "\u001B[0;31m---------------------------------------------------------------------------\u001B[0m",
      "\u001B[0;31mServerSelectionTimeoutError\u001B[0m               Traceback (most recent call last)",
      "Cell \u001B[0;32mIn[9], line 10\u001B[0m\n\u001B[1;32m      6\u001B[0m dao_real_emails: DAORealEmail \u001B[38;5;241m=\u001B[39m DAORealEmail()\n\u001B[1;32m      7\u001B[0m dao_attribute: DAOAttribute \u001B[38;5;241m=\u001B[39m DAOAttribute()\n\u001B[0;32m---> 10\u001B[0m all_attributes: List[AttributeInDB] \u001B[38;5;241m=\u001B[39m \u001B[43mdao_attribute\u001B[49m\u001B[38;5;241;43m.\u001B[39;49m\u001B[43mfind_many_by_query\u001B[49m\u001B[43m(\u001B[49m\u001B[43m{\u001B[49m\u001B[38;5;124;43m'\u001B[39;49m\u001B[38;5;124;43maverage_word_char_length\u001B[39;49m\u001B[38;5;124;43m'\u001B[39;49m\u001B[43m:\u001B[49m\u001B[43m \u001B[49m\u001B[38;5;28;43;01mNone\u001B[39;49;00m\u001B[43m}\u001B[49m\u001B[43m)\u001B[49m\n\u001B[1;32m     12\u001B[0m \u001B[38;5;28;01mfor\u001B[39;00m attribute \u001B[38;5;129;01min\u001B[39;00m tqdm(all_attributes, total\u001B[38;5;241m=\u001B[39m\u001B[38;5;28mlen\u001B[39m(all_attributes), desc\u001B[38;5;241m=\u001B[39m\u001B[38;5;124mf\u001B[39m\u001B[38;5;124m'\u001B[39m\u001B[38;5;124mCalculating sentences statistics\u001B[39m\u001B[38;5;124m'\u001B[39m, unit\u001B[38;5;241m=\u001B[39m\u001B[38;5;124m'\u001B[39m\u001B[38;5;124memails\u001B[39m\u001B[38;5;124m'\u001B[39m, miniters\u001B[38;5;241m=\u001B[39m\u001B[38;5;241m1\u001B[39m):\n\u001B[1;32m     13\u001B[0m     \u001B[38;5;28;01mif\u001B[39;00m attribute\u001B[38;5;241m.\u001B[39mreferenced_db_name \u001B[38;5;241m==\u001B[39m \u001B[38;5;124m'\u001B[39m\u001B[38;5;124memail_generated_dataset\u001B[39m\u001B[38;5;124m'\u001B[39m:\n",
      "File \u001B[0;32m/mnt/d/Dev/Github/anti-gpt-checker/dao/base.py:49\u001B[0m, in \u001B[0;36mDAOBase.find_many_by_query\u001B[0;34m(self, query)\u001B[0m\n\u001B[1;32m     47\u001B[0m \u001B[38;5;28;01mdef\u001B[39;00m \u001B[38;5;21mfind_many_by_query\u001B[39m(\u001B[38;5;28mself\u001B[39m, query: \u001B[38;5;28mdict\u001B[39m) \u001B[38;5;241m-\u001B[39m\u001B[38;5;241m>\u001B[39m List[BaseModel]:\n\u001B[1;32m     48\u001B[0m     result: MongoCursor \u001B[38;5;241m=\u001B[39m \u001B[38;5;28mself\u001B[39m\u001B[38;5;241m.\u001B[39mcollection\u001B[38;5;241m.\u001B[39mfind(query)\n\u001B[0;32m---> 49\u001B[0m     \u001B[38;5;28;01mreturn\u001B[39;00m [\u001B[38;5;28mself\u001B[39m\u001B[38;5;241m.\u001B[39mmodel_in_db(\u001B[38;5;241m*\u001B[39m\u001B[38;5;241m*\u001B[39mdoc) \u001B[38;5;28;01mfor\u001B[39;00m doc \u001B[38;5;129;01min\u001B[39;00m \u001B[38;5;28;43mlist\u001B[39;49m\u001B[43m(\u001B[49m\u001B[43mresult\u001B[49m\u001B[43m)\u001B[49m]\n",
      "File \u001B[0;32m~/.virtualenvs/anti-gpt-checker/lib/python3.10/site-packages/pymongo/cursor.py:1264\u001B[0m, in \u001B[0;36mCursor.next\u001B[0;34m(self)\u001B[0m\n\u001B[1;32m   1262\u001B[0m \u001B[38;5;28;01mif\u001B[39;00m \u001B[38;5;28mself\u001B[39m\u001B[38;5;241m.\u001B[39m__empty:\n\u001B[1;32m   1263\u001B[0m     \u001B[38;5;28;01mraise\u001B[39;00m \u001B[38;5;167;01mStopIteration\u001B[39;00m\n\u001B[0;32m-> 1264\u001B[0m \u001B[38;5;28;01mif\u001B[39;00m \u001B[38;5;28mlen\u001B[39m(\u001B[38;5;28mself\u001B[39m\u001B[38;5;241m.\u001B[39m__data) \u001B[38;5;129;01mor\u001B[39;00m \u001B[38;5;28;43mself\u001B[39;49m\u001B[38;5;241;43m.\u001B[39;49m\u001B[43m_refresh\u001B[49m\u001B[43m(\u001B[49m\u001B[43m)\u001B[49m:\n\u001B[1;32m   1265\u001B[0m     \u001B[38;5;28;01mreturn\u001B[39;00m \u001B[38;5;28mself\u001B[39m\u001B[38;5;241m.\u001B[39m__data\u001B[38;5;241m.\u001B[39mpopleft()\n\u001B[1;32m   1266\u001B[0m \u001B[38;5;28;01melse\u001B[39;00m:\n",
      "File \u001B[0;32m~/.virtualenvs/anti-gpt-checker/lib/python3.10/site-packages/pymongo/cursor.py:1155\u001B[0m, in \u001B[0;36mCursor._refresh\u001B[0;34m(self)\u001B[0m\n\u001B[1;32m   1152\u001B[0m     \u001B[38;5;28;01mreturn\u001B[39;00m \u001B[38;5;28mlen\u001B[39m(\u001B[38;5;28mself\u001B[39m\u001B[38;5;241m.\u001B[39m__data)\n\u001B[1;32m   1154\u001B[0m \u001B[38;5;28;01mif\u001B[39;00m \u001B[38;5;129;01mnot\u001B[39;00m \u001B[38;5;28mself\u001B[39m\u001B[38;5;241m.\u001B[39m__session:\n\u001B[0;32m-> 1155\u001B[0m     \u001B[38;5;28mself\u001B[39m\u001B[38;5;241m.\u001B[39m__session \u001B[38;5;241m=\u001B[39m \u001B[38;5;28;43mself\u001B[39;49m\u001B[38;5;241;43m.\u001B[39;49m\u001B[43m__collection\u001B[49m\u001B[38;5;241;43m.\u001B[39;49m\u001B[43mdatabase\u001B[49m\u001B[38;5;241;43m.\u001B[39;49m\u001B[43mclient\u001B[49m\u001B[38;5;241;43m.\u001B[39;49m\u001B[43m_ensure_session\u001B[49m\u001B[43m(\u001B[49m\u001B[43m)\u001B[49m\n\u001B[1;32m   1157\u001B[0m \u001B[38;5;28;01mif\u001B[39;00m \u001B[38;5;28mself\u001B[39m\u001B[38;5;241m.\u001B[39m__id \u001B[38;5;129;01mis\u001B[39;00m \u001B[38;5;28;01mNone\u001B[39;00m:  \u001B[38;5;66;03m# Query\u001B[39;00m\n\u001B[1;32m   1158\u001B[0m     \u001B[38;5;28;01mif\u001B[39;00m (\u001B[38;5;28mself\u001B[39m\u001B[38;5;241m.\u001B[39m__min \u001B[38;5;129;01mor\u001B[39;00m \u001B[38;5;28mself\u001B[39m\u001B[38;5;241m.\u001B[39m__max) \u001B[38;5;129;01mand\u001B[39;00m \u001B[38;5;129;01mnot\u001B[39;00m \u001B[38;5;28mself\u001B[39m\u001B[38;5;241m.\u001B[39m__hint:\n",
      "File \u001B[0;32m~/.virtualenvs/anti-gpt-checker/lib/python3.10/site-packages/pymongo/mongo_client.py:1823\u001B[0m, in \u001B[0;36mMongoClient._ensure_session\u001B[0;34m(self, session)\u001B[0m\n\u001B[1;32m   1818\u001B[0m     \u001B[38;5;28;01mreturn\u001B[39;00m session\n\u001B[1;32m   1820\u001B[0m \u001B[38;5;28;01mtry\u001B[39;00m:\n\u001B[1;32m   1821\u001B[0m     \u001B[38;5;66;03m# Don't make implicit sessions causally consistent. Applications\u001B[39;00m\n\u001B[1;32m   1822\u001B[0m     \u001B[38;5;66;03m# should always opt-in.\u001B[39;00m\n\u001B[0;32m-> 1823\u001B[0m     \u001B[38;5;28;01mreturn\u001B[39;00m \u001B[38;5;28;43mself\u001B[39;49m\u001B[38;5;241;43m.\u001B[39;49m\u001B[43m__start_session\u001B[49m\u001B[43m(\u001B[49m\u001B[38;5;28;43;01mTrue\u001B[39;49;00m\u001B[43m,\u001B[49m\u001B[43m \u001B[49m\u001B[43mcausal_consistency\u001B[49m\u001B[38;5;241;43m=\u001B[39;49m\u001B[38;5;28;43;01mFalse\u001B[39;49;00m\u001B[43m)\u001B[49m\n\u001B[1;32m   1824\u001B[0m \u001B[38;5;28;01mexcept\u001B[39;00m (ConfigurationError, InvalidOperation):\n\u001B[1;32m   1825\u001B[0m     \u001B[38;5;66;03m# Sessions not supported.\u001B[39;00m\n\u001B[1;32m   1826\u001B[0m     \u001B[38;5;28;01mreturn\u001B[39;00m \u001B[38;5;28;01mNone\u001B[39;00m\n",
      "File \u001B[0;32m~/.virtualenvs/anti-gpt-checker/lib/python3.10/site-packages/pymongo/mongo_client.py:1766\u001B[0m, in \u001B[0;36mMongoClient.__start_session\u001B[0;34m(self, implicit, **kwargs)\u001B[0m\n\u001B[1;32m   1763\u001B[0m \u001B[38;5;28;01mdef\u001B[39;00m \u001B[38;5;21m__start_session\u001B[39m(\u001B[38;5;28mself\u001B[39m, implicit: \u001B[38;5;28mbool\u001B[39m, \u001B[38;5;241m*\u001B[39m\u001B[38;5;241m*\u001B[39mkwargs: Any) \u001B[38;5;241m-\u001B[39m\u001B[38;5;241m>\u001B[39m ClientSession:\n\u001B[1;32m   1764\u001B[0m     \u001B[38;5;66;03m# Raises ConfigurationError if sessions are not supported.\u001B[39;00m\n\u001B[1;32m   1765\u001B[0m     \u001B[38;5;28;01mif\u001B[39;00m implicit:\n\u001B[0;32m-> 1766\u001B[0m         \u001B[38;5;28;43mself\u001B[39;49m\u001B[38;5;241;43m.\u001B[39;49m\u001B[43m_topology\u001B[49m\u001B[38;5;241;43m.\u001B[39;49m\u001B[43m_check_implicit_session_support\u001B[49m\u001B[43m(\u001B[49m\u001B[43m)\u001B[49m\n\u001B[1;32m   1767\u001B[0m         server_session: Union[_EmptyServerSession, _ServerSession] \u001B[38;5;241m=\u001B[39m _EmptyServerSession()\n\u001B[1;32m   1768\u001B[0m     \u001B[38;5;28;01melse\u001B[39;00m:\n",
      "File \u001B[0;32m~/.virtualenvs/anti-gpt-checker/lib/python3.10/site-packages/pymongo/topology.py:573\u001B[0m, in \u001B[0;36mTopology._check_implicit_session_support\u001B[0;34m(self)\u001B[0m\n\u001B[1;32m    571\u001B[0m \u001B[38;5;28;01mdef\u001B[39;00m \u001B[38;5;21m_check_implicit_session_support\u001B[39m(\u001B[38;5;28mself\u001B[39m) \u001B[38;5;241m-\u001B[39m\u001B[38;5;241m>\u001B[39m \u001B[38;5;28;01mNone\u001B[39;00m:\n\u001B[1;32m    572\u001B[0m     \u001B[38;5;28;01mwith\u001B[39;00m \u001B[38;5;28mself\u001B[39m\u001B[38;5;241m.\u001B[39m_lock:\n\u001B[0;32m--> 573\u001B[0m         \u001B[38;5;28;43mself\u001B[39;49m\u001B[38;5;241;43m.\u001B[39;49m\u001B[43m_check_session_support\u001B[49m\u001B[43m(\u001B[49m\u001B[43m)\u001B[49m\n",
      "File \u001B[0;32m~/.virtualenvs/anti-gpt-checker/lib/python3.10/site-packages/pymongo/topology.py:589\u001B[0m, in \u001B[0;36mTopology._check_session_support\u001B[0;34m(self)\u001B[0m\n\u001B[1;32m    585\u001B[0m         \u001B[38;5;28mself\u001B[39m\u001B[38;5;241m.\u001B[39m_select_servers_loop(\n\u001B[1;32m    586\u001B[0m             any_server_selector, \u001B[38;5;28mself\u001B[39m\u001B[38;5;241m.\u001B[39mget_server_selection_timeout(), \u001B[38;5;28;01mNone\u001B[39;00m\n\u001B[1;32m    587\u001B[0m         )\n\u001B[1;32m    588\u001B[0m \u001B[38;5;28;01melif\u001B[39;00m \u001B[38;5;129;01mnot\u001B[39;00m \u001B[38;5;28mself\u001B[39m\u001B[38;5;241m.\u001B[39m_description\u001B[38;5;241m.\u001B[39mreadable_servers:\n\u001B[0;32m--> 589\u001B[0m     \u001B[38;5;28;43mself\u001B[39;49m\u001B[38;5;241;43m.\u001B[39;49m\u001B[43m_select_servers_loop\u001B[49m\u001B[43m(\u001B[49m\n\u001B[1;32m    590\u001B[0m \u001B[43m        \u001B[49m\u001B[43mreadable_server_selector\u001B[49m\u001B[43m,\u001B[49m\u001B[43m \u001B[49m\u001B[38;5;28;43mself\u001B[39;49m\u001B[38;5;241;43m.\u001B[39;49m\u001B[43mget_server_selection_timeout\u001B[49m\u001B[43m(\u001B[49m\u001B[43m)\u001B[49m\u001B[43m,\u001B[49m\u001B[43m \u001B[49m\u001B[38;5;28;43;01mNone\u001B[39;49;00m\n\u001B[1;32m    591\u001B[0m \u001B[43m    \u001B[49m\u001B[43m)\u001B[49m\n\u001B[1;32m    593\u001B[0m session_timeout \u001B[38;5;241m=\u001B[39m \u001B[38;5;28mself\u001B[39m\u001B[38;5;241m.\u001B[39m_description\u001B[38;5;241m.\u001B[39mlogical_session_timeout_minutes\n\u001B[1;32m    594\u001B[0m \u001B[38;5;28;01mif\u001B[39;00m session_timeout \u001B[38;5;129;01mis\u001B[39;00m \u001B[38;5;28;01mNone\u001B[39;00m:\n",
      "File \u001B[0;32m~/.virtualenvs/anti-gpt-checker/lib/python3.10/site-packages/pymongo/topology.py:259\u001B[0m, in \u001B[0;36mTopology._select_servers_loop\u001B[0;34m(self, selector, timeout, address)\u001B[0m\n\u001B[1;32m    256\u001B[0m \u001B[38;5;28;01mwhile\u001B[39;00m \u001B[38;5;129;01mnot\u001B[39;00m server_descriptions:\n\u001B[1;32m    257\u001B[0m     \u001B[38;5;66;03m# No suitable servers.\u001B[39;00m\n\u001B[1;32m    258\u001B[0m     \u001B[38;5;28;01mif\u001B[39;00m timeout \u001B[38;5;241m==\u001B[39m \u001B[38;5;241m0\u001B[39m \u001B[38;5;129;01mor\u001B[39;00m now \u001B[38;5;241m>\u001B[39m end_time:\n\u001B[0;32m--> 259\u001B[0m         \u001B[38;5;28;01mraise\u001B[39;00m ServerSelectionTimeoutError(\n\u001B[1;32m    260\u001B[0m             \u001B[38;5;124mf\u001B[39m\u001B[38;5;124m\"\u001B[39m\u001B[38;5;132;01m{\u001B[39;00m\u001B[38;5;28mself\u001B[39m\u001B[38;5;241m.\u001B[39m_error_message(selector)\u001B[38;5;132;01m}\u001B[39;00m\u001B[38;5;124m, Timeout: \u001B[39m\u001B[38;5;132;01m{\u001B[39;00mtimeout\u001B[38;5;132;01m}\u001B[39;00m\u001B[38;5;124ms, Topology Description: \u001B[39m\u001B[38;5;132;01m{\u001B[39;00m\u001B[38;5;28mself\u001B[39m\u001B[38;5;241m.\u001B[39mdescription\u001B[38;5;132;01m!r}\u001B[39;00m\u001B[38;5;124m\"\u001B[39m\n\u001B[1;32m    261\u001B[0m         )\n\u001B[1;32m    263\u001B[0m     \u001B[38;5;28mself\u001B[39m\u001B[38;5;241m.\u001B[39m_ensure_opened()\n\u001B[1;32m    264\u001B[0m     \u001B[38;5;28mself\u001B[39m\u001B[38;5;241m.\u001B[39m_request_check_all()\n",
      "\u001B[0;31mServerSelectionTimeoutError\u001B[0m: localhost:27017: [Errno 111] Connection refused (configured timeouts: socketTimeoutMS: 20000.0ms, connectTimeoutMS: 20000.0ms), Timeout: 30s, Topology Description: <TopologyDescription id: 66089a91c7a3ff1b3a95b45b, topology_type: Unknown, servers: [<ServerDescription ('localhost', 27017) server_type: Unknown, rtt: None, error=AutoReconnect('localhost:27017: [Errno 111] Connection refused (configured timeouts: socketTimeoutMS: 20000.0ms, connectTimeoutMS: 20000.0ms)')>]>"
     ]
    }
   ],
   "source": [
    "dao_attribute = DAOAttribute()\n",
    "dao_real_email = DAORealEmail()\n",
    "dao_generated_email = DAOEmailGenerated()\n",
    "\n",
    "dao_generated_emails: DAOEmailGenerated = DAOEmailGenerated()\n",
    "dao_real_emails: DAORealEmail = DAORealEmail()\n",
    "dao_attribute: DAOAttribute = DAOAttribute()\n",
    "\n",
    "\n",
    "all_attributes: List[AttributeInDB] = dao_attribute.find_many_by_query({'average_word_char_length': None})\n",
    "\n",
    "for attribute in tqdm(all_attributes, total=len(all_attributes), desc=f'Calculating sentences statistics', unit='emails', miniters=1):\n",
    "    if attribute.referenced_db_name == 'email_generated_dataset':\n",
    "        og_email = dao_generated_emails.find_one_by_query({'_id': attribute.referenced_doc_id})\n",
    "        language = og_email.language\n",
    "    else:\n",
    "        og_email = dao_real_emails.find_one(attribute.referenced_db_name, {'_id': attribute.referenced_doc_id})\n",
    "        language = og_email.detected_language\n",
    "    _, og_text = separate_previous_conversation(og_email.text_plain)\n",
    "    og_text = remove_footers(og_text)\n",
    "    og_text = replace_links_with_text(og_text, \"\")\n",
    "    \n",
    "    words = [token for token in og_text.split() if token not in string.punctuation]\n",
    "    average_word_char_length = sum(len(word) for word in words) / len(words)\n",
    "    \n",
    "    punctuation = len([char for char in og_text if char in string.punctuation])\n",
    "    \n",
    "    split_sentences: List[str] = split_into_sentences(og_text, language)\n",
    "    number_of_sentences = len(split_sentences)\n",
    "    char_length_distribution, word_length_distribution = calc_distribution_sentence_length(split_sentences) \n",
    "    \n",
    "    dao_attribute.update_one({'_id': attribute.id}, {'$set':{\n",
    "        'punctuation': punctuation,\n",
    "        'number_of_sentences': number_of_sentences,\n",
    "        'average_word_char_length': average_word_char_length,\n",
    "        \n",
    "        'standard_deviation_sentence_word_length': word_length_distribution[0],\n",
    "        'variance_sentence_word_length':word_length_distribution[1],\n",
    "        'average_sentence_word_length': word_length_distribution[2],\n",
    "        \n",
    "        'standard_deviation_sentence_char_length': char_length_distribution[0],\n",
    "        'variance_sentence_char_length': char_length_distribution[1],\n",
    "        'average_sentence_char_length': char_length_distribution[2],\n",
    "    \n",
    "    }})\n"
   ],
   "metadata": {
    "collapsed": false,
    "ExecuteTime": {
     "end_time": "2024-03-30T23:09:41.155770Z",
     "start_time": "2024-03-30T23:09:10.615380Z"
    }
   },
   "id": "6137e3e719d01c01",
   "execution_count": 9
  },
  {
   "cell_type": "code",
   "outputs": [],
   "source": [],
   "metadata": {
    "collapsed": false
   },
   "id": "6af59ef66b39ee64"
  }
 ],
 "metadata": {
  "kernelspec": {
   "display_name": "Python 3",
   "language": "python",
   "name": "python3"
  },
  "language_info": {
   "codemirror_mode": {
    "name": "ipython",
    "version": 2
   },
   "file_extension": ".py",
   "mimetype": "text/x-python",
   "name": "python",
   "nbconvert_exporter": "python",
   "pygments_lexer": "ipython2",
   "version": "2.7.6"
  }
 },
 "nbformat": 4,
 "nbformat_minor": 5
}
