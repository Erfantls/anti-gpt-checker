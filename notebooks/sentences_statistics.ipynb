{
 "cells": [
  {
   "cell_type": "code",
   "id": "initial_id",
   "metadata": {
    "collapsed": true,
    "ExecuteTime": {
     "end_time": "2024-05-16T16:05:19.203972Z",
     "start_time": "2024-05-16T16:04:35.885419Z"
    }
   },
   "source": [
    "from tqdm import tqdm\n",
    "from analysis.nlp_transformations import separate_previous_conversation, remove_footers\n",
    "from typing import List\n",
    "\n",
    "from dao.email import DAOEmailGenerated, DAORealEmail\n",
    "from dao.attribute import DAOAttribute\n",
    "\n",
    "from models.attribute import AttributeInDB\n",
    "\n",
    "from analysis.nlp_transformations import split_into_sentences, replace_links_with_text\n",
    "from analysis.attribute_retriving import calc_distribution_sentence_length\n",
    "import string"
   ],
   "outputs": [
    {
     "name": "stderr",
     "output_type": "stream",
     "text": [
      "[nltk_data] Error loading stopwords: <urlopen error [Errno -3]\n",
      "[nltk_data]     Temporary failure in name resolution>\n",
      "[nltk_data] Error loading punkt: <urlopen error [Errno -3] Temporary\n",
      "[nltk_data]     failure in name resolution>\n",
      "[nltk_data] Error loading pl196x: <urlopen error [Errno -3] Temporary\n",
      "[nltk_data]     failure in name resolution>\n",
      "[nltk_data] Error loading wordnet: <urlopen error [Errno -3] Temporary\n",
      "[nltk_data]     failure in name resolution>\n"
     ]
    }
   ],
   "execution_count": 1
  },
  {
   "cell_type": "code",
   "outputs": [
    {
     "data": {
      "text/plain": "['Oto kilkanaście zdań w języku polskim, które zawierają różnorodne formy interpunkcyjne i struktury zdaniowe.',\n 'Jak się dzisiaj czujesz?',\n 'Dlaczego niebo jest niebieskie?',\n 'Czy wiesz, że Ks. Jan Twardowski był znanym polskim poetą?',\n 'Uwaga!',\n 'Proszę nie biec po korytarzu.',\n 'Gdzie jest najbliższa apteka?',\n 'Ile to kosztuje?',\n 'To niesamowite, że możemy rozmawiać online!',\n 'Co sądzisz o najnowszych odkryciach w kosmosie?',\n 'Pamiętaj, że drzwi otwierają się o godz. 8:00 rano!',\n 'Czy możesz mi podać sól?',\n 'Kto zostanie nowym prezydentem Stanów Zjednoczonych?',\n 'Wow!',\n 'To było naprawdę ekscytujące.',\n 'Jak możemy efektywniej oszczędzać energię?',\n 'Czy znasz jakieś dobre przepisy na ciasto?',\n 'Dr M. Nowak będzie dziś wygłaszać wykład na uniwersytecie.',\n 'Czy myślisz, że sztuczna inteligencja może przewyższyć ludzką kreatywność?']"
     },
     "execution_count": 2,
     "metadata": {},
     "output_type": "execute_result"
    }
   ],
   "source": [
    "text = \"Oto kilkanaście zdań w języku polskim, które zawierają różnorodne formy interpunkcyjne i struktury zdaniowe. Jak się dzisiaj czujesz? Dlaczego niebo jest niebieskie? Czy wiesz, że Ks. Jan Twardowski był znanym polskim poetą? Uwaga! Proszę nie biec po korytarzu. Gdzie jest najbliższa apteka? Ile to kosztuje? To niesamowite, że możemy rozmawiać online! Co sądzisz o najnowszych odkryciach w kosmosie? Pamiętaj, że drzwi otwierają się o godz. 8:00 rano! Czy możesz mi podać sól? Kto zostanie nowym prezydentem Stanów Zjednoczonych? Wow! To było naprawdę ekscytujące. Jak możemy efektywniej oszczędzać energię? Czy znasz jakieś dobre przepisy na ciasto? Dr M. Nowak będzie dziś wygłaszać wykład na uniwersytecie. Czy myślisz, że sztuczna inteligencja może przewyższyć ludzką kreatywność?\"\n",
    "one_sentence = \"I eat breakfast at 8:00 a.m.\"\n",
    "split_into_sentences(text, 'pl')"
   ],
   "metadata": {
    "collapsed": false,
    "ExecuteTime": {
     "end_time": "2024-04-09T19:54:20.907935Z",
     "start_time": "2024-04-09T19:54:20.863602Z"
    }
   },
   "id": "f29a286becbed107",
   "execution_count": 2
  },
  {
   "cell_type": "code",
   "source": [
    "from numpy import std, var\n",
    "\n",
    "dao_generated_emails: DAOEmailGenerated = DAOEmailGenerated()\n",
    "dao_real_emails: DAORealEmail = DAORealEmail()\n",
    "dao_attribute: DAOAttribute = DAOAttribute()\n",
    "\n",
    "\n",
    "all_attributes: List[AttributeInDB] = dao_attribute.find_many_by_query({})\n",
    "\n",
    "for attribute in tqdm(all_attributes, total=len(all_attributes), desc=f'Calculating sentences statistics', unit='emails', miniters=1):\n",
    "    if attribute.referenced_db_name == 'email_generated_dataset':\n",
    "        og_email = dao_generated_emails.find_one_by_query({'_id': attribute.referenced_doc_id})\n",
    "        language = og_email.language\n",
    "    else:\n",
    "        og_email = dao_real_emails.find_one(attribute.referenced_db_name, {'_id': attribute.referenced_doc_id})\n",
    "        language = og_email.detected_language\n",
    "    _, og_text = separate_previous_conversation(og_email.text_plain)\n",
    "    og_text = remove_footers(og_text)\n",
    "    og_text = replace_links_with_text(og_text, \"\")\n",
    "    \n",
    "    words = [token for token in og_text.split() if token not in string.punctuation]\n",
    "    # average_word_char_length = sum(len(word) for word in words) / len(words)\n",
    "    char_data = [len(word) for word in words]\n",
    "    # punctuation = len([char for char in og_text if char in \".,!?;:\"])\n",
    "    # \n",
    "    # split_sentences: List[str] = split_into_sentences(og_text, language)\n",
    "    # number_of_sentences = len(split_sentences)\n",
    "    # char_length_distribution, word_length_distribution = calc_distribution_sentence_length(split_sentences) \n",
    "    \n",
    "    dao_attribute.update_one({'_id': attribute.id}, {'$set':{\n",
    "        'standard_deviation_word_char_length': std(char_data),\n",
    "        'variance_word_char_length':\n",
    "         var(char_data)   \n",
    "    }})\n"
   ],
   "metadata": {
    "collapsed": false,
    "ExecuteTime": {
     "end_time": "2024-05-16T16:07:10.645003Z",
     "start_time": "2024-05-16T16:05:49.616649Z"
    }
   },
   "id": "6137e3e719d01c01",
   "outputs": [
    {
     "name": "stderr",
     "output_type": "stream",
     "text": [
      "Calculating sentences statistics: 100%|██████████| 32724/32724 [01:08<00:00, 476.85emails/s]\n"
     ]
    }
   ],
   "execution_count": 2
  },
  {
   "cell_type": "code",
   "outputs": [
    {
     "name": "stderr",
     "output_type": "stream",
     "text": [
      "Calculating sentences statistics: 100%|██████████| 32724/32724 [00:18<00:00, 1809.35emails/s]\n"
     ]
    }
   ],
   "source": [
    "dao_attribute: DAOAttribute = DAOAttribute()\n",
    "\n",
    "\n",
    "all_attributes: List[AttributeInDB] = dao_attribute.find_many_by_query({})\n",
    "\n",
    "for attribute in tqdm(all_attributes, total=len(all_attributes), desc=f'Calculating sentences statistics', unit='emails', miniters=1):\n",
    "    punctuation_density = attribute.punctuation / attribute.number_of_characters\n",
    "    punctuation_per_sentence = attribute.punctuation / attribute.number_of_sentences\n",
    "    dao_attribute.update_one({'_id': attribute.id}, {'$set':{\n",
    "        'punctuation_density': punctuation_density,\n",
    "        'punctuation_per_sentence': punctuation_per_sentence,\n",
    "    \n",
    "    }})\n"
   ],
   "metadata": {
    "collapsed": false,
    "ExecuteTime": {
     "end_time": "2024-04-09T22:31:34.959935Z",
     "start_time": "2024-04-09T22:31:15.413883Z"
    }
   },
   "id": "6af59ef66b39ee64",
   "execution_count": 6
  },
  {
   "cell_type": "code",
   "outputs": [],
   "source": [],
   "metadata": {
    "collapsed": false
   },
   "id": "7fa54986fea2a4fd",
   "execution_count": null
  }
 ],
 "metadata": {
  "kernelspec": {
   "display_name": "Python 3",
   "language": "python",
   "name": "python3"
  },
  "language_info": {
   "codemirror_mode": {
    "name": "ipython",
    "version": 2
   },
   "file_extension": ".py",
   "mimetype": "text/x-python",
   "name": "python",
   "nbconvert_exporter": "python",
   "pygments_lexer": "ipython2",
   "version": "2.7.6"
  }
 },
 "nbformat": 4,
 "nbformat_minor": 5
}
