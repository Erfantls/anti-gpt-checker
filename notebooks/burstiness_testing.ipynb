{
 "cells": [
  {
   "cell_type": "code",
   "execution_count": 1,
   "metadata": {
    "collapsed": true,
    "ExecuteTime": {
     "end_time": "2024-03-28T08:37:23.215956200Z",
     "start_time": "2024-03-28T08:37:19.444245200Z"
    }
   },
   "outputs": [
    {
     "name": "stderr",
     "output_type": "stream",
     "text": [
      "/home/pawel/.virtualenvs/anti-gpt-checker/lib/python3.10/site-packages/transformers/utils/generic.py:441: UserWarning: torch.utils._pytree._register_pytree_node is deprecated. Please use torch.utils._pytree.register_pytree_node instead.\n",
      "  _torch_pytree._register_pytree_node(\n",
      "/home/pawel/.virtualenvs/anti-gpt-checker/lib/python3.10/site-packages/transformers/utils/generic.py:309: UserWarning: torch.utils._pytree._register_pytree_node is deprecated. Please use torch.utils._pytree.register_pytree_node instead.\n",
      "  _torch_pytree._register_pytree_node(\n",
      "[nltk_data] Downloading package stopwords to /home/pawel/nltk_data...\n",
      "[nltk_data]   Package stopwords is already up-to-date!\n"
     ]
    }
   ],
   "source": [
    "from tqdm import tqdm\n",
    "from analysis.nlp_transformations import separate_previous_conversation, remove_footers\n",
    "from typing import List\n",
    "from dao.email import DAOEmailGenerated, DAORealEmail\n",
    "\n",
    "from dao.attribute import DAOAttribute\n",
    "from analysis.nlp_transformations import replace_links_with_text"
   ]
  },
  {
   "cell_type": "code",
   "execution_count": 2,
   "outputs": [],
   "source": [
    "from config import init_spacy_polish_nlp_model, init_spacy_english_nlp_model\n",
    "\n",
    "init_spacy_polish_nlp_model()\n",
    "init_spacy_english_nlp_model()"
   ],
   "metadata": {
    "collapsed": false,
    "ExecuteTime": {
     "end_time": "2024-03-28T08:37:28.328666Z",
     "start_time": "2024-03-28T08:37:23.216952100Z"
    }
   }
  },
  {
   "cell_type": "code",
   "execution_count": 3,
   "outputs": [
    {
     "name": "stderr",
     "output_type": "stream",
     "text": [
      "Calculating burstiness: 100%|██████████| 12561/12561 [33:17<00:00,  6.29emails/s]  \n"
     ]
    }
   ],
   "source": [
    "from analysis.attribute_retriving import calculate_burstiness\n",
    "from analysis.nlp_transformations import lemmatize_text\n",
    "from models.attribute import AttributeInDB\n",
    "\n",
    "dao_generated_emails: DAOEmailGenerated = DAOEmailGenerated()\n",
    "dao_real_emails: DAORealEmail = DAORealEmail()\n",
    "dao_attribute: DAOAttribute = DAOAttribute()\n",
    "\n",
    "\n",
    "all_attributes: List[AttributeInDB] = dao_attribute.find_many_by_query({'burstiness': None})\n",
    "\n",
    "for attribute in tqdm(all_attributes, total=len(all_attributes), desc=f'Calculating burstiness', unit='emails', miniters=1):\n",
    "    if attribute.referenced_db_name == 'email_generated_dataset':\n",
    "        og_email = dao_generated_emails.find_one_by_query({'_id': attribute.referenced_doc_id})\n",
    "        language = og_email.language\n",
    "    else:\n",
    "        og_email = dao_real_emails.find_one(attribute.referenced_db_name, {'_id': attribute.referenced_doc_id})\n",
    "        language = og_email.detected_language\n",
    "    _, og_text = separate_previous_conversation(og_email.text_plain)\n",
    "    og_text = remove_footers(og_text)\n",
    "    og_text = replace_links_with_text(og_text, \"\")\n",
    "    lem_text, _ = lemmatize_text(og_text, language)\n",
    "    lem_text = lem_text.strip()\n",
    "    burstiness = calculate_burstiness(lem_text, language)\n",
    "    dao_attribute.update_one({'_id': attribute.id}, {'$set':{'burstiness': burstiness}})\n",
    "    if attribute.referenced_db_name == 'email_generated_dataset':\n",
    "        dao_generated_emails.update_one({'_id': attribute.referenced_doc_id}, {'$set':{'lemmatized_body': lem_text}})\n",
    "    else:\n",
    "        dao_real_emails.update_one(attribute.referenced_db_name, {'_id': attribute.referenced_doc_id}, {'$set':{'lemmatized_body': lem_text}})"
   ],
   "metadata": {
    "collapsed": false,
    "ExecuteTime": {
     "end_time": "2024-03-28T09:10:50.214639800Z",
     "start_time": "2024-03-28T08:37:30.984543800Z"
    }
   }
  },
  {
   "cell_type": "code",
   "execution_count": null,
   "outputs": [],
   "source": [],
   "metadata": {
    "collapsed": false
   }
  }
 ],
 "metadata": {
  "kernelspec": {
   "display_name": "Python 3",
   "language": "python",
   "name": "python3"
  },
  "language_info": {
   "codemirror_mode": {
    "name": "ipython",
    "version": 2
   },
   "file_extension": ".py",
   "mimetype": "text/x-python",
   "name": "python",
   "nbconvert_exporter": "python",
   "pygments_lexer": "ipython2",
   "version": "2.7.6"
  }
 },
 "nbformat": 4,
 "nbformat_minor": 0
}
