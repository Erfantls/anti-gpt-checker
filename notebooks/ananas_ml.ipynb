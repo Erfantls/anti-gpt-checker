{
 "cells": [
  {
   "cell_type": "code",
   "id": "initial_id",
   "metadata": {
    "collapsed": true,
    "ExecuteTime": {
     "end_time": "2024-12-17T20:35:48.710308Z",
     "start_time": "2024-12-17T20:35:13.182478Z"
    }
   },
   "source": [
    "from typing import List\n",
    "\n",
    "from dao.attribute import DAOAttributePL\n",
    "\n",
    "from ml.model_training import evaluate_models, k_fold_cross_validation\n",
    "from ml.data_preparation import convert_db_attributes_to_input_data, convert_db_to_attributes_selected_features\n",
    "import matplotlib.pyplot as plt"
   ],
   "outputs": [
    {
     "name": "stderr",
     "output_type": "stream",
     "text": [
      "[nltk_data] Downloading package stopwords to /home/pawel/nltk_data...\n",
      "[nltk_data]   Package stopwords is already up-to-date!\n",
      "[nltk_data] Downloading package punkt to /home/pawel/nltk_data...\n",
      "[nltk_data]   Package punkt is already up-to-date!\n",
      "[nltk_data] Downloading package pl196x to /home/pawel/nltk_data...\n",
      "[nltk_data]   Package pl196x is already up-to-date!\n",
      "[nltk_data] Downloading package wordnet to /home/pawel/nltk_data...\n",
      "[nltk_data]   Package wordnet is already up-to-date!\n",
      "[nltk_data] Downloading package punkt_tab to /home/pawel/nltk_data...\n",
      "[nltk_data]   Package punkt_tab is already up-to-date!\n"
     ]
    }
   ],
   "execution_count": 2
  },
  {
   "metadata": {
    "ExecuteTime": {
     "end_time": "2024-12-17T22:12:45.270612Z",
     "start_time": "2024-12-17T22:12:23.817880Z"
    }
   },
   "cell_type": "code",
   "source": [
    "from models.attribute import AttributePLInDB\n",
    "\n",
    "dao_attribute_hard_pl: DAOAttributePL = DAOAttributePL(collection_name=\"attributes-24-12-16\")\n",
    "dao_attribute_manual_pl: DAOAttributePL = DAOAttributePL(collection_name=\"attributes_manual_test4\")\n",
    "\n",
    "hard_generated: List[AttributePLInDB] = dao_attribute_hard_pl.find_many_by_query({\"is_generated\": True})\n",
    "hard_real: List[AttributePLInDB] = dao_attribute_hard_pl.find_many_by_query({\"is_generated\": False})\n",
    "\n",
    "manual_generated: List[AttributePLInDB] = dao_attribute_manual_pl.find_many_by_query({\"is_generated\": True})\n",
    "manual_real: List[AttributePLInDB] = dao_attribute_manual_pl.find_many_by_query({\"is_generated\": False})"
   ],
   "id": "149455ad8d659a2c",
   "outputs": [],
   "execution_count": 41
  },
  {
   "metadata": {
    "ExecuteTime": {
     "end_time": "2024-12-17T20:36:51.217672Z",
     "start_time": "2024-12-17T20:36:42.831381Z"
    }
   },
   "cell_type": "code",
   "source": [
    "num_of_features = 245\n",
    "\n",
    "hard_data = convert_db_attributes_to_input_data(hard_generated, hard_real, num_of_features)"
   ],
   "id": "10edb111f023f9b7",
   "outputs": [],
   "execution_count": 6
  },
  {
   "metadata": {
    "ExecuteTime": {
     "end_time": "2024-12-16T19:46:01.927391Z",
     "start_time": "2024-12-16T19:46:01.210126Z"
    }
   },
   "cell_type": "code",
   "source": [
    "from ml.data_preparation import find_significant_features\n",
    "\n",
    "significant_features = find_significant_features(hard_data)\n",
    "print(significant_features)"
   ],
   "id": "f18fb5a5138267db",
   "outputs": [
    {
     "name": "stdout",
     "output_type": "stream",
     "text": [
      "['number_of_errors', 'stylometrix_metrics.syntactic.SY_S_NOM', 'standard_deviation_sentence_word_length', 'variance_sentence_word_length', 'average_word_char_length', 'variance_sentence_char_length', 'standard_deviation_sentence_char_length', 'text_errors_by_category.TYPOGRAPHY', 'average_sentence_char_length', 'text_errors_by_category.PUNCTUATION', 'average_sentence_word_length', 'stylometrix_metrics.inflection.IN_V_1P', 'punctuation_per_sentence', 'no_space_after_punctuation', 'text_errors_by_category.TYPOS', 'stylometrix_metrics.grammatical_forms.G_NUM', 'stylometrix_metrics.graphical.GR_UPPER', 'punctuation_density', 'stylometrix_metrics.grammatical_forms.G_PRO_REL', 'variance_word_char_length', 'standard_deviation_word_char_length', 'stylometrix_metrics.inflection.IN_V_1S', 'stylometrix_metrics.grammatical_forms.G_ABBR', 'burstiness2', 'stylometrix_metrics.grammatical_forms.G_OTHER', 'stylometrix_metrics.inflection.IN_ADJ_COM', 'stylometrix_metrics.inflection.IN_PRO_1NOM', 'stylometrix_metrics.syntactic.SY_FMWE', 'double_spaces', 'stylometrix_metrics.syntactic.SY_QUOT', 'stylometrix_metrics.inflection.IN_V_QUASI', 'stylometrix_metrics.inflection.IN_V_3P', 'stylometrix_metrics.syntactic.SY_APPM', 'stylometrix_metrics.grammatical_forms.G_PART', 'text_errors_by_category.SPELLING', 'stylometrix_metrics.syntactic.SY_S_NEG', 'text_errors_by_category.MISC', 'stylometrix_metrics.inflection.IN_N_1NOM', 'stylometrix_metrics.graphical.GR_EMOT', 'stylometrix_metrics.inflection.IN_PRO_1P', 'stylometrix_metrics.inflection.IN_V_MOD', 'stylometrix_metrics.inflection.IN_V_IMPERS_PERF', 'stylometrix_metrics.inflection.IN_PRO_4ACC', 'stylometrix_metrics.grammatical_forms.G_PRO_NEG', 'stylometrix_metrics.graphical.GR_LENNY', 'stylometrix_metrics.inflection.IN_N_MP', 'stylometrix_metrics.grammatical_forms.G_PRO_IND', 'stylometrix_metrics.grammatical_forms.G_CONJ', 'stylometrix_metrics.inflection.IN_V_IMPERS', 'emojis', 'stylometrix_metrics.inflection.IN_PRO_1S', 'text_errors_by_category.GRAMMAR', 'stylometrix_metrics.inflection.IN_PRO_3P', 'text_errors_by_category.SYNTAX', 'stylometrix_metrics.lexical.L_NAME', 'question_marks', 'stylometrix_metrics.inflection.IN_N_3DAT', 'text_errors_by_category.CASING', 'text_errors_by_category.STYLE', 'stylometrix_metrics.inflection.IN_V_PERF', 'stylometrix_metrics.syntactic.SY_S_IN', 'stylometrix_metrics.inflection.IN_N_PL', 'stylometrix_metrics.inflection.IN_N_SG', 'stylometrix_metrics.inflection.IN_N_MS', 'stylometrix_metrics.grammatical_forms.G_SYM', 'stylometrix_metrics.grammatical_forms.G_PRO', 'stylometrix_metrics.inflection.IN_V_FUTS', 'stylometrix_metrics.lexical.L_NAME_ENT', 'stylometrix_metrics.lexical.L_ADV_TEMP', 'stylometrix_metrics.punctuation.PUNCT_TOTAL', 'stylometrix_metrics.grammatical_forms.G_PRO_PRS', 'stylometrix_metrics.grammatical_forms.G_CCONJ', 'stylometrix_metrics.inflection.IN_V_PCON', 'stylometrix_metrics.grammatical_forms.G_SCONJ', 'stylometrix_metrics.psycholinguistics.PS_M_REFb', 'stylometrix_metrics.inflection.IN_V_FUT', 'number_of_sentences', 'stylometrix_metrics.inflection.IN_ADJ_SUP', 'stylometrix_metrics.inflection.IN_V_PACT', 'stylometrix_metrics.grammatical_forms.G_ADV', 'stylometrix_metrics.syntactic.SY_S_ELL', 'stylometrix_metrics.syntactic.SY_S_INF', 'stylometrix_metrics.inflection.IN_V_GER', 'stylometrix_metrics.descriptive.DESC_ADV_ADV', 'stylometrix_metrics.lexical.L_NAME_F', 'stylometrix_metrics.lexical.L_NAME_M', 'stylometrix_metrics.lexical.L_ETHN', 'stylometrix_metrics.psycholinguistics.PS_M_REFa', 'stylometrix_metrics.descriptive.DESC_ADV', 'stylometrix_metrics.inflection.IN_V_INF', 'stylometrix_metrics.descriptive.DESC_ADJ_CP', 'stylometrix_metrics.inflection.IN_PRO_3DAT', 'stylometrix_metrics.punctuation.PUNCT_BI_NOUN', 'stylometrix_metrics.lexical.L_DATE', 'stylometrix_metrics.grammatical_forms.G_V', 'stylometrix_metrics.grammatical_forms.G_PRO_INT', 'stylometrix_metrics.inflection.IN_N_NS', 'stylometrix_metrics.syntactic.SY_INV_OBJ', 'stylometrix_metrics.inflection.IN_N_FS', 'stylometrix_metrics.grammatical_forms.G_PRO_TOT', 'stylometrix_metrics.inflection.IN_V_IMPERF', 'text_errors_by_category.NONSTANDARD_PHRASES', 'text_errors_by_category.COLLOCATIONS', 'stylometrix_metrics.inflection.IN_ADV_COM', 'stylometrix_metrics.lexical.L_ADVPHR', 'stylometrix_metrics.inflection.IN_PRO_6LOC', 'stylometrix_metrics.syntactic.SY_S_EX', 'stylometrix_metrics.inflection.IN_V_IMP', 'perplexity', 'stylometrix_metrics.inflection.IN_V_PAST', 'text_errors_by_category.MULTITOKEN_SPELLING', 'stylometrix_metrics.inflection.IN_V_3S', 'stylometrix_metrics.descriptive.DESC_APOS_NPHR', 'stylometrix_metrics.inflection.IN_PRO_5INS', 'text_errors_by_category.PHONETICS', 'stylometrix_metrics.psycholinguistics.PS_M_AUTa', 'stylometrix_metrics.syntactic.SY_MOD', 'stylometrix_metrics.lexical.L_ADV_FREQ', 'stylometrix_metrics.lexical.L_ADV_DUR', 'stylometrix_metrics.psycholinguistics.PS_M_NEGa', 'stylometrix_metrics.psycholinguistics.PS_M_NEGb', 'stylometrix_metrics.grammatical_forms.G_INTJ', 'text_errors_by_category.WORD_ORDER', 'stylometrix_metrics.lexical.L_ERROR', 'stylometrix_metrics.inflection.IN_V_PPAS_PERF', 'stylometrix_metrics.grammatical_forms.G_PRO_DEM', 'stylometrix_metrics.descriptive.DESC_PRON_VOC', 'stylometrix_metrics.lexical.L_INTENSIF', 'stylometrix_metrics.grammatical_forms.G_PRO_POS', 'stylometrix_metrics.inflection.IN_V_PPAS', 'stylometrix_metrics.inflection.IN_N_NMP', 'text_errors_by_category.NUMBERS', 'stylometrix_metrics.lexical.L_PERSN', 'stylometrix_metrics.lexical.L_VULG', 'text_errors_by_category.SEMANTICS', 'stylometrix_metrics.lexical.L_GEOG_ADJ', 'stylometrix_metrics.lexical.L_FUNC_T', 'text_errors_by_category.AMERICAN_ENGLISH_STYLE', 'stylometrix_metrics.inflection.IN_V_FUTC', 'stylometrix_metrics.inflection.IN_V_COND', 'stylometrix_metrics.inflection.IN_N_2GEN', 'stylometrix_metrics.lexical.L_TCCT5', 'stylometrix_metrics.inflection.IN_V_FIN', 'stylometrix_metrics.inflection.IN_V_PASS', 'stylometrix_metrics.lexical.L_PERSN_M', 'text_errors_by_category.COMPOUNDING', 'stylometrix_metrics.inflection.IN_PRO_2S', 'stylometrix_metrics.syntactic.SY_NPHR', 'text_errors_by_category.REDUNDANCY', 'stylometrix_metrics.lexical.L_STOP', 'stylometrix_metrics.inflection.IN_PRO_3S', 'exclamation_marks', 'stylometrix_metrics.syntactic.SY_SIMILE_ADJ', 'stylometrix_metrics.inflection.IN_V_2S', 'stylometrix_metrics.inflection.IN_V_PANT', 'stylometrix_metrics.lexical.L_SYL_G4', 'stylometrix_metrics.lexical.L_CONT_L', 'stylometrix_metrics.lexical.L_TTR_IA', 'stylometrix_metrics.inflection.IN_V_PPAS_IMPERF', 'stylometrix_metrics.lexical.L_TTR_LA', 'stylometrix_metrics.lexical.L_PERSN_F', 'stylometrix_metrics.descriptive.DESC_ADV_ADJ', 'stylometrix_metrics.syntactic.SY_INIT', 'stylometrix_metrics.inflection.IN_V_PRES', 'stylometrix_metrics.syntactic.SY_S_DE', 'stylometrix_metrics.inflection.IN_PRO_2GEN', 'stylometrix_metrics.lexical.L_SYL_G1', 'stylometrix_metrics.descriptive.DESC_APOS_ADJ', 'text_errors_by_category.BRITISH_ENGLISH', 'stylometrix_metrics.inflection.IN_PRO_2P', 'stylometrix_metrics.syntactic.SY_NPRED', 'double_exclamation_marks', 'stylometrix_metrics.graphical.GR_HASH', 'stylometrix_metrics.lexical.L_SYL_G2', 'stylometrix_metrics.lexical.L_FUNC_L', 'stylometrix_metrics.psycholinguistics.PS_M_SIGb', 'stylometrix_metrics.graphical.GR_LINK', 'stylometrix_metrics.psycholinguistics.PS_M_AUTb', 'stylometrix_metrics.lexical.L_PLACEN_GEOG', 'stylometrix_metrics.syntactic.SY_S_VOC', 'number_of_words', 'stylometrix_metrics.inflection.IN_N_7VOC', 'stylometrix_metrics.inflection.IN_ADV_POS', 'stylometrix_metrics.inflection.IN_ADV_SUP', 'stylometrix_metrics.descriptive.DESC_ADJ', 'stylometrix_metrics.inflection.IN_N_4ACC', 'stylometrix_metrics.inflection.IN_N_5INS', 'stylometrix_metrics.descriptive.DESC_APOS_VERB', 'stylometrix_metrics.inflection.IN_N_6LOC', 'double_question_marks', 'stylometrix_metrics.psycholinguistics.PS_M_AROb', 'stylometrix_metrics.inflection.IN_V_ACT', 'stylometrix_metrics.descriptive.DESC_PRON_ADJ_VOC', 'stylometrix_metrics.inflection.IN_PRO_7VOC', 'stylometrix_metrics.graphical.GR_EMOJI', 'number_of_characters', 'stylometrix_metrics.graphical.GR_MENTION', 'stylometrix_metrics.inflection.IN_V_IMPERS_IMPERF', 'stylometrix_metrics.psycholinguistics.PS_M_SIGa', 'text_errors_by_category.CONFUSED_WORDS', 'stylometrix_metrics.psycholinguistics.PS_M_AROa', 'stylometrix_metrics.lexical.L_SYL_G3', 'stylometrix_metrics.lexical.L_ORGN', 'burstiness', 'stylometrix_metrics.lexical.L_CONT_A', 'stylometrix_metrics.lexical.L_CONT_T', 'text_errors_by_category.PRAWDOPODOBNE_LITEROWKI', 'stylometrix_metrics.lexical.L_FUNC_A', 'text_errors_by_category.REPETITIONS_STYLE', 'stylometrix_metrics.punctuation.PUNCT_BI_VERB', 'stylometrix_metrics.grammatical_forms.G_N', 'stylometrix_metrics.lexical.L_TCCT1', 'stylometrix_metrics.grammatical_forms.G_ADJ', 'stylometrix_metrics.psycholinguistics.PS_M_POSa', 'stylometrix_metrics.psycholinguistics.PS_M_POSb', 'stylometrix_metrics.syntactic.SY_INV_EPI', 'stylometrix_metrics.grammatical_forms.G_CNUM', 'stylometrix_metrics.grammatical_forms.G_ADP', 'stylometrix_metrics.inflection.IN_ADJ_POS', 'stylometrix_metrics.inflection.IN_V_2P']\n"
     ]
    }
   ],
   "execution_count": 11
  },
  {
   "metadata": {
    "ExecuteTime": {
     "end_time": "2024-12-17T20:36:36.229232Z",
     "start_time": "2024-12-17T20:36:35.939587Z"
    }
   },
   "cell_type": "code",
   "source": [
    "from sklearn.tree import DecisionTreeClassifier\n",
    "from sklearn.ensemble import RandomForestClassifier, AdaBoostClassifier\n",
    "from sklearn.neural_network import MLPClassifier\n",
    "from sklearn.neighbors import KNeighborsClassifier\n",
    "from sklearn.svm import SVC\n",
    "from sklearn.naive_bayes import GaussianNB\n",
    "from sklearn.discriminant_analysis import QuadraticDiscriminantAnalysis\n",
    "from catboost import CatBoostClassifier"
   ],
   "id": "ecf93854d75b9f8c",
   "outputs": [],
   "execution_count": 4
  },
  {
   "metadata": {
    "ExecuteTime": {
     "end_time": "2024-12-17T20:37:29.955025Z",
     "start_time": "2024-12-17T20:36:56.416568Z"
    }
   },
   "cell_type": "code",
   "source": [
    "def compare_models(dataset):\n",
    "    models = {\n",
    "        'Decision Tree': DecisionTreeClassifier(),\n",
    "        'Random Forest': RandomForestClassifier(),\n",
    "        'MLP Classifier': MLPClassifier(),\n",
    "        #'K-Nearest Neighbors': KNeighborsClassifier(),\n",
    "        #'Support Vector Classifier': SVC(probability=True),\n",
    "        #'AdaBoost': AdaBoostClassifier(),\n",
    "        #'Gaussian Naive Bayes': GaussianNB(),\n",
    "        #'Quadratic Discriminant Analysis': QuadraticDiscriminantAnalysis(),\n",
    "        'CatBoost': CatBoostClassifier(iterations=100, learning_rate=0.1, depth=6, verbose=0)\n",
    "    }\n",
    "    for model_name, model in models.items():\n",
    "        results = k_fold_cross_validation(model, dataset, 10)\n",
    "        print(model_name)\n",
    "        print(results)\n",
    "        #print(f\"{model_name} & {round(results['accuracy'], 4)} & {round(results['precision'], 4)} & {round(results['recall'], 4)} & {round(results['f1_score'], 4)} & {round(results['roc_auc'], 4)}\")\n",
    "        #print(results)\n",
    "        #print(\"\\n\")\n",
    "\n",
    "\n",
    "compare_models(hard_data)"
   ],
   "id": "fefc9d7208616ed0",
   "outputs": [
    {
     "name": "stdout",
     "output_type": "stream",
     "text": [
      "Random Forest\n",
      "{'accuracy': 0.9983175586023885, 'precision': 0.9982887748120725, 'recall': 0.998322489889221, 'f1_score': 0.998303798230664, 'roc_auc': 0.9999413448862879, 'TP': 237.4, 'TN': 237.4, 'FP': 0.4, 'FN': 0.4}\n",
      "CatBoost\n",
      "{'accuracy': 0.9983180008845645, 'precision': 0.9974690986862808, 'recall': 0.9991767316585639, 'f1_score': 0.9983184904094659, 'roc_auc': 0.9999697206734128, 'TP': 237.6, 'TN': 237.2, 'FP': 0.6, 'FN': 0.2}\n"
     ]
    }
   ],
   "execution_count": 7
  },
  {
   "metadata": {},
   "cell_type": "markdown",
   "source": "# Manual test of the models",
   "id": "1bd92e2fa74407a7"
  },
  {
   "metadata": {
    "ExecuteTime": {
     "end_time": "2024-12-17T20:40:29.938966Z",
     "start_time": "2024-12-17T20:40:29.934261Z"
    }
   },
   "cell_type": "code",
   "source": [
    "all_error_features=['number_of_errors', 'no_space_after_punctuation', 'double_spaces', 'text_errors_by_category.AMERICAN_ENGLISH_STYLE',\n",
    "    'text_errors_by_category.BRITISH_ENGLISH',\n",
    "    'text_errors_by_category.CASING',\n",
    "    'text_errors_by_category.COLLOCATIONS',\n",
    "    'text_errors_by_category.COMPOUNDING',\n",
    "    'text_errors_by_category.CONFUSED_WORDS',\n",
    "    'text_errors_by_category.GRAMMAR',\n",
    "    'text_errors_by_category.MISC',\n",
    "    'text_errors_by_category.MULTITOKEN_SPELLING',\n",
    "    'text_errors_by_category.NONSTANDARD_PHRASES',\n",
    "    'text_errors_by_category.NUMBERS',\n",
    "    'text_errors_by_category.PHONETICS',\n",
    "    'text_errors_by_category.PRAWDOPODOBNE_LITEROWKI',\n",
    "    'text_errors_by_category.PUNCTUATION',\n",
    "    'text_errors_by_category.REDUNDANCY',\n",
    "    'text_errors_by_category.REPETITIONS_STYLE',\n",
    "    'text_errors_by_category.SEMANTICS',\n",
    "    'text_errors_by_category.SPELLING',\n",
    "    'text_errors_by_category.STYLE',\n",
    "    'text_errors_by_category.SYNTAX',\n",
    "    'text_errors_by_category.TYPOGRAPHY',\n",
    "    'text_errors_by_category.TYPOS',\n",
    "    'text_errors_by_category.WORD_ORDER']\n",
    "overfitting_features = ['stylometrix_metrics.syntactic.SY_S_NOM', 'stylometrix_metrics.inflection.IN_V_1P']"
   ],
   "id": "f30db8ddc4b21525",
   "outputs": [],
   "execution_count": 8
  },
  {
   "metadata": {
    "ExecuteTime": {
     "end_time": "2024-12-17T22:13:42.507682Z",
     "start_time": "2024-12-17T22:13:34.079613Z"
    }
   },
   "cell_type": "code",
   "source": [
    "num_of_features_manual_test = 10\n",
    "\n",
    "hard_data_manual_test = convert_db_attributes_to_input_data(hard_generated, hard_real, num_of_features_manual_test)#, exclude_additionally=overfitting_features+all_error_features)"
   ],
   "id": "53b31bb6b6b384b",
   "outputs": [],
   "execution_count": 44
  },
  {
   "metadata": {
    "ExecuteTime": {
     "end_time": "2024-12-17T22:13:52.010708Z",
     "start_time": "2024-12-17T22:13:43.727346Z"
    }
   },
   "cell_type": "code",
   "source": "compare_models(hard_data_manual_test)",
   "id": "9a93290d3051918a",
   "outputs": [
    {
     "name": "stdout",
     "output_type": "stream",
     "text": [
      "Random Forest\n",
      "{'accuracy': 0.995795223352499, 'precision': 0.9953674862690839, 'recall': 0.9962109917733935, 'f1_score': 0.9957848610646656, 'roc_auc': 0.999880935582014, 'TP': 236.9, 'TN': 236.7, 'FP': 1.1, 'FN': 0.9}\n",
      "CatBoost\n",
      "{'accuracy': 0.9955846970367095, 'precision': 0.9933092487954347, 'recall': 0.997895232665481, 'f1_score': 0.9955879580327043, 'roc_auc': 0.9998345391707071, 'TP': 237.3, 'TN': 236.2, 'FP': 1.6, 'FN': 0.5}\n"
     ]
    }
   ],
   "execution_count": 45
  },
  {
   "metadata": {
    "ExecuteTime": {
     "end_time": "2024-12-17T22:13:53.888538Z",
     "start_time": "2024-12-17T22:13:53.885365Z"
    }
   },
   "cell_type": "code",
   "source": "selected_features = list(hard_data_manual_test[0][0].keys())",
   "id": "d9684def73bb3332",
   "outputs": [],
   "execution_count": 46
  },
  {
   "metadata": {
    "ExecuteTime": {
     "end_time": "2024-12-17T22:13:56.488675Z",
     "start_time": "2024-12-17T22:13:56.293486Z"
    }
   },
   "cell_type": "code",
   "source": [
    "from sklearn.feature_extraction import DictVectorizer\n",
    "import numpy as np\n",
    "\n",
    "catboost_model = CatBoostClassifier(iterations=100, learning_rate=0.1, depth=6, verbose=0)\n",
    "vectorizer = DictVectorizer(sparse=False)\n",
    "features = vectorizer.fit_transform([features for features, _ in hard_data_manual_test])\n",
    "labels = np.array([label for _, label in hard_data_manual_test])\n",
    "\n",
    "catboost_model.fit(features, labels)"
   ],
   "id": "96f7909d764ebb43",
   "outputs": [
    {
     "data": {
      "text/plain": [
       "<catboost.core.CatBoostClassifier at 0x7fbb0ffa5330>"
      ]
     },
     "execution_count": 47,
     "metadata": {},
     "output_type": "execute_result"
    }
   ],
   "execution_count": 47
  },
  {
   "metadata": {
    "ExecuteTime": {
     "end_time": "2024-12-17T22:13:57.395895Z",
     "start_time": "2024-12-17T22:13:57.389009Z"
    }
   },
   "cell_type": "code",
   "source": [
    "manual_data_real = convert_db_to_attributes_selected_features([], manual_real, selected_features)\n",
    "manual_data_generated = convert_db_to_attributes_selected_features(manual_generated, [], selected_features)\n",
    "manual_data_both = convert_db_to_attributes_selected_features(manual_generated, manual_real, selected_features)\n",
    "\n",
    "# manual_predictions_real = catboost_model.predict(vectorizer.transform([features for features, _ in manual_data_real]))\n",
    "# manual_predictions_generated = catboost_model.predict(vectorizer.transform([features for features, _ in manual_data_generated]))\n",
    "manual_predictions_both = catboost_model.predict_proba(vectorizer.transform([features for features, _ in manual_data_both]))"
   ],
   "id": "8e249584076b2759",
   "outputs": [],
   "execution_count": 48
  },
  {
   "metadata": {
    "ExecuteTime": {
     "end_time": "2024-12-17T22:13:58.522844Z",
     "start_time": "2024-12-17T22:13:58.518270Z"
    }
   },
   "cell_type": "code",
   "source": "manual_predictions_both",
   "id": "23bfb6c62905dcfb",
   "outputs": [
    {
     "data": {
      "text/plain": [
       "array([[0.9980029 , 0.0019971 ],\n",
       "       [0.99790891, 0.00209109]])"
      ]
     },
     "execution_count": 49,
     "metadata": {},
     "output_type": "execute_result"
    }
   ],
   "execution_count": 49
  },
  {
   "metadata": {
    "ExecuteTime": {
     "end_time": "2024-06-04T16:45:49.146158Z",
     "start_time": "2024-06-04T16:45:49.143035Z"
    }
   },
   "cell_type": "code",
   "source": "from sklearn.ensemble import RandomForestClassifier",
   "id": "7b85858c1858023a",
   "outputs": [],
   "execution_count": 16
  },
  {
   "metadata": {
    "ExecuteTime": {
     "end_time": "2024-11-28T18:26:45.278895Z",
     "start_time": "2024-11-28T18:26:45.273322Z"
    }
   },
   "cell_type": "code",
   "source": "len(all_error_features)",
   "id": "c97a130bd30e498a",
   "outputs": [
    {
     "data": {
      "text/plain": [
       "26"
      ]
     },
     "execution_count": 6,
     "metadata": {},
     "output_type": "execute_result"
    }
   ],
   "execution_count": 6
  },
  {
   "metadata": {
    "ExecuteTime": {
     "end_time": "2024-11-28T18:29:50.401454Z",
     "start_time": "2024-11-28T18:29:50.398445Z"
    }
   },
   "cell_type": "code",
   "source": "f1_data={}",
   "id": "f2b9ed3d31275714",
   "outputs": [],
   "execution_count": 7
  },
  {
   "metadata": {},
   "cell_type": "markdown",
   "source": "",
   "id": "94022314b37051aa"
  },
  {
   "metadata": {
    "ExecuteTime": {
     "end_time": "2024-11-28T19:04:59.477823Z",
     "start_time": "2024-11-28T19:02:16.666886Z"
    }
   },
   "cell_type": "code",
   "source": [
    "for n in [1,2,4,6,8,10,14,20,30,100,244]:\n",
    "    data = convert_db_attributes_to_input_data(hard_generated, hard_real, n, exclude_additionally=[])\n",
    "    n = len(data[0][0])\n",
    "    f1_data[n] = 0\n",
    "    for i in range(10):\n",
    "        results = k_fold_cross_validation(CatBoostClassifier(iterations=100, learning_rate=0.1, depth=6, verbose=0), data, 10)\n",
    "         # print(f\"{n} & {round(results['accuracy'], 4)} & {round(results['precision'], 4)} & {round(results['recall'], 4)} & {round(results['f1_score'], 4)} & {round(results['roc_auc'], 4)}\")\n",
    "        f1_data[n] += results['f1_score']\n",
    "    f1_data[n] = f1_data[n]/10"
   ],
   "id": "b877650a12b9603e",
   "outputs": [],
   "execution_count": 30
  },
  {
   "metadata": {
    "ExecuteTime": {
     "end_time": "2024-11-28T19:06:23.749760Z",
     "start_time": "2024-11-28T19:06:23.453717Z"
    }
   },
   "cell_type": "code",
   "source": [
    "import matplotlib.pyplot as plt\n",
    "\n",
    "\n",
    "# Extracting data from f1_data\n",
    "features = sorted(f1_data.keys())  # Sort features to ensure proper plotting\n",
    "f1_scores = [f1_data[feature] for feature in features]\n",
    "\n",
    "# Plotting\n",
    "fig, ax = plt.subplots()\n",
    "\n",
    "# Set logarithmic scale for x-axis\n",
    "ax.set_xscale('log')\n",
    "\n",
    "# Plot F1 scores\n",
    "ax.plot(features, f1_scores, marker='o', linestyle='--', color='red', label='F1 Score')\n",
    "\n",
    "# Set labels\n",
    "ax.set_xlabel('Number of features')\n",
    "ax.set_ylabel('F1 Score')\n",
    "ax.set_xlim([0.8, max(features) * 1.2])\n",
    "ax.set_ylim([min(f1_scores) * 0.99, max(f1_scores) * 1.01])\n",
    "\n",
    "# ax.set_facecolor('white')  # Replace 'lightgray' with your desired color\n",
    "# \n",
    "# # Set background color for the figure\n",
    "#fig.patch.set_facecolor('black')\n",
    "\n",
    "# Set ticks\n",
    "ax.set_xticks([1, 2, 4, 6, 10, 20, 30, 100, 220])  # Add ticks relevant to your data\n",
    "ax.get_xaxis().set_major_formatter(plt.ScalarFormatter())\n",
    "ax.grid(True, which='both', linestyle='--',color='gray', linewidth=0.5)\n",
    "\n",
    "# Legend\n",
    "ax.legend(loc='lower right')\n",
    "\n",
    "# Save and show plot\n",
    "#plt.savefig('f1_scores_plot.png')\n",
    "plt.show()"
   ],
   "id": "7fee61e2558876cb",
   "outputs": [
    {
     "data": {
      "text/plain": [
       "<Figure size 640x480 with 1 Axes>"
      ],
      "image/png": "[encoded data removed]"
     },
     "metadata": {},
     "output_type": "display_data"
    }
   ],
   "execution_count": 31
  },
  {
   "metadata": {
    "ExecuteTime": {
     "end_time": "2024-11-28T18:53:58.827046Z",
     "start_time": "2024-11-28T18:53:58.822797Z"
    }
   },
   "cell_type": "code",
   "source": [
    "spelling_related_mistakes = [\n",
    "    'text_errors_by_category.MULTITOKEN_SPELLING',  # Mistakes involving the incorrect spelling of multi-word phrases.\n",
    "    'text_errors_by_category.PRAWDOPODOBNE_LITEROWKI',  # Probable typos or misspellings (term in Polish).\n",
    "    'text_errors_by_category.SPELLING',  # General spelling mistakes.\n",
    "    'text_errors_by_category.TYPOS'  # Typographical errors, often simple and easy to spot.\n",
    "]\n",
    "\n",
    "editing_related_mistakes = [\n",
    "    'no_space_after_punctuation',  # Missing spaces after punctuation marks like periods, commas, or colons.\n",
    "    'double_spaces',  # Unintended multiple spaces between words or sentences.\n",
    "    'text_errors_by_category.AMERICAN_ENGLISH_STYLE',  # Inconsistencies or errors related to American English conventions (e.g., spelling, punctuation, and usage).\n",
    "    'text_errors_by_category.BRITISH_ENGLISH',  # Inconsistencies or errors related to British English conventions.\n",
    "    'text_errors_by_category.CASING',  # Incorrect use of uppercase and lowercase letters.\n",
    "    'text_errors_by_category.COLLOCATIONS',  # Incorrect or awkward combinations of words that are typically used together.\n",
    "    'text_errors_by_category.COMPOUNDING',  # Errors in forming compound words (e.g., \"ice cream\" vs. \"ice-cream\").\n",
    "    'text_errors_by_category.CONFUSED_WORDS',  # Misuse of words that sound similar or have similar spellings but different meanings (e.g., \"affect\" vs. \"effect\").\n",
    "    'text_errors_by_category.NONSTANDARD_PHRASES',  # Use of phrases that are not standard or widely accepted.\n",
    "    'text_errors_by_category.PUNCTUATION',  # Incorrect or missing punctuation marks.\n",
    "    'text_errors_by_category.REDUNDANCY',  # Unnecessary repetition of words or information.\n",
    "    'text_errors_by_category.REPETITIONS_STYLE',  # Unintentional repetition of words or phrases that affect the style and flow of the text.\n",
    "    'text_errors_by_category.STYLE',  # Issues related to the overall writing style, including tone, clarity, and consistency.\n",
    "    'text_errors_by_category.TYPOGRAPHY',  # Errors related to the visual appearance of text, including font, size, spacing, and alignment.\n",
    "    'text_errors_by_category.WORD_ORDER',  # Incorrect or awkward arrangement of words in a sentence.\n",
    "    'text_errors_by_category.NUMBERS',  # Errors related to the use of numbers, such as formatting or incorrect numerical expressions.\n",
    "    'text_errors_by_category.PHONETICS'  # Errors related to the phonetic aspects of words, such as incorrect pronunciation guides.\n",
    "]\n",
    "\n",
    "grammar_mistakes = [\n",
    "    'text_errors_by_category.GRAMMAR',  # Mistakes related to the rules of grammar, such as subject-verb agreement, tense usage, and sentence structure.\n",
    "    'text_errors_by_category.SYNTAX'  # Errors in the arrangement of words and phrases to create well-formed sentences.\n",
    "]\n",
    "\n",
    "other_mistakes = [\n",
    "    'number_of_errors',  # A general count of errors, not specifying the type.\n",
    "    'text_errors_by_category.MISC',  # Miscellaneous errors that don't fit into other categories.\n",
    "    'text_errors_by_category.SEMANTICS'\n",
    "]\n",
    "\n"
   ],
   "id": "4e82841c1c5fa83b",
   "outputs": [],
   "execution_count": 24
  },
  {
   "metadata": {
    "ExecuteTime": {
     "end_time": "2024-11-28T18:53:59.277017Z",
     "start_time": "2024-11-28T18:53:59.273246Z"
    }
   },
   "cell_type": "code",
   "source": [
    "print(f\"Spelling related mistakes: {len(spelling_related_mistakes)}\")\n",
    "print(f\"Editing related mistakes: {len(editing_related_mistakes)}\")\n",
    "print(f\"Grammar mistakes: {len(grammar_mistakes)}\")\n",
    "print(f\"Other mistakes: {len(other_mistakes)}\")\n"
   ],
   "id": "afefdd692ba667fc",
   "outputs": [
    {
     "name": "stdout",
     "output_type": "stream",
     "text": [
      "Spelling related mistakes: 4\n",
      "Editing related mistakes: 17\n",
      "Grammar mistakes: 2\n",
      "Other mistakes: 3\n"
     ]
    }
   ],
   "execution_count": 25
  },
  {
   "metadata": {
    "ExecuteTime": {
     "end_time": "2024-11-28T19:09:07.792306Z",
     "start_time": "2024-11-28T19:06:36.708608Z"
    }
   },
   "cell_type": "code",
   "source": [
    "to_exclude = spelling_related_mistakes + other_mistakes\n",
    "f1_no_mistakes = {}\n",
    "for n in [1,2,4,6,8,10,14,20,30,100,244]:\n",
    "    data = convert_db_attributes_to_input_data(hard_generated, hard_real, n, exclude_additionally=all_error_features)\n",
    "    n = len(data[0][0])\n",
    "    f1_no_mistakes[n] = 0\n",
    "    for i in range(10):   \n",
    "        results = k_fold_cross_validation(CatBoostClassifier(iterations=100, learning_rate=0.1, depth=6, verbose=0), data, 10)\n",
    "        #print(f\"{n} {round(results['accuracy'], 4)} {round(results['roc_auc'], 4)}\")\n",
    "        # print(\"No mistakes\")\n",
    "        # print(\n",
    "        #     f\"{n} & {round(results['accuracy'], 4)} & {round(results['precision'], 4)} & {round(results['recall'], 4)} & {round(results['f1_score'], 4)} & {round(results['roc_auc'], 4)}\")\n",
    "        f1_no_mistakes[n] += results['f1_score']\n",
    "    f1_no_mistakes[n] = f1_no_mistakes[n]/10"
   ],
   "id": "10dd76d8e6964eb5",
   "outputs": [],
   "execution_count": 32
  },
  {
   "metadata": {
    "ExecuteTime": {
     "end_time": "2024-11-28T19:09:19.365169Z",
     "start_time": "2024-11-28T19:09:19.048055Z"
    }
   },
   "cell_type": "code",
   "source": [
    "# Extracting data from f1_data\n",
    "features = sorted(f1_data.keys())  # Sort features to ensure proper plotting\n",
    "f1_scores = [f1_data[feature] for feature in features]\n",
    "\n",
    "no_mistake_features = sorted(f1_no_mistakes.keys())  # Sort features to ensure proper plotting\n",
    "f1_no_mistake_scores = [f1_no_mistakes[feature] for feature in no_mistake_features]\n",
    "\n",
    "# Plotting\n",
    "fig, ax = plt.subplots()\n",
    "\n",
    "# Set logarithmic scale for x-axis\n",
    "ax.set_xscale('log')\n",
    "\n",
    "# Plot F1 scores\n",
    "ax.plot(features, f1_scores, marker='o', linestyle='--', color='red', label='F1 Score all fatures')\n",
    "ax.plot(no_mistake_features, f1_no_mistake_scores, marker='o', linestyle='--', color='blue', label='F1 Score no mistakes')\n",
    "\n",
    "# Set labels\n",
    "ax.set_xlabel('Number of features')\n",
    "ax.set_ylabel('F1 Score')\n",
    "ax.set_xlim([0.8, max(features) * 1.2])\n",
    "ax.set_ylim([min(f1_no_mistake_scores) * 0.99, max(f1_scores) * 1.01])\n",
    "\n",
    "# ax.set_facecolor('white')  # Replace 'lightgray' with your desired color\n",
    "# \n",
    "# # Set background color for the figure\n",
    "#fig.patch.set_facecolor('black')\n",
    "\n",
    "# Set ticks\n",
    "ax.set_xticks([1, 2, 4, 6, 10, 20, 30, 100, 220])  # Add ticks relevant to your data\n",
    "ax.get_xaxis().set_major_formatter(plt.ScalarFormatter())\n",
    "ax.grid(True, which='both', linestyle='--',color='gray', linewidth=0.5)\n",
    "\n",
    "# Legend\n",
    "ax.legend(loc='lower right')\n",
    "\n",
    "# Save and show plot\n",
    "#plt.savefig('f1_scores_plot_comparison.png')\n",
    "plt.show()"
   ],
   "id": "81c3d794c55a65fa",
   "outputs": [
    {
     "data": {
      "text/plain": [
       "<Figure size 640x480 with 1 Axes>"
      ],
      "image/png": "[encoded data removed]"
     },
     "metadata": {},
     "output_type": "display_data"
    }
   ],
   "execution_count": 33
  },
  {
   "metadata": {},
   "cell_type": "code",
   "outputs": [],
   "execution_count": null,
   "source": [
    "f1_no_spelling = {}\n",
    "for n in [1,2,4,6,8,10,14,20,30,100,244]:\n",
    "    data = convert_db_attributes_to_input_data(hard_generated, hard_real, n, exclude_additionally=to_exclude)\n",
    "    n = len(data[0][0])\n",
    "    results = k_fold_cross_validation(CatBoostClassifier(iterations=100, learning_rate=0.1, depth=6, verbose=0), data, 10)\n",
    "    #print(f\"{n} {round(results['accuracy'], 4)} {round(results['roc_auc'], 4)}\")\n",
    "    print(\"No spelling mistakes\")\n",
    "    print(\n",
    "        f\"{n} & {round(results['accuracy'], 4)} & {round(results['precision'], 4)} & {round(results['recall'], 4)} & {round(results['f1_score'], 4)} & {round(results['roc_auc'], 4)}\")\n",
    "    f1_no_spelling[n] = results['f1_score']\n",
    "to_exclude = editing_related_mistakes + other_mistakes\n",
    "for n in [1,2,4,6,8,10,14,20,30,100,244]:\n",
    "    data = convert_db_attributes_to_input_data(hard_generated, hard_real, n, exclude_additionally=to_exclude)\n",
    "    n = len(data[0][0])\n",
    "    results = k_fold_cross_validation(CatBoostClassifier(iterations=100, learning_rate=0.1, depth=6, verbose=0), data, 10)\n",
    "    #print(f\"{n} {round(results['accuracy'], 4)} {round(results['roc_auc'], 4)}\")\n",
    "    print(\"No editing mistakes\")\n",
    "    print(\n",
    "        f\"{n} & {round(results['accuracy'], 4)} & {round(results['precision'], 4)} & {round(results['recall'], 4)} & {round(results['f1_score'], 4)} & {round(results['roc_auc'], 4)}\")\n",
    "to_exclude = grammar_mistakes + other_mistakes\n",
    "for n in [1,2,4,6,8,10,14,20,30,100,244]:\n",
    "    data = convert_db_attributes_to_input_data(hard_generated, hard_real, n, exclude_additionally=to_exclude)\n",
    "    n = len(data[0][0])\n",
    "    results = k_fold_cross_validation(CatBoostClassifier(iterations=100, learning_rate=0.1, depth=6, verbose=0), data, 10)\n",
    "    #print(f\"{n} {round(results['accuracy'], 4)} {round(results['roc_auc'], 4)}\")\n",
    "    print(\"No grammar mistakes\")\n",
    "    print(\n",
    "        f\"{n} & {round(results['accuracy'], 4)} & {round(results['precision'], 4)} & {round(results['recall'], 4)} & {round(results['f1_score'], 4)} & {round(results['roc_auc'], 4)}\")"
   ],
   "id": "3dd207ac6b80919d"
  },
  {
   "metadata": {
    "ExecuteTime": {
     "end_time": "2024-06-04T16:54:44.275765Z",
     "start_time": "2024-06-04T16:54:44.272586Z"
    }
   },
   "cell_type": "code",
   "source": [
    "generated = pl_generated_personal\n",
    "real = pl_real_personal"
   ],
   "id": "a06fb7daf0ac5540",
   "outputs": [],
   "execution_count": 19
  },
  {
   "metadata": {
    "ExecuteTime": {
     "end_time": "2024-06-04T16:55:03.093899Z",
     "start_time": "2024-06-04T16:54:49.451311Z"
    }
   },
   "cell_type": "code",
   "source": [
    "to_exclude = spelling_related_mistakes + other_mistakes\n",
    "for n in [245]:\n",
    "    data = convert_db_attributes_to_input_data(generated, real, n, exclude_additionally=all_error_features)\n",
    "    n = len(data[0][0])\n",
    "    results = k_fold_cross_validation(RandomForestClassifier(), data, 10)\n",
    "    #print(f\"{n} {round(results['accuracy'], 4)} {round(results['roc_auc'], 4)}\")\n",
    "    print(\"No mistakes\")\n",
    "    print(\n",
    "        f\"{n} & {round(results['accuracy'], 4)} & {round(results['precision'], 4)} & {round(results['recall'], 4)} & {round(results['f1_score'], 4)} & {round(results['roc_auc'], 4)}\")\n",
    "for n in [245]:\n",
    "    data = convert_db_attributes_to_input_data(generated, real, n, exclude_additionally=to_exclude)\n",
    "    n = len(data[0][0])\n",
    "    results = k_fold_cross_validation(RandomForestClassifier(), data, 10)\n",
    "    #print(f\"{n} {round(results['accuracy'], 4)} {round(results['roc_auc'], 4)}\")\n",
    "    print(\"No spelling mistakes\")\n",
    "    print(\n",
    "        f\"{n} & {round(results['accuracy'], 4)} & {round(results['precision'], 4)} & {round(results['recall'], 4)} & {round(results['f1_score'], 4)} & {round(results['roc_auc'], 4)}\")\n",
    "to_exclude = editing_related_mistakes + other_mistakes\n",
    "for n in [245]:\n",
    "    data = convert_db_attributes_to_input_data(generated, real, n, exclude_additionally=to_exclude)\n",
    "    n = len(data[0][0])\n",
    "    results = k_fold_cross_validation(RandomForestClassifier(), data, 10)\n",
    "    #print(f\"{n} {round(results['accuracy'], 4)} {round(results['roc_auc'], 4)}\")\n",
    "    print(\"No editing mistakes\")\n",
    "    print(\n",
    "        f\"{n} & {round(results['accuracy'], 4)} & {round(results['precision'], 4)} & {round(results['recall'], 4)} & {round(results['f1_score'], 4)} & {round(results['roc_auc'], 4)}\")\n",
    "to_exclude = grammar_mistakes + other_mistakes\n",
    "for n in [245]:\n",
    "    data = convert_db_attributes_to_input_data(generated, real, n, exclude_additionally=to_exclude)\n",
    "    n = len(data[0][0])\n",
    "    results = k_fold_cross_validation(RandomForestClassifier(), data, 10)\n",
    "    #print(f\"{n} {round(results['accuracy'], 4)} {round(results['roc_auc'], 4)}\")\n",
    "    print(\"No grammar mistakes\")\n",
    "    print(\n",
    "        f\"{n} & {round(results['accuracy'], 4)} & {round(results['precision'], 4)} & {round(results['recall'], 4)} & {round(results['f1_score'], 4)} & {round(results['roc_auc'], 4)}\")"
   ],
   "id": "562a0fb186511fe1",
   "outputs": [
    {
     "name": "stdout",
     "output_type": "stream",
     "text": [
      "No mistakes\n",
      "194 & 0.9202 & 0.8935 & 0.9575 & 0.9235 & 0.9747\n",
      "No spelling mistakes\n",
      "213 & 0.9389 & 0.9278 & 0.956 & 0.9413 & 0.9857\n",
      "No editing mistakes\n",
      "200 & 0.9192 & 0.8942 & 0.9549 & 0.9227 & 0.9773\n",
      "No grammar mistakes\n",
      "215 & 0.941 & 0.9355 & 0.9524 & 0.9432 & 0.9876\n"
     ]
    }
   ],
   "execution_count": 20
  },
  {
   "metadata": {},
   "cell_type": "code",
   "outputs": [],
   "execution_count": null,
   "source": "",
   "id": "9d347983a5ccb324"
  }
 ],
 "metadata": {
  "kernelspec": {
   "display_name": "Python 3",
   "language": "python",
   "name": "python3"
  },
  "language_info": {
   "codemirror_mode": {
    "name": "ipython",
    "version": 2
   },
   "file_extension": ".py",
   "mimetype": "text/x-python",
   "name": "python",
   "nbconvert_exporter": "python",
   "pygments_lexer": "ipython2",
   "version": "2.7.6"
  }
 },
 "nbformat": 4,
 "nbformat_minor": 5
}
