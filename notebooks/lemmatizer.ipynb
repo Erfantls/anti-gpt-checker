{
 "cells": [
  {
   "cell_type": "code",
   "execution_count": 1,
   "metadata": {
    "collapsed": true,
    "ExecuteTime": {
     "end_time": "2024-03-27T00:12:06.111210300Z",
     "start_time": "2024-03-27T00:11:43.520856Z"
    }
   },
   "source": [
    "from analysis.nlp_transformations import lemmatize_text\n",
    "from models.email import EmailGeneratedInDB\n",
    "from dao.email import DAOEmailGenerated\n",
    "from typing import List\n",
    "from tqdm import tqdm"
   ],
   "outputs": []
  },
  {
   "cell_type": "code",
   "execution_count": 4,
   "source": [
    "from config import init_spacy_polish_nlp_model, init_spacy_english_nlp_model\n",
    "\n",
    "init_spacy_polish_nlp_model()\n",
    "init_spacy_english_nlp_model()"
   ],
   "metadata": {
    "collapsed": false,
    "ExecuteTime": {
     "end_time": "2024-03-27T00:13:43.910564300Z",
     "start_time": "2024-03-27T00:13:36.805639100Z"
    }
   },
   "outputs": []
  },
  {
   "cell_type": "code",
   "execution_count": 5,
   "source": [
    "dao = DAOEmailGenerated()\n",
    "emails: List[EmailGeneratedInDB] = dao.find_all()\n",
    "for email in  tqdm(emails, total=len(emails), desc=f'Lemmatizing generated emails', unit='email', miniters=1):\n",
    "    lem_text, lem_list = lemmatize_text(email.text_plain, email.language)\n",
    "    dao.update_one({\"_id\": email.id}, {\"$set\": {\"lemmatized_body\": lem_text}})\n"
   ],
   "metadata": {
    "collapsed": false,
    "ExecuteTime": {
     "end_time": "2024-03-27T01:05:49.787299600Z",
     "start_time": "2024-03-27T00:13:50.359303700Z"
    }
   },
   "outputs": []
  },
  {
   "cell_type": "code",
   "execution_count": null,
   "source": [],
   "metadata": {
    "collapsed": false
   },
   "outputs": []
  }
 ],
 "metadata": {
  "kernelspec": {
   "display_name": "Python 3",
   "language": "python",
   "name": "python3"
  },
  "language_info": {
   "codemirror_mode": {
    "name": "ipython",
    "version": 2
   },
   "file_extension": ".py",
   "mimetype": "text/x-python",
   "name": "python",
   "nbconvert_exporter": "python",
   "pygments_lexer": "ipython2",
   "version": "2.7.6"
  }
 },
 "nbformat": 4,
 "nbformat_minor": 0
}
