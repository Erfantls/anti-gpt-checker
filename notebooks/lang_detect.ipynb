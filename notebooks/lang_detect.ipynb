{
 "cells": [
  {
   "cell_type": "code",
   "execution_count": 4,
   "metadata": {
    "collapsed": true,
    "ExecuteTime": {
     "end_time": "2024-02-18T19:51:24.297315300Z",
     "start_time": "2024-02-18T19:51:24.282326100Z"
    }
   },
   "outputs": [],
   "source": [
    "from tqdm import tqdm\n",
    "from dao.email import DAOEmailGmail\n",
    "from analysis.attribute_retriving import detect_language_by_voting"
   ]
  },
  {
   "cell_type": "code",
   "execution_count": 7,
   "outputs": [
    {
     "name": "stdout",
     "output_type": "stream",
     "text": [
      "gmail1\n"
     ]
    },
    {
     "name": "stderr",
     "output_type": "stream",
     "text": [
      "Updating documents: 100%|██████████| 1764/1764 [00:01<00:00, 1352.72it/s]\n"
     ]
    },
    {
     "name": "stdout",
     "output_type": "stream",
     "text": [
      "gmail2\n"
     ]
    },
    {
     "name": "stderr",
     "output_type": "stream",
     "text": [
      "Updating documents: 0it [00:00, ?it/s]\n"
     ]
    },
    {
     "name": "stdout",
     "output_type": "stream",
     "text": [
      "gmail3\n"
     ]
    },
    {
     "name": "stderr",
     "output_type": "stream",
     "text": [
      "Updating documents: 0it [00:00, ?it/s]\n"
     ]
    }
   ],
   "source": [
    "daos_to_refactor = [DAOEmailGmail(\"gmail1\"), DAOEmailGmail(\"gmail2\"), DAOEmailGmail(\"gmail3\")]\n",
    "\n",
    "for dao in daos_to_refactor:\n",
    "    print(dao.collection_name)\n",
    "    query = {'from_address':\"newsletter@nexto.pl\"}\n",
    "    documents = dao.find_many_by_query(query)\n",
    "    total_documents = len(documents)\n",
    "    for doc in tqdm(documents, total=total_documents, desc='Updating documents'):\n",
    "        if doc.is_html:\n",
    "            if doc.text_plain:\n",
    "                text = doc.text_plain\n",
    "            else:\n",
    "                text = \"\"\n",
    "        else:\n",
    "            if doc.text_plain:\n",
    "                text = doc.text_plain\n",
    "            else:\n",
    "                text = doc.body\n",
    "        text = doc.subject + \" \" + text\n",
    "        detected_language = detect_language_by_voting(text)\n",
    "        dao.update_one({'_id': doc.id}, {'$set': {'detected_language': detected_language}})\n"
   ],
   "metadata": {
    "collapsed": false,
    "ExecuteTime": {
     "end_time": "2024-02-18T20:03:19.836001Z",
     "start_time": "2024-02-18T20:03:18.053790500Z"
    }
   }
  }
 ],
 "metadata": {
  "kernelspec": {
   "display_name": "Python 3",
   "language": "python",
   "name": "python3"
  },
  "language_info": {
   "codemirror_mode": {
    "name": "ipython",
    "version": 2
   },
   "file_extension": ".py",
   "mimetype": "text/x-python",
   "name": "python",
   "nbconvert_exporter": "python",
   "pygments_lexer": "ipython2",
   "version": "2.7.6"
  }
 },
 "nbformat": 4,
 "nbformat_minor": 0
}
