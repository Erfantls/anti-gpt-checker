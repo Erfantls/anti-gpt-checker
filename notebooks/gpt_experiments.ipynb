{
 "cells": [
  {
   "cell_type": "code",
   "execution_count": 22,
   "outputs": [
    {
     "name": "stdout",
     "output_type": "stream",
     "text": [
      "==SUMMARY==\n",
      "Paweł Gryka pyta o dokładną datę rozdania nagród.\n",
      "\n",
      "==TONE==\n",
      "Formal\n",
      "===FINISHED===\n"
     ]
    }
   ],
   "source": [
    "from services.email_generator import get_basic_info_for_generation\n",
    "\n",
    "email_text = \"Dzień dobry,\\n\\nCzy jest już znana dokladna data rozdania nagród?\\n\\nZ wyrazami szacunku,\\nPaweł Gryka\"\n",
    "\n",
    "info = get_basic_info_for_generation(email_text, \"pl\")\n"
   ],
   "metadata": {
    "collapsed": false,
    "ExecuteTime": {
     "end_time": "2024-03-04T21:49:23.220336500Z",
     "start_time": "2024-03-04T21:49:22.048087600Z"
    }
   }
  },
  {
   "cell_type": "code",
   "execution_count": 23,
   "outputs": [
    {
     "data": {
      "text/plain": "EmailInfoForGPT(summary='Paweł Gryka pyta o dokładną datę rozdania nagród.', length=12, tone='formal')"
     },
     "execution_count": 23,
     "metadata": {},
     "output_type": "execute_result"
    }
   ],
   "source": [
    "info"
   ],
   "metadata": {
    "collapsed": false,
    "ExecuteTime": {
     "end_time": "2024-03-04T21:49:23.865146300Z",
     "start_time": "2024-03-04T21:49:23.850068400Z"
    }
   }
  },
  {
   "cell_type": "code",
   "execution_count": 24,
   "outputs": [
    {
     "name": "stdout",
     "output_type": "stream",
     "text": [
      "Szanowny Panie Pawle Gryko,\n",
      "\n",
      "Dziękujemy za zainteresowanie. Rozdanie nagród odbędzie się 15 kwietnia.\n",
      "\n",
      "Z poważaniem,\n",
      "Karolina Nowak\n",
      "Koordynator Konkursu Engineer 4 Science 2023\n",
      "engineer4science2023@firma.com\n",
      "www.engineer4science2023.com\n",
      "555-123-456\n",
      "\n",
      "===FINISHED===\n"
     ]
    }
   ],
   "source": [
    "from services.email_generator import generate_email\n",
    "\n",
    "generated_email_text = generate_email(subject=\"Re: Kontakt laureata konkursu Engineer 4 Science 2023\", email_info_for_gpt=info, language_code=\"pl\")"
   ],
   "metadata": {
    "collapsed": false,
    "ExecuteTime": {
     "end_time": "2024-03-04T21:49:26.529349900Z",
     "start_time": "2024-03-04T21:49:24.550502900Z"
    }
   }
  },
  {
   "cell_type": "code",
   "execution_count": 4,
   "outputs": [
    {
     "name": "stdout",
     "output_type": "stream",
     "text": [
      "Hey team,\n",
      "\n",
      "Hope you're all doing well. Working from home has been a struggle without the CD ROM from Belden. Could you please arrange to have it sent to my home address at 123 Green Street? Let me know if you need any more details. \n",
      "\n",
      "Thanks a bunch!\n",
      "\n",
      "Best regards,\n",
      "Alex\n"
     ]
    }
   ],
   "source": [
    "print(generated_email_text)"
   ],
   "metadata": {
    "collapsed": false,
    "ExecuteTime": {
     "end_time": "2024-03-03T23:36:42.475189Z",
     "start_time": "2024-03-03T23:36:42.445420700Z"
    }
   }
  },
  {
   "cell_type": "code",
   "execution_count": 5,
   "outputs": [
    {
     "name": "stdout",
     "output_type": "stream",
     "text": [
      "Hey Richard,\n",
      "I got nailed on Friday and will be working out of my home. Belden has both copies of the CD ROM. I mentioned that you would be getting in touch with him to have him send it to you, assuming you are still with the company. Let me know what's up with you.\n",
      "\n",
      "EM\n"
     ]
    }
   ],
   "source": [
    "print(email_text)"
   ],
   "metadata": {
    "collapsed": false,
    "ExecuteTime": {
     "end_time": "2024-03-03T23:36:44.323955900Z",
     "start_time": "2024-03-03T23:36:44.297789400Z"
    }
   }
  },
  {
   "cell_type": "code",
   "execution_count": null,
   "outputs": [],
   "source": [],
   "metadata": {
    "collapsed": false
   }
  }
 ],
 "metadata": {
  "kernelspec": {
   "display_name": "Python 3",
   "language": "python",
   "name": "python3"
  },
  "language_info": {
   "codemirror_mode": {
    "name": "ipython",
    "version": 2
   },
   "file_extension": ".py",
   "mimetype": "text/x-python",
   "name": "python",
   "nbconvert_exporter": "python",
   "pygments_lexer": "ipython2",
   "version": "2.7.6"
  }
 },
 "nbformat": 4,
 "nbformat_minor": 0
}
