{
 "cells": [
  {
   "cell_type": "code",
   "source": [
    "from services.email_generator import get_basic_info_for_generation\n",
    "from dao.email import DAOEmailGmail\n",
    "\n",
    "dao = DAOEmailGmail(\"gmail1\")\n",
    "\n",
    "email = dao.find_by_id(\"65a36a7075da609ba709d072\")\n"
   ],
   "metadata": {
    "collapsed": false,
    "ExecuteTime": {
     "end_time": "2024-05-22T15:44:53.935240Z",
     "start_time": "2024-05-22T15:44:27.229505Z"
    }
   },
   "outputs": [
    {
     "name": "stderr",
     "output_type": "stream",
     "text": [
      "[nltk_data] Downloading package stopwords to /home/pawel/nltk_data...\n",
      "[nltk_data]   Package stopwords is already up-to-date!\n",
      "[nltk_data] Downloading package punkt to /home/pawel/nltk_data...\n",
      "[nltk_data]   Package punkt is already up-to-date!\n",
      "[nltk_data] Downloading package pl196x to /home/pawel/nltk_data...\n",
      "[nltk_data]   Package pl196x is already up-to-date!\n",
      "[nltk_data] Downloading package wordnet to /home/pawel/nltk_data...\n",
      "[nltk_data]   Package wordnet is already up-to-date!\n"
     ]
    }
   ],
   "execution_count": 1
  },
  {
   "metadata": {
    "ExecuteTime": {
     "end_time": "2024-05-22T15:44:56.615554Z",
     "start_time": "2024-05-22T15:44:56.609900Z"
    }
   },
   "cell_type": "code",
   "source": "email.text_plain",
   "outputs": [
    {
     "data": {
      "text/plain": [
       "\"Dear Evžen,\\n\\nThank you for your offer, I am providing required information below:\\n\\n- My address: Karola Bohdanowicza 21 m. 25, 02-127 Warsaw, Poland\\n- My date of birth: 31.10.2000\\n- Name of the skipper: Paweł Gryka (it's me)\\n\\nRegarding the deposit insurance, I believe that we should already have the\\nall-inclusive package in the chosen plan. I am referring to the offer\\ndescribed at (https://www.yachting.com/en-gb/boat-rental/insurance) which\\nwas advertised as a part of a time limited offer for this boat. We were\\nreally counting on taking advantage of this offer, please clarify what is\\nrequired to get this free offer.\\n\\nFurthermore, we have noticed that the price dropped on the webpage from\\n€3290 to €3096 (see .pdf attachment), I sincerely hope that we can get this\\nprice.\\n\\nOn the other hand we would like to order some extras, namely, Paddleboard\\nand an Outboard engine - please advise how we can book them and when and\\nhow we will be required to pay for them.\\n\\nOne more thing we would like to clarify, the original price list included\\nsomething like this:\\n[image: obraz.png]\\nPlease explain if this is replaced by the following items in your offer:\\n[image: obraz.png]\\n\\nAdditionally, I would like to know what forms of payment do you accept and\\nwhat would be the timeline for them.\\n\\nKind regards,\\nPaweł Gryka\\ntel: +48 505898944\\n\\npon., 1 maj 2023 o 09:35 Evžen Kurandin <evzen.kurandin@yachting.com>\\nnapisał(a):\\n\\n>\\n>\\n> Dear, Paweł,\\n>\\n>\\n>\\n> Thank you for your interest in the boat Stribog. I am sending you a\\n> specific offer based on your inquiry.\\n>\\n> If you have any questions, or if you would like suggestions for more boats\\n> - even with different specifications - please do not hesitate to contact\\n> me. We will do our best to help you find and select the best boat for your\\n> cruise.\\n>\\n> The Premium package includes Basic deposit insurance, but you can also\\n> take out Extra insurance at a better price. For more information, click\\n> here <https://www.yachting.com/en-gb/boat-rental/insurance>. We also\\n> recommend arranging cancellation insurance.\\n>\\n> To take out Basic deposit Insurance, please provide the following details.\\n>\\n>\\n>\\n>    - Your address\\n>    - Your date of birth\\n>    - Name of the skipper\\n>\\n>\\n>\\n> We always take out deposit insurance in the name of the person to whom the\\n> contract is written. If you are interested in Extra insurance, please let\\n> me know.\\n>\\n> I look forward to hearing from you and have a great day,\\n>\\n>\\n>\\n> Evžen Kurandin\\n>\\n> Booking Sailor\\n>\\n>\\n>\\n> yachting.com, s.r.o.\\n>\\n> Visionary, Plynární 1617/10, 170 00 Praha 7\\n>\\n> tel: +420 779 998 122\\n>\\n> email: evzen.kurandin@yachting.com\\n>\\n> web: www.yachting.com\\n>\\n>\\n>\""
      ]
     },
     "execution_count": 2,
     "metadata": {},
     "output_type": "execute_result"
    }
   ],
   "execution_count": 2
  },
  {
   "metadata": {
    "ExecuteTime": {
     "end_time": "2024-05-22T16:57:17.856538Z",
     "start_time": "2024-05-22T16:57:16.135436Z"
    }
   },
   "cell_type": "code",
   "source": [
    "email_text = \"Dzień dobry,\\n\\nCzy jest już znana dokladna data rozdania nagród?\\n\\nZ wyrazami szacunku,\\nPaweł Gryka\"\n",
    "\n",
    "info = get_basic_info_for_generation(email.text_plain, \"en\")\n"
   ],
   "outputs": [],
   "execution_count": 11
  },
  {
   "metadata": {
    "ExecuteTime": {
     "end_time": "2024-05-22T17:00:55.607820Z",
     "start_time": "2024-05-22T17:00:55.603831Z"
    }
   },
   "cell_type": "code",
   "source": "len(email.text_plain.split(\" \"))",
   "outputs": [
    {
     "data": {
      "text/plain": [
       "400"
      ]
     },
     "execution_count": 13,
     "metadata": {},
     "output_type": "execute_result"
    }
   ],
   "execution_count": 13
  },
  {
   "cell_type": "code",
   "source": [
    "info"
   ],
   "metadata": {
    "collapsed": false,
    "ExecuteTime": {
     "end_time": "2024-05-22T16:57:17.862379Z",
     "start_time": "2024-05-22T16:57:17.858187Z"
    }
   },
   "outputs": [
    {
     "data": {
      "text/plain": [
       "EmailInfoForGPT(summary='The email is a reply from Evžen regarding the boat rental inquiry made by Paweł, with detailed information about deposit insurance, price adjustments, extras, and payment methods.', length=400, tone='formal')"
      ]
     },
     "execution_count": 12,
     "metadata": {},
     "output_type": "execute_result"
    }
   ],
   "execution_count": 12
  },
  {
   "cell_type": "code",
   "execution_count": 24,
   "outputs": [
    {
     "name": "stdout",
     "output_type": "stream",
     "text": [
      "Szanowny Panie Pawle Gryko,\n",
      "\n",
      "Dziękujemy za zainteresowanie. Rozdanie nagród odbędzie się 15 kwietnia.\n",
      "\n",
      "Z poważaniem,\n",
      "Karolina Nowak\n",
      "Koordynator Konkursu Engineer 4 Science 2023\n",
      "engineer4science2023@firma.com\n",
      "www.engineer4science2023.com\n",
      "555-123-456\n",
      "\n",
      "===FINISHED===\n"
     ]
    }
   ],
   "source": [
    "from services.email_generator import generate_email\n",
    "\n",
    "generated_email_text = generate_email(subject=\"Re: Kontakt laureata konkursu Engineer 4 Science 2023\", email_info_for_gpt=info, language_code=\"pl\")"
   ],
   "metadata": {
    "collapsed": false,
    "ExecuteTime": {
     "end_time": "2024-03-04T21:49:26.529349900Z",
     "start_time": "2024-03-04T21:49:24.550502900Z"
    }
   }
  },
  {
   "cell_type": "code",
   "execution_count": 4,
   "outputs": [
    {
     "name": "stdout",
     "output_type": "stream",
     "text": [
      "Hey team,\n",
      "\n",
      "Hope you're all doing well. Working from home has been a struggle without the CD ROM from Belden. Could you please arrange to have it sent to my home address at 123 Green Street? Let me know if you need any more details. \n",
      "\n",
      "Thanks a bunch!\n",
      "\n",
      "Best regards,\n",
      "Alex\n"
     ]
    }
   ],
   "source": [
    "print(generated_email_text)"
   ],
   "metadata": {
    "collapsed": false,
    "ExecuteTime": {
     "end_time": "2024-03-03T23:36:42.475189Z",
     "start_time": "2024-03-03T23:36:42.445420700Z"
    }
   }
  },
  {
   "cell_type": "code",
   "execution_count": 5,
   "outputs": [
    {
     "name": "stdout",
     "output_type": "stream",
     "text": [
      "Hey Richard,\n",
      "I got nailed on Friday and will be working out of my home. Belden has both copies of the CD ROM. I mentioned that you would be getting in touch with him to have him send it to you, assuming you are still with the company. Let me know what's up with you.\n",
      "\n",
      "EM\n"
     ]
    }
   ],
   "source": [
    "print(email_text)"
   ],
   "metadata": {
    "collapsed": false,
    "ExecuteTime": {
     "end_time": "2024-03-03T23:36:44.323955900Z",
     "start_time": "2024-03-03T23:36:44.297789400Z"
    }
   }
  },
  {
   "cell_type": "code",
   "execution_count": null,
   "outputs": [],
   "source": [],
   "metadata": {
    "collapsed": false
   }
  }
 ],
 "metadata": {
  "kernelspec": {
   "display_name": "Python 3",
   "language": "python",
   "name": "python3"
  },
  "language_info": {
   "codemirror_mode": {
    "name": "ipython",
    "version": 2
   },
   "file_extension": ".py",
   "mimetype": "text/x-python",
   "name": "python",
   "nbconvert_exporter": "python",
   "pygments_lexer": "ipython2",
   "version": "2.7.6"
  }
 },
 "nbformat": 4,
 "nbformat_minor": 0
}
