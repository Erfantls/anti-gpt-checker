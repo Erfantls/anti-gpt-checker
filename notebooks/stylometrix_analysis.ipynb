{
 "cells": [
  {
   "cell_type": "code",
   "id": "initial_id",
   "metadata": {
    "collapsed": true,
    "ExecuteTime": {
     "end_time": "2024-04-15T22:55:06.368012Z",
     "start_time": "2024-04-15T22:55:02.371299Z"
    }
   },
   "source": [
    "from tqdm import tqdm\n",
    "from analysis.nlp_transformations import separate_previous_conversation, remove_footers\n",
    "from analysis.attribute_retriving import stylo_metrix_analysis\n",
    "from typing import List\n",
    "from dao.email import DAOEmailGenerated, DAORealEmail\n",
    "\n",
    "from dao.attribute import DAOAttribute\n",
    "from analysis.nlp_transformations import replace_links_with_text"
   ],
   "outputs": [
    {
     "name": "stderr",
     "output_type": "stream",
     "text": [
      "[nltk_data] Downloading package stopwords to /home/pawel/nltk_data...\n",
      "[nltk_data]   Package stopwords is already up-to-date!\n",
      "[nltk_data] Downloading package punkt to /home/pawel/nltk_data...\n",
      "[nltk_data]   Package punkt is already up-to-date!\n",
      "[nltk_data] Downloading package pl196x to /home/pawel/nltk_data...\n",
      "[nltk_data]   Package pl196x is already up-to-date!\n",
      "[nltk_data] Downloading package wordnet to /home/pawel/nltk_data...\n",
      "[nltk_data]   Package wordnet is already up-to-date!\n"
     ]
    }
   ],
   "execution_count": 1
  },
  {
   "cell_type": "code",
   "source": [
    "text = \"Oto kilkanaście zdań w języku polskim, które zawierają różnorodne formy interpunkcyjne i struktury zdaniowe. Jak się dzisiaj czujesz? Dlaczego niebo jest niebieskie? Czy wiesz, że Ks. Jan Twardowski był znanym polskim poetą? Uwaga! Proszę nie biec po korytarzu. Gdzie jest najbliższa apteka? Ile to kosztuje? To niesamowite, że możemy rozmawiać online! Co sądzisz o najnowszych odkryciach w kosmosie? Pamiętaj, że drzwi otwierają się o godz. 8:00 rano! Czy możesz mi podać sól? Kto zostanie nowym prezydentem Stanów Zjednoczonych? Wow! To było naprawdę ekscytujące. Jak możemy efektywniej oszczędzać energię? Czy znasz jakieś dobre przepisy na ciasto? Dr M. Nowak będzie dziś wygłaszać wykład na uniwersytecie. Czy myślisz, że sztuczna inteligencja może przewyższyć ludzką kreatywność?\"\n",
    "stylo_metrix_analysis([text], \"pl\")"
   ],
   "metadata": {
    "collapsed": false,
    "ExecuteTime": {
     "end_time": "2024-04-15T22:55:33.773109Z",
     "start_time": "2024-04-15T22:55:27.851435Z"
    }
   },
   "id": "8460240c74c28ca2",
   "outputs": [
    {
     "name": "stderr",
     "output_type": "stream",
     "text": [
      "/home/pawel/.virtualenvs/anti-gpt-checker/lib/python3.10/site-packages/spacy/util.py:910: UserWarning: [W095] Model 'pl_nask' (0.0.7) was trained with spaCy v3.5.0 and may not be 100% compatible with the current version (3.7.2). If you see errors or degraded performance, download a newer compatible model or retrain your custom model with the current spaCy version. For more details and available updates, run: python -m spacy validate\n",
      "  warnings.warn(warn_msg)\n",
      "100%|██████████| 1/1 [00:00<00:00,  2.78it/s]\n"
     ]
    },
    {
     "data": {
      "text/plain": [
       "[AllStyloMetrixFeaturesPL(text='Oto kilkanaście zdań w języku polskim, które zawierają różnorodne formy interpunkcyjne i struktury zdaniowe. Jak się dzisiaj czujesz? Dlaczego niebo jest niebieskie? Czy wiesz, że Ks. Jan Twardowski był znanym polskim poetą? Uwaga! Proszę nie biec po korytarzu. Gdzie jest najbliższa apteka? Ile to kosztuje? To niesamowite, że możemy rozmawiać online! Co sądzisz o najnowszych odkryciach w kosmosie? Pamiętaj, że drzwi otwierają się o godz. 8:00 rano! Czy możesz mi podać sól? Kto zostanie nowym prezydentem Stanów Zjednoczonych? Wow! To było naprawdę ekscytujące. Jak możemy efektywniej oszczędzać energię? Czy znasz jakieś dobre przepisy na ciasto? Dr M. Nowak będzie dziś wygłaszać wykład na uniwersytecie. Czy myślisz, że sztuczna inteligencja może przewyższyć ludzką kreatywność?', grammatical_forms=GrammaticalFormsPL(G_N=0.17857142857142858, G_V=0.18571428571428572, G_ADJ=0.12142857142857143, G_ADV=0.06428571428571428, G_PRO=0.11428571428571428, G_PRO_PRS=0.007142857142857143, G_PRO_REL=0.007142857142857143, G_PRO_DEM=0.02142857142857143, G_PRO_INT=0.05, G_PRO_IND=0.014285714285714285, G_PRO_TOT=0.0, G_PRO_NEG=0.0, G_PRO_POS=0.0, G_NUM=0.007142857142857143, G_CNUM=0.0, G_PART=0.04285714285714286, G_ADP=0.05, G_INTJ=0.007142857142857143, G_SYM=0.0, G_ABBR=0.02857142857142857, G_CONJ=0.03571428571428571, G_CCONJ=0.007142857142857143, G_SCONJ=0.02857142857142857, G_OTHER=0.0), inflection=InflectionPL(IN_ADJ_POS=0.10714285714285714, IN_ADJ_COM=0.0, IN_ADJ_SUP=0.014285714285714285, IN_ADV_POS=0.02142857142857143, IN_ADV_COM=0.007142857142857143, IN_ADV_SUP=0.0, IN_N_1NOM=0.05714285714285714, IN_N_2GEN=0.014285714285714285, IN_N_3DAT=0.0, IN_N_4ACC=0.05714285714285714, IN_N_5INS=0.014285714285714285, IN_N_6LOC=0.03571428571428571, IN_N_7VOC=0.0, IN_N_SG=0.12857142857142856, IN_N_PL=0.03571428571428571, IN_N_MS=0.07142857142857142, IN_N_MP=0.0, IN_N_FS=0.04285714285714286, IN_N_NMP=0.03571428571428571, IN_N_NS=0.014285714285714285, IN_PRO_1NOM=0.04285714285714286, IN_PRO_2GEN=0.0, IN_PRO_3DAT=0.007142857142857143, IN_PRO_4ACC=0.02142857142857143, IN_PRO_5INS=0.0, IN_PRO_6LOC=0.0, IN_PRO_7VOC=0.0, IN_PRO_1S=0.007142857142857143, IN_PRO_2S=0.0, IN_PRO_3S=0.0, IN_PRO_1P=0.0, IN_PRO_2P=0.0, IN_PRO_3P=0.0, IN_V_1S=0.007142857142857143, IN_V_2S=0.05, IN_V_3S=0.05714285714285714, IN_V_1P=0.014285714285714285, IN_V_2P=0.0, IN_V_3P=0.014285714285714285, IN_V_FIN=0.14285714285714285, IN_V_INF=0.04285714285714286, IN_V_QUASI=0.007142857142857143, IN_V_IMPERS=0.0, IN_V_IMPERS_PERF=0.0, IN_V_IMPERS_IMPERF=0.0, IN_V_MOD=0.02857142857142857, IN_V_PACT=0.0, IN_V_PPAS=0.0, IN_V_PPAS_PERF=0.0, IN_V_PPAS_IMPERF=0.0, IN_V_PCON=0.0, IN_V_PANT=0.0, IN_V_PERF=0.02142857142857143, IN_V_IMPERF=0.1357142857142857, IN_V_ACT=0.1357142857142857, IN_V_PASS=0.0, IN_V_GER=0.0, IN_V_PRES=0.11428571428571428, IN_V_PAST=0.014285714285714285, IN_V_FUTS=0.007142857142857143, IN_V_FUTC=0.014285714285714285, IN_V_FUT=0.02142857142857143, IN_V_IMP=0.007142857142857143, IN_V_COND=0.0), syntactic=SyntacticPL(SY_FMWE=0.04285714285714286, SY_APPM=0.02857142857142857, SY_S_DE=0.45, SY_S_EX=0.17142857142857143, SY_S_IN=0.5571428571428572, SY_S_NEG=0.04285714285714286, SY_S_ELL=0.0, SY_S_VOC=0.0, SY_S_NOM=0.02857142857142857, SY_S_INF=0.0, SY_NPRED=0.04285714285714286, SY_MOD=0.14285714285714285, SY_NPHR=0.21428571428571427, SY_INV_OBJ=0.05, SY_INV_EPI=0.02142857142857143, SY_INIT=0.1357142857142857, SY_QUOT=0.0, SY_SIMILE_ADJ=0.0), punctuation=PunctuationPL(PUNCT_TOTAL=0.19285714285714287, PUNCT_BI_NOUN=0.0, PUNCT_BI_VERB=0.04285714285714286), lexical=LexicalPL(L_NAME=0.02857142857142857, L_NAME_M=0.02142857142857143, L_NAME_F=0.0, L_NAME_ENT=0.09285714285714286, L_PLACEN_GEOG=0.007142857142857143, L_PERSN=0.03571428571428571, L_PERSN_M=0.02142857142857143, L_PERSN_F=0.0, L_ORGN=0.0, L_ETHN=0.007142857142857143, L_GEOG_ADJ=0.02142857142857143, L_DATE=0.0, L_VULG=0.0, L_INTENSIF=0.0, L_ERROR=0.0, L_ADVPHR=0.0, L_ADV_TEMP=0.02142857142857143, L_ADV_DUR=0.0, L_ADV_FREQ=0.0, L_SYL_G1=0.32857142857142857, L_SYL_G2=0.21428571428571427, L_SYL_G3=0.17857142857142858, L_SYL_G4=0.07857142857142857, L_TTR_IA=0.6928571428571428, L_TTR_LA=0.65, L_CONT_A=0.6285714285714286, L_CONT_T=0.5928571428571429, L_CONT_L=0.5428571428571428, L_FUNC_A=0.17857142857142858, L_FUNC_T=0.10714285714285714, L_FUNC_L=0.10714285714285714, L_STOP=0.29285714285714287, L_TCCT1=0.03571428571428571, L_TCCT5=0.14285714285714285), psycholinguistics=PsycholinguisticsPL(PS_M_POSa=0.05, PS_M_POSb=0.02857142857142857, PS_M_NEGa=0.007142857142857143, PS_M_NEGb=0.07142857142857142, PS_M_REFa=0.05714285714285714, PS_M_REFb=0.02142857142857143, PS_M_AUTa=0.03571428571428571, PS_M_AUTb=0.04285714285714286, PS_M_AROa=0.03571428571428571, PS_M_AROb=0.04285714285714286, PS_M_SIGa=0.04285714285714286, PS_M_SIGb=0.03571428571428571), descriptive=DescriptivePL(DESC_ADJ_CP=0.0, DESC_ADJ=0.014285714285714285, DESC_ADV=0.0, DESC_APOS_NPHR=0.0, DESC_APOS_VERB=0.0, DESC_APOS_ADJ=0.0, DESC_ADV_ADJ=0.0, DESC_ADV_ADV=0.0, DESC_PRON_VOC=0.0, DESC_PRON_ADJ_VOC=0.0), graphical=GraphicalPL(GR_UPPER=0.007142857142857143, GR_EMOJI=0.0, GR_EMOT=0.0, GR_LENNY=0.0, GR_MENTION=0.0, GR_HASH=0.0, GR_LINK=0.0))]"
      ]
     },
     "execution_count": 3,
     "metadata": {},
     "output_type": "execute_result"
    }
   ],
   "execution_count": 3
  },
  {
   "cell_type": "code",
   "source": [],
   "metadata": {
    "collapsed": false,
    "ExecuteTime": {
     "end_time": "2024-04-15T22:48:41.191604Z",
     "start_time": "2024-04-15T22:48:41.189297Z"
    }
   },
   "id": "2daa9d3931808a2b",
   "outputs": [],
   "execution_count": null
  },
  {
   "metadata": {},
   "cell_type": "code",
   "outputs": [],
   "execution_count": null,
   "source": "",
   "id": "c0258e94312dd4d3"
  }
 ],
 "metadata": {
  "kernelspec": {
   "display_name": "Python 3",
   "language": "python",
   "name": "python3"
  },
  "language_info": {
   "codemirror_mode": {
    "name": "ipython",
    "version": 2
   },
   "file_extension": ".py",
   "mimetype": "text/x-python",
   "name": "python",
   "nbconvert_exporter": "python",
   "pygments_lexer": "ipython2",
   "version": "2.7.6"
  }
 },
 "nbformat": 4,
 "nbformat_minor": 5
}
