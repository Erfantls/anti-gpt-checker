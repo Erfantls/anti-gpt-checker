{
 "cells": [
  {
   "cell_type": "code",
   "id": "initial_id",
   "metadata": {
    "collapsed": true,
    "ExecuteTime": {
     "end_time": "2024-11-18T02:35:19.830954Z",
     "start_time": "2024-11-18T02:34:45.080399Z"
    }
   },
   "source": [
    "from config import init_polish_perplexity_model, init_spacy_polish_nlp_model, init_language_tool_pl\n",
    "\n",
    "from typing import List\n",
    "from tqdm import tqdm\n",
    "\n",
    "from dao.lab_report import DAOLabReport\n",
    "from dao.attribute import DAOAttributePL\n",
    "\n",
    "from models.lab_report import LabReportInDB\n",
    "from models.attribute import AttributePL, AttributePLInDB\n",
    "\n",
    "from analysis.attribute_retriving import perform_full_analysis\n",
    "from analysis.nlp_transformations import remove_report_tags, replace_whitespaces, replace_links_with_text, replace_meaningful_report_tags\n",
    "from services.utils import suppress_stdout"
   ],
   "outputs": [
    {
     "name": "stderr",
     "output_type": "stream",
     "text": [
      "[nltk_data] Downloading package stopwords to /home/pawel/nltk_data...\n",
      "[nltk_data]   Package stopwords is already up-to-date!\n",
      "[nltk_data] Downloading package punkt to /home/pawel/nltk_data...\n",
      "[nltk_data]   Package punkt is already up-to-date!\n",
      "[nltk_data] Downloading package pl196x to /home/pawel/nltk_data...\n",
      "[nltk_data]   Package pl196x is already up-to-date!\n",
      "[nltk_data] Downloading package wordnet to /home/pawel/nltk_data...\n",
      "[nltk_data]   Package wordnet is already up-to-date!\n"
     ]
    }
   ],
   "execution_count": 1
  },
  {
   "metadata": {},
   "cell_type": "markdown",
   "source": "# Init models",
   "id": "aa11ea5bb643bbae"
  },
  {
   "metadata": {
    "ExecuteTime": {
     "end_time": "2024-11-01T13:06:33.709370Z",
     "start_time": "2024-11-01T13:06:33.706120Z"
    }
   },
   "cell_type": "code",
   "source": "#init_polish_perplexity_model()",
   "id": "376c7dcbe111c83",
   "outputs": [],
   "execution_count": 2
  },
  {
   "metadata": {
    "ExecuteTime": {
     "end_time": "2024-11-18T02:35:23.779935Z",
     "start_time": "2024-11-18T02:35:19.832926Z"
    }
   },
   "cell_type": "code",
   "source": "init_spacy_polish_nlp_model()",
   "id": "45e6fbff70719421",
   "outputs": [],
   "execution_count": 2
  },
  {
   "metadata": {
    "ExecuteTime": {
     "end_time": "2024-11-18T02:35:36.290852Z",
     "start_time": "2024-11-18T02:35:26.180711Z"
    }
   },
   "cell_type": "code",
   "source": "init_language_tool_pl()",
   "id": "5f0f12425194cd7e",
   "outputs": [],
   "execution_count": 3
  },
  {
   "metadata": {},
   "cell_type": "markdown",
   "source": "# Load data",
   "id": "6b8ba79ead8e4fd3"
  },
  {
   "metadata": {
    "ExecuteTime": {
     "end_time": "2024-11-18T02:35:40.796033Z",
     "start_time": "2024-11-18T02:35:40.792619Z"
    }
   },
   "cell_type": "code",
   "source": [
    "dao_lab_reports = DAOLabReport()\n",
    "dao_attributes = DAOAttributePL()"
   ],
   "id": "7df73c3cca1f8966",
   "outputs": [],
   "execution_count": 4
  },
  {
   "metadata": {
    "ExecuteTime": {
     "end_time": "2024-11-18T02:35:41.838704Z",
     "start_time": "2024-11-18T02:35:41.776161Z"
    }
   },
   "cell_type": "code",
   "source": [
    "real_lab_reports: List[LabReportInDB] = dao_lab_reports.find_many_by_query({'is_generated': False})\n",
    "generated_lab_reports: List[LabReportInDB] = dao_lab_reports.find_many_by_query({'is_generated': True})"
   ],
   "id": "7df9cf0daf21b874",
   "outputs": [],
   "execution_count": 5
  },
  {
   "metadata": {
    "ExecuteTime": {
     "end_time": "2024-11-18T02:35:43.466782Z",
     "start_time": "2024-11-18T02:35:42.983581Z"
    }
   },
   "cell_type": "code",
   "source": [
    "alreadyprocessed_lab_reports = dao_attributes.find_many_by_query({})\n",
    "alreadyprocessed_lab_reports_ids = [report.referenced_doc_id for report in alreadyprocessed_lab_reports]\n",
    "\n",
    "real_lab_reports = [report for report in real_lab_reports if report.id not in alreadyprocessed_lab_reports_ids]\n",
    "generated_lab_reports = [report for report in generated_lab_reports if report.id not in alreadyprocessed_lab_reports_ids]"
   ],
   "id": "1e82da9eb0334654",
   "outputs": [],
   "execution_count": 6
  },
  {
   "metadata": {},
   "cell_type": "markdown",
   "source": "# Imports",
   "id": "c3d1b6daf37cfb98"
  },
  {
   "metadata": {
    "ExecuteTime": {
     "end_time": "2024-11-18T03:03:28.659748Z",
     "start_time": "2024-11-18T02:35:45.168021Z"
    }
   },
   "cell_type": "code",
   "source": [
    "for real_lab_report in tqdm(real_lab_reports, total=len(real_lab_reports), desc=f'Calculating real lab reports statistics', unit='Lab reports', miniters=1):\n",
    "    text_to_analyse = replace_meaningful_report_tags(real_lab_report.plaintext_content)\n",
    "    text_to_analyse = remove_report_tags(text_to_analyse)\n",
    "    text_to_analyse = replace_whitespaces(text_to_analyse)\n",
    "    text_to_analyse = replace_links_with_text(text_to_analyse, replacement=\"\")\n",
    "    with suppress_stdout():\n",
    "        analysis_result = perform_full_analysis(text_to_analyse, 'pl')\n",
    "    attribute_to_insert = AttributePL(\n",
    "        referenced_db_name='lab_reports',\n",
    "        referenced_doc_id=real_lab_report.id,\n",
    "        language=\"pl\",\n",
    "        is_generated=False,\n",
    "        is_personal=None,\n",
    "        **analysis_result.dict()\n",
    "    )\n",
    "    dao_attributes.insert_one(attribute_to_insert)\n",
    "    \n",
    "for generated_lab_report in tqdm(generated_lab_reports, total=len(generated_lab_reports), desc=f'Calculating generated lab reports statistics', unit='Lab reports', miniters=1):\n",
    "    text_to_analyse = replace_meaningful_report_tags(generated_lab_report.plaintext_content)\n",
    "    text_to_analyse = remove_report_tags(text_to_analyse)\n",
    "    text_to_analyse = replace_whitespaces(text_to_analyse)\n",
    "    text_to_analyse = replace_links_with_text(text_to_analyse, replacement=\"\")\n",
    "    with suppress_stdout():\n",
    "        analysis_result = perform_full_analysis(text_to_analyse, 'pl')\n",
    "    attribute_to_insert = AttributePL(\n",
    "        referenced_db_name='lab_reports',\n",
    "        referenced_doc_id=generated_lab_report.id,\n",
    "        language=\"pl\",\n",
    "        is_generated=True,\n",
    "        is_personal=None,\n",
    "        **analysis_result.dict()\n",
    "    )\n",
    "    dao_attributes.insert_one(attribute_to_insert)"
   ],
   "id": "f3eb3efa9366b4cd",
   "outputs": [
    {
     "name": "stderr",
     "output_type": "stream",
     "text": [
      "Calculating real lab reports statistics: 0Lab reports [00:00, ?Lab reports/s]\n",
      "Calculating generated lab reports statistics: 100%|██████████| 64/64 [27:43<00:00, 25.99s/Lab reports]\n"
     ]
    }
   ],
   "execution_count": 7
  },
  {
   "metadata": {},
   "cell_type": "code",
   "outputs": [],
   "execution_count": null,
   "source": "",
   "id": "a6eee721478ff880"
  }
 ],
 "metadata": {
  "kernelspec": {
   "display_name": "Python 3",
   "language": "python",
   "name": "python3"
  },
  "language_info": {
   "codemirror_mode": {
    "name": "ipython",
    "version": 2
   },
   "file_extension": ".py",
   "mimetype": "text/x-python",
   "name": "python",
   "nbconvert_exporter": "python",
   "pygments_lexer": "ipython2",
   "version": "2.7.6"
  }
 },
 "nbformat": 4,
 "nbformat_minor": 5
}
