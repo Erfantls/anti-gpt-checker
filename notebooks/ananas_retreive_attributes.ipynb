{
 "cells": [
  {
   "cell_type": "code",
   "id": "initial_id",
   "metadata": {
    "collapsed": true,
    "ExecuteTime": {
     "end_time": "2024-10-31T16:43:30.835191Z",
     "start_time": "2024-10-31T16:43:26.082335Z"
    }
   },
   "source": [
    "from config import init_polish_perplexity_model, init_spacy_polish_nlp_model, init_language_tool_pl\n",
    "\n",
    "from typing import List\n",
    "from tqdm import tqdm\n",
    "\n",
    "from dao.lab_report import DAOLabReport\n",
    "from dao.attribute import DAOAttributePL\n",
    "\n",
    "from models.lab_report import LabReportInDB\n",
    "from models.attribute import AttributePL, AttributePLInDB\n",
    "\n",
    "from analysis.attribute_retriving import perform_full_analysis\n",
    "from analysis.nlp_transformations import remove_report_tags, replace_whitespaces, replace_links_with_text\n",
    "from services.utils import suppress_stdout"
   ],
   "outputs": [
    {
     "name": "stderr",
     "output_type": "stream",
     "text": [
      "[nltk_data] Downloading package stopwords to /home/pawel/nltk_data...\n",
      "[nltk_data]   Package stopwords is already up-to-date!\n",
      "[nltk_data] Downloading package punkt to /home/pawel/nltk_data...\n",
      "[nltk_data]   Package punkt is already up-to-date!\n",
      "[nltk_data] Downloading package pl196x to /home/pawel/nltk_data...\n",
      "[nltk_data]   Package pl196x is already up-to-date!\n",
      "[nltk_data] Downloading package wordnet to /home/pawel/nltk_data...\n",
      "[nltk_data]   Package wordnet is already up-to-date!\n"
     ]
    }
   ],
   "execution_count": 1
  },
  {
   "metadata": {},
   "cell_type": "markdown",
   "source": "# Init models",
   "id": "aa11ea5bb643bbae"
  },
  {
   "metadata": {},
   "cell_type": "code",
   "source": "#init_polish_perplexity_model()",
   "id": "376c7dcbe111c83",
   "outputs": [],
   "execution_count": null
  },
  {
   "metadata": {
    "ExecuteTime": {
     "end_time": "2024-10-31T16:43:35.292786Z",
     "start_time": "2024-10-31T16:43:32.931124Z"
    }
   },
   "cell_type": "code",
   "source": "init_spacy_polish_nlp_model()",
   "id": "45e6fbff70719421",
   "outputs": [],
   "execution_count": 2
  },
  {
   "metadata": {
    "ExecuteTime": {
     "end_time": "2024-10-31T16:43:37.551456Z",
     "start_time": "2024-10-31T16:43:35.295080Z"
    }
   },
   "cell_type": "code",
   "source": "init_language_tool_pl()",
   "id": "5f0f12425194cd7e",
   "outputs": [],
   "execution_count": 3
  },
  {
   "metadata": {},
   "cell_type": "markdown",
   "source": "# Load data",
   "id": "6b8ba79ead8e4fd3"
  },
  {
   "metadata": {
    "ExecuteTime": {
     "end_time": "2024-10-31T16:43:38.479406Z",
     "start_time": "2024-10-31T16:43:38.475731Z"
    }
   },
   "cell_type": "code",
   "source": [
    "dao_lab_reports = DAOLabReport()\n",
    "dao_attributes = DAOAttributePL()"
   ],
   "id": "7df73c3cca1f8966",
   "outputs": [],
   "execution_count": 4
  },
  {
   "metadata": {
    "ExecuteTime": {
     "end_time": "2024-10-31T16:43:38.853128Z",
     "start_time": "2024-10-31T16:43:38.812009Z"
    }
   },
   "cell_type": "code",
   "source": [
    "real_lab_reports: List[LabReportInDB] = dao_lab_reports.find_many_by_query({'is_generated': False})\n",
    "generated_lab_reports: List[LabReportInDB] = dao_lab_reports.find_many_by_query({'is_generated': True})"
   ],
   "id": "7df9cf0daf21b874",
   "outputs": [],
   "execution_count": 5
  },
  {
   "metadata": {},
   "cell_type": "markdown",
   "source": "# Imports",
   "id": "c3d1b6daf37cfb98"
  },
  {
   "metadata": {
    "jupyter": {
     "is_executing": true
    },
    "ExecuteTime": {
     "start_time": "2024-10-31T16:43:39.806410Z"
    }
   },
   "cell_type": "code",
   "source": [
    "for real_lab_report in tqdm(real_lab_reports, total=len(real_lab_reports), desc=f'Calculating real lab reports statistics', unit='Lab reports', miniters=1):\n",
    "    text_to_analyse = remove_report_tags(real_lab_report.plaintext_content)\n",
    "    text_to_analyse = replace_whitespaces(text_to_analyse)\n",
    "    text_to_analyse = replace_links_with_text(text_to_analyse)\n",
    "    with suppress_stdout():\n",
    "        analysis_result = perform_full_analysis(text_to_analyse, 'pl')\n",
    "    attribute_to_insert = AttributePL(\n",
    "        referenced_db_name='lab_reports',\n",
    "        referenced_doc_id=real_lab_report.id,\n",
    "        language=\"pl\",\n",
    "        is_generated=False,\n",
    "        is_personal=None,\n",
    "        **analysis_result.dict()\n",
    "    )\n",
    "    dao_attributes.insert_one(attribute_to_insert)\n",
    "    \n",
    "for generated_lab_report in tqdm(generated_lab_reports, total=len(generated_lab_reports), desc=f'Calculating generated lab reports statistics', unit='Lab reports', miniters=1):\n",
    "    text_to_analyse = remove_report_tags(real_lab_report.plaintext_content)\n",
    "    text_to_analyse = replace_whitespaces(text_to_analyse)\n",
    "    text_to_analyse = replace_links_with_text(text_to_analyse)\n",
    "    with suppress_stdout():\n",
    "        analysis_result = perform_full_analysis(text_to_analyse, 'pl')\n",
    "    attribute_to_insert = AttributePL(\n",
    "        referenced_db_name='lab_reports',\n",
    "        referenced_doc_id=generated_lab_report.id,\n",
    "        language=\"pl\",\n",
    "        is_generated=True,\n",
    "        is_personal=None,\n",
    "        **analysis_result.dict()\n",
    "    )\n",
    "    dao_attributes.insert_one(attribute_to_insert)"
   ],
   "id": "f3eb3efa9366b4cd",
   "outputs": [
    {
     "name": "stderr",
     "output_type": "stream",
     "text": [
      "Calculating real lab reports statistics:   9%|▉         | 40/436 [08:34<54:57,  8.33s/Lab reports]  Token indices sequence length is longer than the specified maximum sequence length for this model (554 > 512). Running this sequence through the model will result in indexing errors\n",
      "Calculating real lab reports statistics:  10%|█         | 45/436 [09:27<59:09,  9.08s/Lab reports]  Token indices sequence length is longer than the specified maximum sequence length for this model (648 > 512). Running this sequence through the model will result in indexing errors\n",
      "Calculating real lab reports statistics:  11%|█         | 47/436 [11:16<3:01:17, 27.96s/Lab reports]Token indices sequence length is longer than the specified maximum sequence length for this model (563 > 512). Running this sequence through the model will result in indexing errors\n",
      "Calculating real lab reports statistics:  12%|█▏        | 54/436 [13:38<1:12:58, 11.46s/Lab reports]Token indices sequence length is longer than the specified maximum sequence length for this model (802 > 512). Running this sequence through the model will result in indexing errors\n",
      "Calculating real lab reports statistics:  14%|█▍        | 61/436 [16:33<1:24:58, 13.60s/Lab reports]Token indices sequence length is longer than the specified maximum sequence length for this model (1046 > 512). Running this sequence through the model will result in indexing errors\n",
      "Calculating real lab reports statistics:  14%|█▍        | 63/436 [17:02<1:25:26, 13.74s/Lab reports]Token indices sequence length is longer than the specified maximum sequence length for this model (519 > 512). Running this sequence through the model will result in indexing errors\n",
      "Calculating real lab reports statistics:  15%|█▍        | 64/436 [17:50<2:28:26, 23.94s/Lab reports]"
     ]
    }
   ],
   "execution_count": null
  },
  {
   "metadata": {},
   "cell_type": "code",
   "outputs": [],
   "execution_count": null,
   "source": "",
   "id": "a6eee721478ff880"
  }
 ],
 "metadata": {
  "kernelspec": {
   "display_name": "Python 3",
   "language": "python",
   "name": "python3"
  },
  "language_info": {
   "codemirror_mode": {
    "name": "ipython",
    "version": 2
   },
   "file_extension": ".py",
   "mimetype": "text/x-python",
   "name": "python",
   "nbconvert_exporter": "python",
   "pygments_lexer": "ipython2",
   "version": "2.7.6"
  }
 },
 "nbformat": 4,
 "nbformat_minor": 5
}
