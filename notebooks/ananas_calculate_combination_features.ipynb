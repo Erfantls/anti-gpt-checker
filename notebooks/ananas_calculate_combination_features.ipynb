{
 "cells": [
  {
   "cell_type": "code",
   "id": "initial_id",
   "metadata": {
    "collapsed": true,
    "ExecuteTime": {
     "end_time": "2025-03-29T17:26:43.490197Z",
     "start_time": "2025-03-29T17:26:40.356256Z"
    }
   },
   "source": [
    "from typing import List\n",
    "from tqdm import tqdm\n",
    "\n",
    "from dao.attribute import DAOAttributePL\n",
    "\n",
    "from models.attribute import AttributePLInDB\n",
    "from models.combination_features import CombinationFeatures"
   ],
   "outputs": [],
   "execution_count": 1
  },
  {
   "metadata": {
    "ExecuteTime": {
     "end_time": "2025-03-29T17:27:42.166209Z",
     "start_time": "2025-03-29T17:26:44.825589Z"
    }
   },
   "cell_type": "code",
   "source": [
    "dao_attributes = DAOAttributePL(collection_name=\"attributes_24-03-25\")\n",
    "not_processed_word_dict: List[AttributePLInDB] = dao_attributes.find_many_by_query({})"
   ],
   "id": "232cf1830e489158",
   "outputs": [],
   "execution_count": 2
  },
  {
   "metadata": {
    "ExecuteTime": {
     "end_time": "2025-03-29T17:28:44.977708Z",
     "start_time": "2025-03-29T17:28:44.771742Z"
    }
   },
   "cell_type": "code",
   "source": [
    "for attribute_in_db in tqdm(not_processed_word_dict, total=len(not_processed_word_dict),\n",
    "                            desc=f'Calculating combination features of lab reports', unit='Lab reports', miniters=1):\n",
    "    partial_attributes_values_dicts: list[dict] =\\\n",
    "            [partial_attribute.attribute.dict() for partial_attribute in attribute_in_db.partial_attributes]\n",
    "    combination_features = CombinationFeatures.init_from_stylometrix_and_partial_attributes(attribute_in_db.stylometrix_metrics, partial_attributes_values_dicts)\n",
    "\n",
    "    dao_attributes.update_one({'_id': attribute_in_db.id},\n",
    "                              {\"$set\": {'combination_features': combination_features.dict()}})"
   ],
   "id": "16785e8d480006c0",
   "outputs": [
    {
     "name": "stderr",
     "output_type": "stream",
     "text": [
      "Calculating combination features of lab reports:   0%|          | 0/4876 [00:00<?, ?Lab reports/s]\n"
     ]
    },
    {
     "ename": "TypeError",
     "evalue": "unsupported operand type(s) for +: 'dict' and 'dict'",
     "output_type": "error",
     "traceback": [
      "\u001B[0;31m---------------------------------------------------------------------------\u001B[0m",
      "\u001B[0;31mTypeError\u001B[0m                                 Traceback (most recent call last)",
      "Cell \u001B[0;32mIn[3], line 5\u001B[0m\n\u001B[1;32m      1\u001B[0m \u001B[38;5;28;01mfor\u001B[39;00m attribute_in_db \u001B[38;5;129;01min\u001B[39;00m tqdm(not_processed_word_dict, total\u001B[38;5;241m=\u001B[39m\u001B[38;5;28mlen\u001B[39m(not_processed_word_dict),\n\u001B[1;32m      2\u001B[0m                             desc\u001B[38;5;241m=\u001B[39m\u001B[38;5;124mf\u001B[39m\u001B[38;5;124m'\u001B[39m\u001B[38;5;124mCalculating combination features of lab reports\u001B[39m\u001B[38;5;124m'\u001B[39m, unit\u001B[38;5;241m=\u001B[39m\u001B[38;5;124m'\u001B[39m\u001B[38;5;124mLab reports\u001B[39m\u001B[38;5;124m'\u001B[39m, miniters\u001B[38;5;241m=\u001B[39m\u001B[38;5;241m1\u001B[39m):\n\u001B[1;32m      3\u001B[0m     partial_attributes_values_dicts: \u001B[38;5;28mlist\u001B[39m[\u001B[38;5;28mdict\u001B[39m] \u001B[38;5;241m=\u001B[39m\\\n\u001B[1;32m      4\u001B[0m             [partial_attribute\u001B[38;5;241m.\u001B[39mattribute\u001B[38;5;241m.\u001B[39mdict() \u001B[38;5;28;01mfor\u001B[39;00m partial_attribute \u001B[38;5;129;01min\u001B[39;00m attribute_in_db\u001B[38;5;241m.\u001B[39mpartial_attributes]\n\u001B[0;32m----> 5\u001B[0m     combination_features \u001B[38;5;241m=\u001B[39m \u001B[43mCombinationFeatures\u001B[49m\u001B[38;5;241;43m.\u001B[39;49m\u001B[43minit_from_stylometrix_and_partial_attributes\u001B[49m\u001B[43m(\u001B[49m\u001B[43mattribute_in_db\u001B[49m\u001B[38;5;241;43m.\u001B[39;49m\u001B[43mstylometrix_metrics\u001B[49m\u001B[43m,\u001B[49m\u001B[43m \u001B[49m\u001B[43mpartial_attributes_values_dicts\u001B[49m\u001B[43m)\u001B[49m\n\u001B[1;32m      7\u001B[0m     dao_attributes\u001B[38;5;241m.\u001B[39mupdate_one({\u001B[38;5;124m'\u001B[39m\u001B[38;5;124m_id\u001B[39m\u001B[38;5;124m'\u001B[39m: attribute_in_db\u001B[38;5;241m.\u001B[39mid},\n\u001B[1;32m      8\u001B[0m                               {\u001B[38;5;124m\"\u001B[39m\u001B[38;5;124m$set\u001B[39m\u001B[38;5;124m\"\u001B[39m: {\u001B[38;5;124m'\u001B[39m\u001B[38;5;124mcombination_features\u001B[39m\u001B[38;5;124m'\u001B[39m: combination_features\u001B[38;5;241m.\u001B[39mdict()}})\n",
      "File \u001B[0;32m/mnt/e/Dev/GitHub/anti-gpt-checker/models/combination_features.py:65\u001B[0m, in \u001B[0;36mCombinationFeatures.init_from_stylometrix_and_partial_attributes\u001B[0;34m(stylometrix_metrics, partial_attributes_dicts)\u001B[0m\n\u001B[1;32m     63\u001B[0m     \u001B[38;5;28;01mfor\u001B[39;00m key \u001B[38;5;129;01min\u001B[39;00m partial_attributes_dicts[\u001B[38;5;241m0\u001B[39m]:\n\u001B[1;32m     64\u001B[0m         values \u001B[38;5;241m=\u001B[39m [partial_attribute[key] \u001B[38;5;28;01mfor\u001B[39;00m partial_attribute \u001B[38;5;129;01min\u001B[39;00m partial_attributes_dicts]\n\u001B[0;32m---> 65\u001B[0m         partial_attribute_statistics\u001B[38;5;241m.\u001B[39mappend(\u001B[43mPartialAttributeStatistics\u001B[49m\u001B[38;5;241;43m.\u001B[39;49m\u001B[43minit_from_key_and_values\u001B[49m\u001B[43m(\u001B[49m\u001B[43mkey\u001B[49m\u001B[43m,\u001B[49m\u001B[43m \u001B[49m\u001B[43mvalues\u001B[49m\u001B[43m)\u001B[49m)\n\u001B[1;32m     66\u001B[0m \u001B[38;5;28;01melse\u001B[39;00m:\n\u001B[1;32m     67\u001B[0m     partial_attribute_statistics \u001B[38;5;241m=\u001B[39m \u001B[38;5;28;01mNone\u001B[39;00m\n",
      "File \u001B[0;32m/mnt/e/Dev/GitHub/anti-gpt-checker/models/combination_features.py:28\u001B[0m, in \u001B[0;36mPartialAttributeStatistics.init_from_key_and_values\u001B[0;34m(key, values)\u001B[0m\n\u001B[1;32m     26\u001B[0m     average \u001B[38;5;241m=\u001B[39m values[\u001B[38;5;241m0\u001B[39m]\n\u001B[1;32m     27\u001B[0m \u001B[38;5;28;01melse\u001B[39;00m:\n\u001B[0;32m---> 28\u001B[0m     std_dev \u001B[38;5;241m=\u001B[39m \u001B[43mstd\u001B[49m\u001B[43m(\u001B[49m\u001B[43mvalues\u001B[49m\u001B[43m)\u001B[49m\n\u001B[1;32m     29\u001B[0m     variance \u001B[38;5;241m=\u001B[39m var(values)\n\u001B[1;32m     30\u001B[0m     average \u001B[38;5;241m=\u001B[39m mean(values)\n",
      "File \u001B[0;32m~/.virtualenvs/anti-gpt-checker/lib/python3.10/site-packages/numpy/core/fromnumeric.py:3645\u001B[0m, in \u001B[0;36mstd\u001B[0;34m(a, axis, dtype, out, ddof, keepdims, where)\u001B[0m\n\u001B[1;32m   3642\u001B[0m     \u001B[38;5;28;01melse\u001B[39;00m:\n\u001B[1;32m   3643\u001B[0m         \u001B[38;5;28;01mreturn\u001B[39;00m std(axis\u001B[38;5;241m=\u001B[39maxis, dtype\u001B[38;5;241m=\u001B[39mdtype, out\u001B[38;5;241m=\u001B[39mout, ddof\u001B[38;5;241m=\u001B[39mddof, \u001B[38;5;241m*\u001B[39m\u001B[38;5;241m*\u001B[39mkwargs)\n\u001B[0;32m-> 3645\u001B[0m \u001B[38;5;28;01mreturn\u001B[39;00m \u001B[43m_methods\u001B[49m\u001B[38;5;241;43m.\u001B[39;49m\u001B[43m_std\u001B[49m\u001B[43m(\u001B[49m\u001B[43ma\u001B[49m\u001B[43m,\u001B[49m\u001B[43m \u001B[49m\u001B[43maxis\u001B[49m\u001B[38;5;241;43m=\u001B[39;49m\u001B[43maxis\u001B[49m\u001B[43m,\u001B[49m\u001B[43m \u001B[49m\u001B[43mdtype\u001B[49m\u001B[38;5;241;43m=\u001B[39;49m\u001B[43mdtype\u001B[49m\u001B[43m,\u001B[49m\u001B[43m \u001B[49m\u001B[43mout\u001B[49m\u001B[38;5;241;43m=\u001B[39;49m\u001B[43mout\u001B[49m\u001B[43m,\u001B[49m\u001B[43m \u001B[49m\u001B[43mddof\u001B[49m\u001B[38;5;241;43m=\u001B[39;49m\u001B[43mddof\u001B[49m\u001B[43m,\u001B[49m\n\u001B[1;32m   3646\u001B[0m \u001B[43m                     \u001B[49m\u001B[38;5;241;43m*\u001B[39;49m\u001B[38;5;241;43m*\u001B[39;49m\u001B[43mkwargs\u001B[49m\u001B[43m)\u001B[49m\n",
      "File \u001B[0;32m~/.virtualenvs/anti-gpt-checker/lib/python3.10/site-packages/numpy/core/_methods.py:206\u001B[0m, in \u001B[0;36m_std\u001B[0;34m(a, axis, dtype, out, ddof, keepdims, where)\u001B[0m\n\u001B[1;32m    204\u001B[0m \u001B[38;5;28;01mdef\u001B[39;00m\u001B[38;5;250m \u001B[39m\u001B[38;5;21m_std\u001B[39m(a, axis\u001B[38;5;241m=\u001B[39m\u001B[38;5;28;01mNone\u001B[39;00m, dtype\u001B[38;5;241m=\u001B[39m\u001B[38;5;28;01mNone\u001B[39;00m, out\u001B[38;5;241m=\u001B[39m\u001B[38;5;28;01mNone\u001B[39;00m, ddof\u001B[38;5;241m=\u001B[39m\u001B[38;5;241m0\u001B[39m, keepdims\u001B[38;5;241m=\u001B[39m\u001B[38;5;28;01mFalse\u001B[39;00m, \u001B[38;5;241m*\u001B[39m,\n\u001B[1;32m    205\u001B[0m          where\u001B[38;5;241m=\u001B[39m\u001B[38;5;28;01mTrue\u001B[39;00m):\n\u001B[0;32m--> 206\u001B[0m     ret \u001B[38;5;241m=\u001B[39m \u001B[43m_var\u001B[49m\u001B[43m(\u001B[49m\u001B[43ma\u001B[49m\u001B[43m,\u001B[49m\u001B[43m \u001B[49m\u001B[43maxis\u001B[49m\u001B[38;5;241;43m=\u001B[39;49m\u001B[43maxis\u001B[49m\u001B[43m,\u001B[49m\u001B[43m \u001B[49m\u001B[43mdtype\u001B[49m\u001B[38;5;241;43m=\u001B[39;49m\u001B[43mdtype\u001B[49m\u001B[43m,\u001B[49m\u001B[43m \u001B[49m\u001B[43mout\u001B[49m\u001B[38;5;241;43m=\u001B[39;49m\u001B[43mout\u001B[49m\u001B[43m,\u001B[49m\u001B[43m \u001B[49m\u001B[43mddof\u001B[49m\u001B[38;5;241;43m=\u001B[39;49m\u001B[43mddof\u001B[49m\u001B[43m,\u001B[49m\n\u001B[1;32m    207\u001B[0m \u001B[43m               \u001B[49m\u001B[43mkeepdims\u001B[49m\u001B[38;5;241;43m=\u001B[39;49m\u001B[43mkeepdims\u001B[49m\u001B[43m,\u001B[49m\u001B[43m \u001B[49m\u001B[43mwhere\u001B[49m\u001B[38;5;241;43m=\u001B[39;49m\u001B[43mwhere\u001B[49m\u001B[43m)\u001B[49m\n\u001B[1;32m    209\u001B[0m     \u001B[38;5;28;01mif\u001B[39;00m \u001B[38;5;28misinstance\u001B[39m(ret, mu\u001B[38;5;241m.\u001B[39mndarray):\n\u001B[1;32m    210\u001B[0m         ret \u001B[38;5;241m=\u001B[39m um\u001B[38;5;241m.\u001B[39msqrt(ret, out\u001B[38;5;241m=\u001B[39mret)\n",
      "File \u001B[0;32m~/.virtualenvs/anti-gpt-checker/lib/python3.10/site-packages/numpy/core/_methods.py:152\u001B[0m, in \u001B[0;36m_var\u001B[0;34m(a, axis, dtype, out, ddof, keepdims, where)\u001B[0m\n\u001B[1;32m    147\u001B[0m     dtype \u001B[38;5;241m=\u001B[39m mu\u001B[38;5;241m.\u001B[39mdtype(\u001B[38;5;124m'\u001B[39m\u001B[38;5;124mf8\u001B[39m\u001B[38;5;124m'\u001B[39m)\n\u001B[1;32m    149\u001B[0m \u001B[38;5;66;03m# Compute the mean.\u001B[39;00m\n\u001B[1;32m    150\u001B[0m \u001B[38;5;66;03m# Note that if dtype is not of inexact type then arraymean will\u001B[39;00m\n\u001B[1;32m    151\u001B[0m \u001B[38;5;66;03m# not be either.\u001B[39;00m\n\u001B[0;32m--> 152\u001B[0m arrmean \u001B[38;5;241m=\u001B[39m \u001B[43mumr_sum\u001B[49m\u001B[43m(\u001B[49m\u001B[43marr\u001B[49m\u001B[43m,\u001B[49m\u001B[43m \u001B[49m\u001B[43maxis\u001B[49m\u001B[43m,\u001B[49m\u001B[43m \u001B[49m\u001B[43mdtype\u001B[49m\u001B[43m,\u001B[49m\u001B[43m \u001B[49m\u001B[43mkeepdims\u001B[49m\u001B[38;5;241;43m=\u001B[39;49m\u001B[38;5;28;43;01mTrue\u001B[39;49;00m\u001B[43m,\u001B[49m\u001B[43m \u001B[49m\u001B[43mwhere\u001B[49m\u001B[38;5;241;43m=\u001B[39;49m\u001B[43mwhere\u001B[49m\u001B[43m)\u001B[49m\n\u001B[1;32m    153\u001B[0m \u001B[38;5;66;03m# The shape of rcount has to match arrmean to not change the shape of out\u001B[39;00m\n\u001B[1;32m    154\u001B[0m \u001B[38;5;66;03m# in broadcasting. Otherwise, it cannot be stored back to arrmean.\u001B[39;00m\n\u001B[1;32m    155\u001B[0m \u001B[38;5;28;01mif\u001B[39;00m rcount\u001B[38;5;241m.\u001B[39mndim \u001B[38;5;241m==\u001B[39m \u001B[38;5;241m0\u001B[39m:\n\u001B[1;32m    156\u001B[0m     \u001B[38;5;66;03m# fast-path for default case when where is True\u001B[39;00m\n",
      "\u001B[0;31mTypeError\u001B[0m: unsupported operand type(s) for +: 'dict' and 'dict'"
     ]
    }
   ],
   "execution_count": 3
  },
  {
   "metadata": {},
   "cell_type": "code",
   "outputs": [],
   "execution_count": null,
   "source": "",
   "id": "e3e1e212d33d2e55"
  }
 ],
 "metadata": {
  "kernelspec": {
   "display_name": "Python 3",
   "language": "python",
   "name": "python3"
  },
  "language_info": {
   "codemirror_mode": {
    "name": "ipython",
    "version": 2
   },
   "file_extension": ".py",
   "mimetype": "text/x-python",
   "name": "python",
   "nbconvert_exporter": "python",
   "pygments_lexer": "ipython2",
   "version": "2.7.6"
  }
 },
 "nbformat": 4,
 "nbformat_minor": 5
}
