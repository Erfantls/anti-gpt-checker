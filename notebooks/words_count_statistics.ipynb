{
 "cells": [
  {
   "cell_type": "code",
   "id": "initial_id",
   "metadata": {
    "collapsed": true,
    "ExecuteTime": {
     "end_time": "2024-05-13T19:00:57.887467Z",
     "start_time": "2024-05-13T19:00:06.542117Z"
    }
   },
   "source": [
    "from typing import List\n",
    "from dao.email import DAOEmailGenerated, DAORealEmail\n",
    "\n",
    "from dao.attribute import DAOAttribute\n",
    "from models.attribute import AttributeInDB\n",
    "\n",
    "dao_generated_emails: DAOEmailGenerated = DAOEmailGenerated()\n",
    "dao_real_emails: DAORealEmail = DAORealEmail()\n",
    "dao_attribute: DAOAttribute = DAOAttribute()\n",
    "\n",
    "\n",
    "all_attributes: List[AttributeInDB] = dao_attribute.find_many_by_query({})\n",
    "all_generated: List[AttributeInDB] = dao_attribute.find_many_by_query({'is_generated': True})\n",
    "all_real: List[AttributeInDB] = dao_attribute.find_many_by_query({'is_generated': False})\n",
    "\n",
    "generated_personal: List[AttributeInDB] = dao_attribute.find_many_by_query({\"is_generated\": True, 'is_personal': True})\n",
    "real_personal: List[AttributeInDB] = dao_attribute.find_many_by_query({\"is_generated\": False, 'is_personal': True})\n",
    "\n",
    "generated_personal = [attribute for attribute in generated_personal if attribute is not None]\n",
    "real_personal = [attribute for attribute in real_personal if attribute is not None]\n",
    "\n",
    "pl_generated: List[AttributeInDB] = dao_attribute.find_many_by_query({\"is_generated\": True, 'language': 'pl'})\n",
    "pl_real: List[AttributeInDB] = dao_attribute.find_many_by_query({\"is_generated\": False, 'language': 'pl'})\n",
    "\n",
    "en_generated: List[AttributeInDB] = dao_attribute.find_many_by_query({\"is_generated\": True, 'language': 'en'})\n",
    "en_real: List[AttributeInDB] = dao_attribute.find_many_by_query({\"is_generated\": False, 'language': 'en'})\n",
    "\n",
    "pl_generated_personal: List[AttributeInDB] = dao_attribute.find_many_by_query({\"is_generated\": True, 'language': 'pl', 'is_personal': True})\n",
    "pl_real_personal: List[AttributeInDB] = dao_attribute.find_many_by_query({\"is_generated\": False, 'language': 'pl', 'is_personal': True})\n",
    "\n",
    "en_generated_personal: List[AttributeInDB] = dao_attribute.find_many_by_query({\"is_generated\": True, 'language': 'en', 'is_personal': True})\n",
    "en_real_personal: List[AttributeInDB] = dao_attribute.find_many_by_query({\"is_generated\": False, 'language': 'en', 'is_personal': True})"
   ],
   "execution_count": 1,
   "outputs": []
  },
  {
   "metadata": {
    "ExecuteTime": {
     "end_time": "2024-05-13T19:00:57.904028Z",
     "start_time": "2024-05-13T19:00:57.894116Z"
    }
   },
   "cell_type": "code",
   "source": [
    "from analysis.nlp_transformations import remove_stopwords_punctuation_emojis_and_splittings\n",
    "from collections import Counter\n",
    "\n",
    "def get_word_counts(attributes: List[AttributeInDB]):\n",
    "    word_counts = Counter()\n",
    "    for attribute in attributes:\n",
    "        text_split_clean = remove_stopwords_punctuation_emojis_and_splittings(attribute.lemmatized_text, attribute.language)\n",
    "        word_counts.update(text_split_clean)\n",
    "    return word_counts"
   ],
   "id": "a423a1f912879615",
   "execution_count": 2,
   "outputs": []
  },
  {
   "metadata": {
    "ExecuteTime": {
     "end_time": "2024-05-13T19:01:21.621710Z",
     "start_time": "2024-05-13T19:00:57.905718Z"
    }
   },
   "cell_type": "code",
   "source": [
    "word_counts_en_real = get_word_counts(en_real)\n",
    "word_counts_en_generated = get_word_counts(en_generated)\n",
    "word_counts_pl_real = get_word_counts(pl_real)\n",
    "word_counts_pl_generated = get_word_counts(pl_generated)\n",
    "\n",
    "word_counts_en_real_personal = get_word_counts(en_real_personal)\n",
    "word_counts_en_generated_personal = get_word_counts(en_generated_personal)\n",
    "word_counts_pl_real_personal = get_word_counts(pl_real_personal)\n",
    "word_counts_pl_generated_personal = get_word_counts(pl_generated_personal)\n"
   ],
   "id": "6cf8644f56a1202b",
   "execution_count": 3,
   "outputs": []
  },
  {
   "metadata": {
    "ExecuteTime": {
     "end_time": "2024-05-13T19:10:54.740214Z",
     "start_time": "2024-05-13T19:10:54.735574Z"
    }
   },
   "cell_type": "code",
   "source": [
    "from wordcloud import WordCloud\n",
    "import re\n",
    "import matplotlib.pyplot as plt\n",
    "\n",
    "def create_wordcloud(word_counts, title):\n",
    "    wordcloud = WordCloud(width=800, height=400, background_color='white').generate_from_frequencies(word_counts)\n",
    "    plt.figure(figsize=(10, 5))\n",
    "    plt.imshow(wordcloud, interpolation='bilinear')\n",
    "    plt.title(title, size=20)\n",
    "    plt.axis('off')\n",
    "    plt.show()"
   ],
   "id": "59e5672fee21b46d",
   "execution_count": 11,
   "outputs": []
  },
  {
   "metadata": {
    "ExecuteTime": {
     "end_time": "2024-05-13T19:10:57.304623Z",
     "start_time": "2024-05-13T19:10:56.329529Z"
    }
   },
   "cell_type": "code",
   "source": "create_wordcloud(word_counts_en_real_personal, 'English real personal')",
   "id": "504d3dbac2d57246",
   "execution_count": 12,
   "outputs": []
  },
  {
   "metadata": {
    "ExecuteTime": {
     "end_time": "2024-05-13T19:11:23.031871Z",
     "start_time": "2024-05-13T19:11:22.060901Z"
    }
   },
   "cell_type": "code",
   "source": "create_wordcloud(word_counts_en_generated_personal, 'English generated personal')",
   "id": "96a2954d2a29a8f8",
   "execution_count": 14,
   "outputs": []
  },
  {
   "metadata": {
    "ExecuteTime": {
     "end_time": "2024-05-13T19:50:49.749663Z",
     "start_time": "2024-05-13T19:50:48.769647Z"
    }
   },
   "cell_type": "code",
   "source": "create_wordcloud(word_counts_pl_real_personal, 'Polish real personal')",
   "id": "72d8047e5282bf6",
   "execution_count": 15,
   "outputs": []
  },
  {
   "metadata": {
    "ExecuteTime": {
     "end_time": "2024-05-13T19:52:16.383940Z",
     "start_time": "2024-05-13T19:52:15.246623Z"
    }
   },
   "cell_type": "code",
   "source": "create_wordcloud(word_counts_pl_generated_personal, 'Polish generated personal')",
   "id": "bcae308b078da6c6",
   "execution_count": 16,
   "outputs": []
  },
  {
   "metadata": {},
   "cell_type": "code",
   "execution_count": null,
   "source": "",
   "id": "c5825c8299367291",
   "outputs": []
  }
 ],
 "metadata": {
  "kernelspec": {
   "display_name": "Python 3",
   "language": "python",
   "name": "python3"
  },
  "language_info": {
   "codemirror_mode": {
    "name": "ipython",
    "version": 2
   },
   "file_extension": ".py",
   "mimetype": "text/x-python",
   "name": "python",
   "nbconvert_exporter": "python",
   "pygments_lexer": "ipython2",
   "version": "2.7.6"
  }
 },
 "nbformat": 4,
 "nbformat_minor": 5
}
