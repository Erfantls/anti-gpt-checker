{
 "cells": [
  {
   "cell_type": "code",
   "execution_count": 11,
   "id": "8143f0e8-1ca5-449a-8f93-e391466956f5",
   "metadata": {},
   "outputs": [],
   "source": [
    "from config import init_polish_perplexity_model, init_spacy_polish_nlp_model, init_language_tool_pl, \\\n",
    "    init_language_tool_en\n",
    "\n",
    "import concurrent.futures\n",
    "\n",
    "from typing import List\n",
    "from tqdm import tqdm\n",
    "\n",
    "from dao.lab_report import DAOLabReport\n",
    "from dao.attribute import DAOAttributePL\n",
    "\n",
    "from models.lab_report import LabReportInDB\n",
    "from models.attribute import AttributePL\n",
    "\n",
    "from analysis.attribute_retriving import perform_full_analysis\n",
    "from analysis.nlp_transformations import preprocess_text\n",
    "from services.utils import suppress_stdout\n",
    "\n",
    "init_spacy_polish_nlp_model()\n",
    "init_language_tool_pl()\n",
    "init_language_tool_en()"
   ]
  },
  {
   "cell_type": "code",
   "execution_count": 47,
   "id": "3206a028-3f6b-40a3-8ace-fa5794a1adc8",
   "metadata": {},
   "outputs": [],
   "source": [
    "def process_file(report: LabReportInDB, is_generated: bool):\n",
    "    text_to_analyse = preprocess_text(report.plaintext_content)\n",
    "    with suppress_stdout():\n",
    "        analysis_result = perform_full_analysis(\n",
    "            text= text_to_analyse, \n",
    "            lang_code='pl'\n",
    "        )\n",
    "        \n",
    "    attribute_to_insert = AttributePL(\n",
    "        referenced_db_name='lab_reports',\n",
    "        referenced_doc_id=report.id,\n",
    "        language=\"pl\",\n",
    "        is_generated=is_generated,\n",
    "        is_personal=None,\n",
    "        **analysis_result.dict()\n",
    "    )\n",
    "\n",
    "    return attribute_to_insert"
   ]
  },
  {
   "cell_type": "code",
   "execution_count": 56,
   "id": "ffb56338-4eba-4941-9285-835fa18b3f1c",
   "metadata": {},
   "outputs": [],
   "source": [
    "from concurrent.futures import ProcessPoolExecutor, as_completed\n",
    "from tqdm import tqdm\n",
    "\n",
    "def process(report_db: str, attributes_db: str):    \n",
    "    dao_lab_reports = DAOLabReport(report_db)\n",
    "    dao_attributes = DAOAttributePL(attributes_db)\n",
    "    \n",
    "    real_lab_reports: List[LabReportInDB] = dao_lab_reports.find_many_by_query({'is_generated': False})\n",
    "    gen_lab_reports: List[LabReportInDB] = dao_lab_reports.find_many_by_query({'is_generated': True})\n",
    "    alreadyprocessed_lab_reports = dao_attributes.find_many_by_query({})\n",
    "    alreadyprocessed_lab_reports_ids = [report.referenced_doc_id for report in alreadyprocessed_lab_reports]\n",
    "    real_lab_reports = [report for report in real_lab_reports if report.id not in alreadyprocessed_lab_reports_ids]\n",
    "    gen_lab_reports = [report for report in gen_lab_reports if report.id not in alreadyprocessed_lab_reports_ids]\n",
    "\n",
    "    with ProcessPoolExecutor() as executor:\n",
    "    # Step 1: Preprocess real lab reports\n",
    "        tasks = [executor.submit(process_file, lab_report, False) for lab_report in real_lab_reports]\n",
    "            \n",
    "        for future in tqdm(as_completed(tasks), desc=\"Real lab\", total=len(tasks)):\n",
    "            try:\n",
    "                attribute_to_insert = future.result()\n",
    "                dao_attributes.insert_one(attribute_to_insert)\n",
    "            except Exception as e:\n",
    "                print(e)\n",
    "    \n",
    "        tasks = [executor.submit(process_file, lab_report, True) for lab_report in gen_lab_reports]   \n",
    "        for future in tqdm(as_completed(tasks), desc=\"Gen lab\", total=len(tasks)):\n",
    "            try:\n",
    "                attribute_to_insert = future.result()\n",
    "                dao_attributes.insert_one(attribute_to_insert)\n",
    "            except Exception as e:\n",
    "                print(e)"
   ]
  },
  {
   "cell_type": "code",
   "execution_count": null,
   "id": "45a88665-231f-44ef-ba18-1eba948fa9b9",
   "metadata": {},
   "outputs": [],
   "source": [
    "report_db = 'lab_reports-24-12-16'\n",
    "# attributes_db = 'attributes-24-12-16-recalc-24-12-21.N'\n",
    "process(report_db = report_db, attributes_db = attributes_db)"
   ]
  }
 ],
 "metadata": {
  "kernelspec": {
   "display_name": "Python 3.10 (extraction)",
   "language": "python",
   "name": "fe"
  },
  "language_info": {
   "codemirror_mode": {
    "name": "ipython",
    "version": 3
   },
   "file_extension": ".py",
   "mimetype": "text/x-python",
   "name": "python",
   "nbconvert_exporter": "python",
   "pygments_lexer": "ipython3",
   "version": "3.10.16"
  }
 },
 "nbformat": 4,
 "nbformat_minor": 5
}
