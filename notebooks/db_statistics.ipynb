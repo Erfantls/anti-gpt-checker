{
 "cells": [
  {
   "cell_type": "code",
   "execution_count": 32,
   "metadata": {
    "collapsed": true,
    "ExecuteTime": {
     "end_time": "2024-03-17T22:20:54.823961600Z",
     "start_time": "2024-03-17T22:20:54.798016800Z"
    }
   },
   "outputs": [],
   "source": [
    "from dao.email import DAOEmailGenerated\n",
    "dao_generated_emails = DAOEmailGenerated()\n",
    "generated_from_gmail1 = dao_generated_emails.find_many_by_query({'og_db_name': 'gmail3'})"
   ]
  },
  {
   "cell_type": "code",
   "execution_count": 33,
   "outputs": [],
   "source": [
    "ids = [x.og_doc_id for x in generated_from_gmail1]"
   ],
   "metadata": {
    "collapsed": false,
    "ExecuteTime": {
     "end_time": "2024-03-17T22:20:55.771915200Z",
     "start_time": "2024-03-17T22:20:55.735718600Z"
    }
   }
  },
  {
   "cell_type": "code",
   "execution_count": 34,
   "outputs": [],
   "source": [
    "from dao.email import AVAILABLE_EMAIL_DAOS\n",
    "\n",
    "dao_og = AVAILABLE_EMAIL_DAOS['gmail3']"
   ],
   "metadata": {
    "collapsed": false,
    "ExecuteTime": {
     "end_time": "2024-03-17T22:20:56.502073800Z",
     "start_time": "2024-03-17T22:20:56.470055700Z"
    }
   }
  },
  {
   "cell_type": "code",
   "execution_count": 35,
   "outputs": [],
   "source": [
    "og_emails = dao_og.find_many_by_query({'_id': {'$in': ids}})"
   ],
   "metadata": {
    "collapsed": false,
    "ExecuteTime": {
     "end_time": "2024-03-17T22:20:57.435250400Z",
     "start_time": "2024-03-17T22:20:57.394314900Z"
    }
   }
  },
  {
   "cell_type": "code",
   "execution_count": 36,
   "outputs": [
    {
     "data": {
      "text/plain": "21"
     },
     "execution_count": 36,
     "metadata": {},
     "output_type": "execute_result"
    }
   ],
   "source": [
    "len(og_emails)"
   ],
   "metadata": {
    "collapsed": false,
    "ExecuteTime": {
     "end_time": "2024-03-17T22:20:57.999696800Z",
     "start_time": "2024-03-17T22:20:57.961698600Z"
    }
   }
  },
  {
   "cell_type": "code",
   "execution_count": 23,
   "outputs": [],
   "source": [
    "to_regenerate_gmail1 = []\n",
    "to_regenerate_gmail2 = []\n",
    "to_regenerate_gmail3 = []"
   ],
   "metadata": {
    "collapsed": false,
    "ExecuteTime": {
     "end_time": "2024-03-17T22:19:58.661957100Z",
     "start_time": "2024-03-17T22:19:58.634750500Z"
    }
   }
  },
  {
   "cell_type": "code",
   "execution_count": 37,
   "outputs": [],
   "source": [
    "from datetime import datetime\n",
    "\n",
    "for email in og_emails:\n",
    "    # if date later than 2022-11-30\n",
    "    if email.date > datetime(2022, 11, 30):\n",
    "        to_regenerate_gmail3.append(email)"
   ],
   "metadata": {
    "collapsed": false,
    "ExecuteTime": {
     "end_time": "2024-03-17T22:21:04.365884200Z",
     "start_time": "2024-03-17T22:21:04.307981300Z"
    }
   }
  },
  {
   "cell_type": "code",
   "execution_count": 38,
   "outputs": [
    {
     "data": {
      "text/plain": "2"
     },
     "execution_count": 38,
     "metadata": {},
     "output_type": "execute_result"
    }
   ],
   "source": [
    "len(to_regenerate_gmail3)"
   ],
   "metadata": {
    "collapsed": false,
    "ExecuteTime": {
     "end_time": "2024-03-17T22:21:07.661173100Z",
     "start_time": "2024-03-17T22:21:07.632436500Z"
    }
   }
  },
  {
   "cell_type": "code",
   "execution_count": 39,
   "outputs": [
    {
     "data": {
      "text/plain": "1494"
     },
     "execution_count": 39,
     "metadata": {},
     "output_type": "execute_result"
    }
   ],
   "source": [
    "to_regenerate = to_regenerate_gmail1 + to_regenerate_gmail2 + to_regenerate_gmail3\n",
    "len(to_regenerate)"
   ],
   "metadata": {
    "collapsed": false,
    "ExecuteTime": {
     "end_time": "2024-03-17T22:23:11.465338400Z",
     "start_time": "2024-03-17T22:23:11.459331Z"
    }
   }
  },
  {
   "cell_type": "code",
   "execution_count": 40,
   "outputs": [],
   "source": [
    "for email in to_regenerate:\n",
    "    dao_generated_emails.update_one({\"og_doc_id\": email.id},\n",
    "                                        {\"$set\": {\n",
    "                                            'possibly_og_generated': True,\n",
    "                                            }\n",
    "                                        })\n"
   ],
   "metadata": {
    "collapsed": false,
    "ExecuteTime": {
     "end_time": "2024-03-17T22:24:55.019080900Z",
     "start_time": "2024-03-17T22:24:42.189456700Z"
    }
   }
  },
  {
   "cell_type": "code",
   "execution_count": 41,
   "outputs": [
    {
     "data": {
      "text/plain": "1494"
     },
     "execution_count": 41,
     "metadata": {},
     "output_type": "execute_result"
    }
   ],
   "source": [
    "updated = dao_generated_emails.find_many_by_query({'possibly_og_generated': True})\n",
    "len(updated)"
   ],
   "metadata": {
    "collapsed": false,
    "ExecuteTime": {
     "end_time": "2024-03-17T22:26:30.890834100Z",
     "start_time": "2024-03-17T22:26:30.798833200Z"
    }
   }
  },
  {
   "cell_type": "code",
   "execution_count": null,
   "outputs": [],
   "source": [],
   "metadata": {
    "collapsed": false
   }
  }
 ],
 "metadata": {
  "kernelspec": {
   "display_name": "Python 3",
   "language": "python",
   "name": "python3"
  },
  "language_info": {
   "codemirror_mode": {
    "name": "ipython",
    "version": 2
   },
   "file_extension": ".py",
   "mimetype": "text/x-python",
   "name": "python",
   "nbconvert_exporter": "python",
   "pygments_lexer": "ipython2",
   "version": "2.7.6"
  }
 },
 "nbformat": 4,
 "nbformat_minor": 0
}
