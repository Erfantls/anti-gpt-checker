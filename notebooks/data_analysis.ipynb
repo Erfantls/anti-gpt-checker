{
 "cells": [
  {
   "cell_type": "code",
   "execution_count": 24,
   "metadata": {
    "collapsed": true,
    "ExecuteTime": {
     "end_time": "2024-02-27T21:36:53.944993400Z",
     "start_time": "2024-02-27T21:36:53.941992500Z"
    }
   },
   "source": [
    "import time\n",
    "import re\n",
    "from typing import List\n",
    "\n",
    "\n",
    "from dao.base import DAOBase\n",
    "from dao.email import DAOEmail, DAOEmailGmail, AVAILABLE_EMAIL_DAOS\n",
    "from models.email import Email, EmailGithub, EmailGmail\n",
    "from dao.email import DAOEmailSpamAssassin\n",
    "from analysis.attribute_retriving import extract_strings_from_html, detect_language, detect_language_by_voting\n",
    "from analysis.attribute_statistics import SimpleLanguageStatistics\n",
    "\n",
    "from tqdm import tqdm\n",
    "from dateutil import parser as date_parser\n",
    "import pandas as pd\n",
    "import numpy as np\n",
    "import matplotlib.pyplot as plt\n"
   ],
   "outputs": []
  },
  {
   "cell_type": "code",
   "execution_count": 4,
   "source": [
    "private_emails: List[Email] = []\n",
    "dao = AVAILABLE_EMAIL_DAOS['class_git']\n",
    "private_emails.extend(dao.find_many_by_query({'inner_classification': \"personal\"}))\n",
    "dao = AVAILABLE_EMAIL_DAOS['spam_assassin']\n",
    "private_emails.extend(dao.find_many_by_query({'is_spam': False}))\n",
    "dao = AVAILABLE_EMAIL_DAOS['gmail1']\n",
    "private_emails.extend(dao.find_many_by_query({'email_labels': {'$not':{'$regex': \"Kategori\"}}}))\n",
    "dao = AVAILABLE_EMAIL_DAOS['gmail2']\n",
    "private_emails.extend(dao.find_many_by_query({'email_labels': {'$not':{'$regex': \"Kategori\"}}}))\n",
    "dao = AVAILABLE_EMAIL_DAOS['gmail3']\n",
    "private_emails.extend(dao.find_many_by_query({'email_labels': {'$not':{'$regex': \"Kategori\"}}}))"
   ],
   "metadata": {
    "collapsed": false,
    "ExecuteTime": {
     "end_time": "2024-02-27T20:46:21.096568700Z",
     "start_time": "2024-02-27T20:46:19.785126700Z"
    }
   },
   "outputs": []
  },
  {
   "cell_type": "code",
   "execution_count": 6,
   "source": [
    "pl_private_emails = [e for e in private_emails if e.detected_language == 'pl']\n",
    "en_private_emails = [e for e in private_emails if e.detected_language == 'en']"
   ],
   "metadata": {
    "collapsed": false,
    "ExecuteTime": {
     "end_time": "2024-02-27T21:06:21.644673500Z",
     "start_time": "2024-02-27T21:06:21.639679100Z"
    }
   },
   "outputs": []
  },
  {
   "cell_type": "code",
   "execution_count": 7,
   "source": [
    "len(pl_private_emails)"
   ],
   "metadata": {
    "collapsed": false,
    "ExecuteTime": {
     "end_time": "2024-02-27T21:08:00.052241300Z",
     "start_time": "2024-02-27T21:08:00.047246300Z"
    }
   },
   "outputs": []
  },
  {
   "cell_type": "code",
   "execution_count": 8,
   "source": [
    "len(en_private_emails)"
   ],
   "metadata": {
    "collapsed": false,
    "ExecuteTime": {
     "end_time": "2024-02-27T21:08:09.490460100Z",
     "start_time": "2024-02-27T21:08:09.485457400Z"
    }
   },
   "outputs": []
  },
  {
   "cell_type": "code",
   "execution_count": 11,
   "source": [
    "all_emails: List[Email] = []\n",
    "for dao_name in AVAILABLE_EMAIL_DAOS:\n",
    "    dao = AVAILABLE_EMAIL_DAOS[dao_name]\n",
    "    all_emails.extend(dao.find_many_by_query({}))"
   ],
   "metadata": {
    "collapsed": false
   },
   "outputs": []
  },
  {
   "cell_type": "code",
   "execution_count": 12,
   "source": [
    "len(all_emails)"
   ],
   "metadata": {
    "collapsed": false,
    "ExecuteTime": {
     "end_time": "2024-02-27T21:19:25.105435700Z",
     "start_time": "2024-02-27T21:19:25.098890300Z"
    }
   },
   "outputs": []
  },
  {
   "cell_type": "code",
   "execution_count": 13,
   "source": [
    "pl_all_emails = [e for e in all_emails if e.detected_language == 'pl']\n",
    "en_all_emails = [e for e in all_emails if e.detected_language == 'en']"
   ],
   "metadata": {
    "collapsed": false,
    "ExecuteTime": {
     "end_time": "2024-02-27T21:19:57.859564500Z",
     "start_time": "2024-02-27T21:19:57.811005Z"
    }
   },
   "outputs": []
  },
  {
   "cell_type": "code",
   "execution_count": 14,
   "source": [
    "len(pl_all_emails)"
   ],
   "metadata": {
    "collapsed": false,
    "ExecuteTime": {
     "end_time": "2024-02-27T21:20:00.337773500Z",
     "start_time": "2024-02-27T21:20:00.331785Z"
    }
   },
   "outputs": []
  },
  {
   "cell_type": "code",
   "execution_count": 15,
   "source": [
    "len(en_all_emails)"
   ],
   "metadata": {
    "collapsed": false,
    "ExecuteTime": {
     "end_time": "2024-02-27T21:20:02.750512800Z",
     "start_time": "2024-02-27T21:20:02.743513Z"
    }
   },
   "outputs": []
  },
  {
   "cell_type": "code",
   "execution_count": 19,
   "source": [
    "def analyze_text_lengths(texts: list[str]):\n",
    "    # Convert each text into its length (number of characters)\n",
    "    lengths = [len(text) for text in texts]\n",
    "\n",
    "    # Calculate mean, median, and variance\n",
    "    mean_length = np.mean(lengths)\n",
    "    median_length = np.median(lengths)\n",
    "    variance_length = np.var(lengths)\n",
    "\n",
    "    plt.hist(lengths, bins=30, color='skyblue', edgecolor='black', alpha=0.7)\n",
    "    plt.title('Distribution of Text Lengths')\n",
    "    plt.xlabel('Text Length (number of characters)')\n",
    "    plt.ylabel('Frequency')\n",
    "    plt.grid(axis='y', alpha=0.75)\n",
    "\n",
    "    plt.show()\n",
    "\n",
    "    return mean_length, median_length, variance_length"
   ],
   "metadata": {
    "collapsed": false,
    "ExecuteTime": {
     "end_time": "2024-02-27T21:28:52.682921400Z",
     "start_time": "2024-02-27T21:28:52.676895700Z"
    }
   },
   "outputs": []
  },
  {
   "cell_type": "code",
   "execution_count": 20,
   "source": [
    "analyze_text_lengths([e.text_plain for e in pl_private_emails if e.text_plain])"
   ],
   "metadata": {
    "collapsed": false,
    "ExecuteTime": {
     "end_time": "2024-02-27T21:32:13.918578800Z",
     "start_time": "2024-02-27T21:32:13.753470700Z"
    }
   },
   "outputs": []
  },
  {
   "cell_type": "code",
   "execution_count": 21,
   "source": [
    "analyze_text_lengths([e.text_plain for e in en_private_emails if e.text_plain])"
   ],
   "metadata": {
    "collapsed": false,
    "ExecuteTime": {
     "end_time": "2024-02-27T21:32:45.759328800Z",
     "start_time": "2024-02-27T21:32:45.611697700Z"
    }
   },
   "outputs": []
  },
  {
   "cell_type": "code",
   "execution_count": 22,
   "source": [
    "analyze_text_lengths([e.text_plain for e in pl_all_emails if e.text_plain])"
   ],
   "metadata": {
    "collapsed": false,
    "ExecuteTime": {
     "end_time": "2024-02-27T21:33:00.155598300Z",
     "start_time": "2024-02-27T21:32:59.958248700Z"
    }
   },
   "outputs": []
  },
  {
   "cell_type": "code",
   "execution_count": 23,
   "source": [
    "analyze_text_lengths([e.text_plain for e in en_all_emails if e.text_plain])"
   ],
   "metadata": {
    "collapsed": false,
    "ExecuteTime": {
     "end_time": "2024-02-27T21:33:02.636473Z",
     "start_time": "2024-02-27T21:33:02.430277900Z"
    }
   },
   "outputs": []
  },
  {
   "cell_type": "code",
   "execution_count": 25,
   "source": [
    "def analyze_word_counts(texts: list[str]):\n",
    "    # Remove punctuation and count words\n",
    "    word_counts = [len(re.findall(r'\\b\\w+\\b', text)) for text in texts]\n",
    "\n",
    "    # Calculate mean, median, and variance\n",
    "    mean_count = np.mean(word_counts)\n",
    "    median_count = np.median(word_counts)\n",
    "    variance_count = np.var(word_counts)\n",
    "\n",
    "    plt.hist(word_counts, bins=30, color='skyblue', edgecolor='black', alpha=0.7)\n",
    "    plt.title('Distribution of Word Counts')\n",
    "    plt.xlabel('Word Count')\n",
    "    plt.ylabel('Frequency')\n",
    "    plt.grid(axis='y', alpha=0.75)\n",
    "\n",
    "    plt.show()\n",
    "\n",
    "    return mean_count, median_count, variance_count"
   ],
   "metadata": {
    "collapsed": false,
    "ExecuteTime": {
     "end_time": "2024-02-27T21:37:10.742553100Z",
     "start_time": "2024-02-27T21:37:10.727012400Z"
    }
   },
   "outputs": []
  },
  {
   "cell_type": "code",
   "execution_count": 26,
   "source": [
    "analyze_word_counts([e.text_plain for e in pl_private_emails if e.text_plain])"
   ],
   "metadata": {
    "collapsed": false,
    "ExecuteTime": {
     "end_time": "2024-02-27T21:37:18.742145200Z",
     "start_time": "2024-02-27T21:37:18.598111600Z"
    }
   },
   "outputs": []
  },
  {
   "cell_type": "code",
   "execution_count": 27,
   "source": [
    "analyze_word_counts([e.text_plain for e in en_private_emails if e.text_plain])"
   ],
   "metadata": {
    "collapsed": false,
    "ExecuteTime": {
     "end_time": "2024-02-27T21:37:21.910657Z",
     "start_time": "2024-02-27T21:37:20.957632700Z"
    }
   },
   "outputs": []
  },
  {
   "cell_type": "code",
   "execution_count": 28,
   "source": [
    "analyze_word_counts([e.text_plain for e in pl_all_emails if e.text_plain])"
   ],
   "metadata": {
    "collapsed": false,
    "ExecuteTime": {
     "end_time": "2024-02-27T21:37:25.825589900Z",
     "start_time": "2024-02-27T21:37:23.891423300Z"
    }
   },
   "outputs": []
  },
  {
   "cell_type": "code",
   "execution_count": 29,
   "source": [
    "analyze_word_counts([e.text_plain for e in en_all_emails if e.text_plain])"
   ],
   "metadata": {
    "collapsed": false,
    "ExecuteTime": {
     "end_time": "2024-02-27T21:37:29.725715400Z",
     "start_time": "2024-02-27T21:37:27.159443100Z"
    }
   },
   "outputs": []
  },
  {
   "cell_type": "code",
   "execution_count": null,
   "source": [],
   "metadata": {
    "collapsed": false
   },
   "outputs": []
  }
 ],
 "metadata": {
  "kernelspec": {
   "display_name": "Python 3",
   "language": "python",
   "name": "python3"
  },
  "language_info": {
   "codemirror_mode": {
    "name": "ipython",
    "version": 2
   },
   "file_extension": ".py",
   "mimetype": "text/x-python",
   "name": "python",
   "nbconvert_exporter": "python",
   "pygments_lexer": "ipython2",
   "version": "2.7.6"
  }
 },
 "nbformat": 4,
 "nbformat_minor": 0
}
